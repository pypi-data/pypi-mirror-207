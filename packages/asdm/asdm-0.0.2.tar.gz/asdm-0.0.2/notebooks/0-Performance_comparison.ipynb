{
 "cells": [
  {
   "cell_type": "code",
   "execution_count": 1,
   "metadata": {},
   "outputs": [
    {
     "name": "stdout",
     "output_type": "stream",
     "text": [
      "Initializing stock: Stock\n",
      "All stocks initialised.\n"
     ]
    },
    {
     "data": {
      "application/vnd.jupyter.widget-view+json": {
       "model_id": "b4b355d7a12a4ba6a8636a3e8b99cc1e",
       "version_major": 2,
       "version_minor": 0
      },
      "text/plain": [
       "  0%|          | 0/1000 [00:00<?, ?it/s]"
      ]
     },
     "metadata": {},
     "output_type": "display_data"
    },
    {
     "data": {
      "text/plain": [
       "1001"
      ]
     },
     "execution_count": 1,
     "metadata": {},
     "output_type": "execute_result"
    }
   ],
   "source": [
    "from ASDM.Engine import Structure\n",
    "\n",
    "class GoalGap(Structure):\n",
    "    def __init__(self):\n",
    "        super(GoalGap, self).__init__()\n",
    "        self.add_stock(\"Stock\", 100)\n",
    "        self.add_aux(\"Goal\", 20)\n",
    "        self.add_aux(\"Adjustment_time\", 5)\n",
    "        self.add_aux(\"Gap\", \"Goal-Stock\")\n",
    "        self.add_flow(\"Flow\", \"Gap/Adjustment_time\", flow_to=\"Stock\")\n",
    "    \n",
    "model = GoalGap()\n",
    "model.clear_last_run()\n",
    "model.simulate(simulation_time=1000, dt=1)\n",
    "df_outcome = model.export_simulation_result()\n",
    "len(df_outcome)"
   ]
  },
  {
   "cell_type": "code",
   "execution_count": 1,
   "metadata": {},
   "outputs": [
    {
     "name": "stdout",
     "output_type": "stream",
     "text": [
      "Engine: adding stock: Stock=100\n",
      "Engine: adding flow : Flow=Gap/Adjustment_time\n",
      "Engine: adding aux  : Goal=20\n",
      "Engine: adding aux  : Gap=Goal-Stock\n",
      "Engine: adding aux  : Adjustment_time=5\n"
     ]
    },
    {
     "data": {
      "text/plain": [
       "5001"
      ]
     },
     "execution_count": 1,
     "metadata": {},
     "output_type": "execute_result"
    }
   ],
   "source": [
    "from ASDM.EngineNew import Structure\n",
    "\n",
    "class GoalGap(Structure):\n",
    "    def __init__(self):\n",
    "        super(GoalGap, self).__init__()\n",
    "        self.add_stock(\"Stock\", '100')\n",
    "        self.add_flow(\"Flow\", \"Gap/Adjustment_time\", flow_to=\"Stock\")\n",
    "        self.add_aux(\"Goal\", '20')\n",
    "        self.add_aux(\"Gap\", \"Goal-Stock\")\n",
    "        self.add_aux(\"Adjustment_time\", '5')\n",
    "\n",
    "model = GoalGap()\n",
    "model.simulate_backward(simulation_time=5000, dt=1)\n",
    "df_outcome = model.export_simulation_result()\n",
    "len(df_outcome)"
   ]
  }
 ],
 "metadata": {
  "kernelspec": {
   "display_name": "Python 3.8.13 ('asdm38')",
   "language": "python",
   "name": "python3"
  },
  "language_info": {
   "codemirror_mode": {
    "name": "ipython",
    "version": 3
   },
   "file_extension": ".py",
   "mimetype": "text/x-python",
   "name": "python",
   "nbconvert_exporter": "python",
   "pygments_lexer": "ipython3",
   "version": "3.9.0"
  },
  "orig_nbformat": 4,
  "vscode": {
   "interpreter": {
    "hash": "53c92d557bc5c688cfbc8ffaac7a6ebbbee1de4ba658e284fc67a5bc85857945"
   }
  }
 },
 "nbformat": 4,
 "nbformat_minor": 2
}
