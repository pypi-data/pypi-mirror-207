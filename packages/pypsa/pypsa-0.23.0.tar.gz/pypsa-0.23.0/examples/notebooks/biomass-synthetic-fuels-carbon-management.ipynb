{
 "cells": [
  {
   "cell_type": "markdown",
   "metadata": {},
   "source": [
    "# Biomass, synthetic fuels and carbon management\n",
    "\n",
    "In this example we show how to manage different biomass stocks with different potentials and costs, synthetic fuel production, direct air capture (DAC) and carbon capture and usage/sequestration/cycling (CCU/S/C).\n",
    "\n",
    "Demand for electricity and diesel transport have to be met from various biomass sources, natural gas with possibility for carbon capture, electrolysis for hydrogen production, direct air capture of CO2, and diesel synthesis via Fischer-Tropsch.\n",
    "\n",
    "The system has to reach a target of net negative emissions over the period.\n",
    "\n",
    "All numbers/costs/efficiencies are fictitious to allow easy analysis."
   ]
  },
  {
   "cell_type": "code",
   "execution_count": null,
   "metadata": {},
   "outputs": [],
   "source": [
    "import pypsa\n",
    "import numpy as np\n",
    "import matplotlib.pyplot as plt"
   ]
  },
  {
   "cell_type": "markdown",
   "metadata": {},
   "source": [
    "First tell PyPSA that links can have multiple outputs by overriding the component_attrs. This can be done for as many buses as you need with format busi for i = 2,3,4,5,.... \n",
    "\n",
    "See https://pypsa.org/doc/components.html#link-with-multiple-outputs-or-inputs"
   ]
  },
  {
   "cell_type": "code",
   "execution_count": null,
   "metadata": {},
   "outputs": [],
   "source": [
    "override_component_attrs = pypsa.descriptors.Dict(\n",
    "    {k: v.copy() for k, v in pypsa.components.component_attrs.items()}\n",
    ")\n",
    "override_component_attrs[\"Link\"].loc[\"bus2\"] = [\n",
    "    \"string\",\n",
    "    np.nan,\n",
    "    np.nan,\n",
    "    \"2nd bus\",\n",
    "    \"Input (optional)\",\n",
    "]\n",
    "override_component_attrs[\"Link\"].loc[\"bus3\"] = [\n",
    "    \"string\",\n",
    "    np.nan,\n",
    "    np.nan,\n",
    "    \"3rd bus\",\n",
    "    \"Input (optional)\",\n",
    "]\n",
    "override_component_attrs[\"Link\"].loc[\"efficiency2\"] = [\n",
    "    \"static or series\",\n",
    "    \"per unit\",\n",
    "    1.0,\n",
    "    \"2nd bus efficiency\",\n",
    "    \"Input (optional)\",\n",
    "]\n",
    "override_component_attrs[\"Link\"].loc[\"efficiency3\"] = [\n",
    "    \"static or series\",\n",
    "    \"per unit\",\n",
    "    1.0,\n",
    "    \"3rd bus efficiency\",\n",
    "    \"Input (optional)\",\n",
    "]\n",
    "override_component_attrs[\"Link\"].loc[\"p2\"] = [\n",
    "    \"series\",\n",
    "    \"MW\",\n",
    "    0.0,\n",
    "    \"2nd bus output\",\n",
    "    \"Output\",\n",
    "]\n",
    "override_component_attrs[\"Link\"].loc[\"p3\"] = [\n",
    "    \"series\",\n",
    "    \"MW\",\n",
    "    0.0,\n",
    "    \"3rd bus output\",\n",
    "    \"Output\",\n",
    "]"
   ]
  },
  {
   "cell_type": "code",
   "execution_count": null,
   "metadata": {},
   "outputs": [],
   "source": [
    "n = pypsa.Network(override_component_attrs=override_component_attrs)\n",
    "n.set_snapshots(range(10))"
   ]
  },
  {
   "cell_type": "markdown",
   "metadata": {},
   "source": [
    "Add a constant electrical load"
   ]
  },
  {
   "cell_type": "code",
   "execution_count": null,
   "metadata": {},
   "outputs": [],
   "source": [
    "n.add(\"Bus\", \"bus\")\n",
    "n.add(\"Load\", \"load\", bus=\"bus\", p_set=1.0)"
   ]
  },
  {
   "cell_type": "markdown",
   "metadata": {},
   "source": [
    "Add a constant demand for transport"
   ]
  },
  {
   "cell_type": "code",
   "execution_count": null,
   "metadata": {},
   "outputs": [],
   "source": [
    "n.add(\"Bus\", \"transport\")\n",
    "n.add(\"Load\", \"transport\", bus=\"transport\", p_set=1.0)\n",
    "\n",
    "\n",
    "n.add(\"Bus\", \"diesel\")\n",
    "\n",
    "\n",
    "n.add(\"Store\", \"diesel\", bus=\"diesel\", e_cyclic=True, e_nom=1000.0)"
   ]
  },
  {
   "cell_type": "markdown",
   "metadata": {},
   "source": [
    "Add a bus for Hydrogen storage."
   ]
  },
  {
   "cell_type": "code",
   "execution_count": null,
   "metadata": {},
   "outputs": [],
   "source": [
    "n.add(\"Bus\", \"hydrogen\")\n",
    "\n",
    "n.add(\"Store\", \"hydrogen\", bus=\"hydrogen\", e_cyclic=True, e_nom=1000.0)\n",
    "\n",
    "# n.add(\"Load\",\"hydrogen\",\n",
    "#      bus=\"hydrogen\",\n",
    "#      p_set=1.)\n",
    "\n",
    "n.add(\"Link\", \"electrolysis\", p_nom=2.0, efficiency=0.8, bus0=\"bus\", bus1=\"hydrogen\")"
   ]
  },
  {
   "cell_type": "markdown",
   "metadata": {},
   "source": [
    "Allow production of diesel from H2 and CO2 using Fischer-Tropsch"
   ]
  },
  {
   "cell_type": "code",
   "execution_count": null,
   "metadata": {},
   "outputs": [],
   "source": [
    "n.add(\n",
    "    \"Link\",\n",
    "    \"FT\",\n",
    "    p_nom=4,\n",
    "    bus0=\"hydrogen\",\n",
    "    bus1=\"diesel\",\n",
    "    bus2=\"co2 stored\",\n",
    "    efficiency=1.0,\n",
    "    efficiency2=-1,\n",
    ")\n",
    "\n",
    "# minus sign because opposite to how fossil fuels used:\n",
    "# CH4 burning puts CH4 down, atmosphere up\n",
    "n.add(\"Carrier\", \"co2\", co2_emissions=-1.0)\n",
    "\n",
    "# this tracks CO2 in the atmosphere\n",
    "n.add(\"Bus\", \"co2 atmosphere\", carrier=\"co2\")\n",
    "\n",
    "# NB: can also be negative\n",
    "n.add(\"Store\", \"co2 atmosphere\", e_nom=1000, e_min_pu=-1, bus=\"co2 atmosphere\")\n",
    "\n",
    "# this tracks CO2 stored, e.g. underground\n",
    "n.add(\"Bus\", \"co2 stored\")\n",
    "\n",
    "# NB: can also be negative\n",
    "n.add(\"Store\", \"co2 stored\", e_nom=1000, e_min_pu=-1, bus=\"co2 stored\")"
   ]
  },
  {
   "cell_type": "markdown",
   "metadata": {},
   "source": [
    "Direct air capture consumes electricity to take CO2 from the air to the underground store"
   ]
  },
  {
   "cell_type": "code",
   "execution_count": null,
   "metadata": {},
   "outputs": [],
   "source": [
    "n.add(\n",
    "    \"Link\",\n",
    "    \"DAC\",\n",
    "    bus0=\"bus\",\n",
    "    bus1=\"co2 stored\",\n",
    "    bus2=\"co2 atmosphere\",\n",
    "    efficiency=1,\n",
    "    efficiency2=-1,\n",
    "    p_nom=5.0,\n",
    ")"
   ]
  },
  {
   "cell_type": "markdown",
   "metadata": {},
   "source": [
    "Meet transport with diesel"
   ]
  },
  {
   "cell_type": "code",
   "execution_count": null,
   "metadata": {},
   "outputs": [],
   "source": [
    "n.add(\n",
    "    \"Link\",\n",
    "    \"diesel car\",\n",
    "    bus0=\"diesel\",\n",
    "    bus1=\"transport\",\n",
    "    bus2=\"co2 atmosphere\",\n",
    "    efficiency=1.0,\n",
    "    efficiency2=1.0,\n",
    "    p_nom=2.0,\n",
    ")\n",
    "\n",
    "n.add(\"Bus\", \"gas\")\n",
    "\n",
    "n.add(\"Store\", \"gas\", e_initial=50, e_nom=50, marginal_cost=20, bus=\"gas\")\n",
    "\n",
    "n.add(\n",
    "    \"Link\",\n",
    "    \"OCGT\",\n",
    "    bus0=\"gas\",\n",
    "    bus1=\"bus\",\n",
    "    bus2=\"co2 atmosphere\",\n",
    "    p_nom_extendable=True,\n",
    "    efficiency=0.5,\n",
    "    efficiency2=1,\n",
    ")\n",
    "\n",
    "\n",
    "n.add(\n",
    "    \"Link\",\n",
    "    \"OCGT+CCS\",\n",
    "    bus0=\"gas\",\n",
    "    bus1=\"bus\",\n",
    "    bus2=\"co2 stored\",\n",
    "    bus3=\"co2 atmosphere\",\n",
    "    p_nom_extendable=True,\n",
    "    efficiency=0.4,\n",
    "    efficiency2=0.9,\n",
    "    efficiency3=0.1,\n",
    ")"
   ]
  },
  {
   "cell_type": "markdown",
   "metadata": {},
   "source": [
    "Add a cheap and a expensive biomass generator."
   ]
  },
  {
   "cell_type": "code",
   "execution_count": null,
   "metadata": {},
   "outputs": [],
   "source": [
    "biomass_marginal_cost = [20.0, 50.0]\n",
    "biomass_stored = [40.0, 15.0]\n",
    "\n",
    "for i in range(2):\n",
    "    n.add(\"Bus\", \"biomass\" + str(i))\n",
    "\n",
    "    n.add(\n",
    "        \"Store\",\n",
    "        \"biomass\" + str(i),\n",
    "        bus=\"biomass\" + str(i),\n",
    "        e_nom_extendable=True,\n",
    "        marginal_cost=biomass_marginal_cost[i],\n",
    "        e_nom=biomass_stored[i],\n",
    "        e_initial=biomass_stored[i],\n",
    "    )\n",
    "\n",
    "    # simultaneously empties and refills co2 atmosphere\n",
    "    n.add(\n",
    "        \"Link\",\n",
    "        \"biomass\" + str(i),\n",
    "        bus0=\"biomass\" + str(i),\n",
    "        bus1=\"bus\",\n",
    "        p_nom_extendable=True,\n",
    "        efficiency=0.5,\n",
    "    )\n",
    "\n",
    "    n.add(\n",
    "        \"Link\",\n",
    "        \"biomass+CCS\" + str(i),\n",
    "        bus0=\"biomass\" + str(i),\n",
    "        bus1=\"bus\",\n",
    "        bus2=\"co2 stored\",\n",
    "        bus3=\"co2 atmosphere\",\n",
    "        p_nom_extendable=True,\n",
    "        efficiency=0.4,\n",
    "        efficiency2=1.0,\n",
    "        efficiency3=-1,\n",
    "    )\n",
    "\n",
    "\n",
    "# can go to -50, but at some point can't generate enough electricity for DAC and demand\n",
    "target = -50"
   ]
  },
  {
   "cell_type": "markdown",
   "metadata": {},
   "source": [
    "Add a global CO$_2$ constraint."
   ]
  },
  {
   "cell_type": "code",
   "execution_count": null,
   "metadata": {},
   "outputs": [],
   "source": [
    "n.add(\n",
    "    \"GlobalConstraint\",\n",
    "    \"co2_limit\",\n",
    "    sense=\"<=\",\n",
    "    carrier_attribute=\"co2_emissions\",\n",
    "    constant=target,\n",
    ")"
   ]
  },
  {
   "cell_type": "code",
   "execution_count": null,
   "metadata": {},
   "outputs": [],
   "source": [
    "n.optimize();"
   ]
  },
  {
   "cell_type": "markdown",
   "metadata": {},
   "source": [
    "How do the different stores in the system behave?"
   ]
  },
  {
   "cell_type": "code",
   "execution_count": null,
   "metadata": {},
   "outputs": [],
   "source": [
    "n.stores_t.e.plot(figsize=(9, 7), lw=3)\n",
    "plt.tight_layout()"
   ]
  },
  {
   "cell_type": "markdown",
   "metadata": {},
   "source": [
    "Let's have a look at the production"
   ]
  },
  {
   "cell_type": "code",
   "execution_count": null,
   "metadata": {},
   "outputs": [],
   "source": [
    "n.links_t.p0[[\"biomass+CCS0\", \"biomass+CCS1\", \"OCGT+CCS\", \"DAC\"]].plot(\n",
    "    subplots=True, figsize=(9, 7)\n",
    ")\n",
    "plt.tight_layout()"
   ]
  },
  {
   "cell_type": "markdown",
   "metadata": {},
   "source": [
    "At all times, the amount of carbon is constant!"
   ]
  },
  {
   "cell_type": "code",
   "execution_count": null,
   "metadata": {},
   "outputs": [],
   "source": [
    "n.stores_t.e[[\"co2 stored\", \"co2 atmosphere\", \"gas\", \"diesel\"]].sum(axis=1)"
   ]
  }
 ],
 "metadata": {
  "@webio": {
   "lastCommId": null,
   "lastKernelId": null
  },
  "kernelspec": {
   "display_name": "",
   "language": "python",
   "name": ""
  },
  "language_info": {
   "codemirror_mode": {
    "name": "ipython",
    "version": 3
   },
   "file_extension": ".py",
   "mimetype": "text/x-python",
   "name": "python",
   "nbconvert_exporter": "python",
   "pygments_lexer": "ipython3",
   "version": "3.10.9"
  }
 },
 "nbformat": 4,
 "nbformat_minor": 2
}
