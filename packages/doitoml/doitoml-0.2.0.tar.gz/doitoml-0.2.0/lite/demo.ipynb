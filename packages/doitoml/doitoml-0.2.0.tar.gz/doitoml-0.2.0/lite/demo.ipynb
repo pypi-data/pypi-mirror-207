{
 "cells": [
  {
   "cell_type": "markdown",
   "id": "761e0df5-1e2b-4fcd-a9c0-a7462554bd5f",
   "metadata": {},
   "source": [
    "# ![](logo.svg)  `doitoml` interactive demo\n",
    "\n",
    "Learn about `doitoml` by trying it **right now**. "
   ]
  },
  {
   "cell_type": "markdown",
   "id": "9dce3859-1780-448c-86b1-ae481f078982",
   "metadata": {
    "tags": []
   },
   "source": [
    "> **Hint**\n",
    ">\n",
    "> Run cells by pressing the ▶ button, or <kbd>shift+enter</kbd>"
   ]
  },
  {
   "cell_type": "markdown",
   "id": "0778e3b9-96c9-4d3f-aad2-df8e79af4390",
   "metadata": {
    "tags": []
   },
   "source": [
    "> **Hint**\n",
    ">\n",
    "> Also try the [playground](./playground.ipynb)."
   ]
  },
  {
   "cell_type": "markdown",
   "id": "d41dd03c-44b3-4c68-8815-af664dbf9564",
   "metadata": {},
   "source": [
    "## A `doit` project\n",
    "\n",
    "This demo is a fairly simple project. It contains a few _well-known_ files:\n",
    "\n",
    "- [`demo.ipynb`](./demo-ipynb), this interactive document for telling stories with code\n",
    "- [`pyproject.toml`](./pyproject.toml), a declarative description of a Python project\n",
    "- [`dodo.py`](./dodo.py), a Python file for defining custom _tasks_ and _actions_\n",
    "- [`requirements.txt`](./requirements.txt), a description of the dependencies needed to run a project\n",
    "\n",
    "It will generate some files in a `build` directory, as well as some _hidden_ files."
   ]
  },
  {
   "cell_type": "markdown",
   "id": "ba562112-0f45-495b-ba6c-0873679d1694",
   "metadata": {},
   "source": [
    "## installing `doitoml`"
   ]
  },
  {
   "cell_type": "markdown",
   "id": "deb119da-fe92-45ab-81be-23a4392f0b4f",
   "metadata": {},
   "source": [
    "First we need to ensure `doitoml` and friends are installed, and set up a responsive demo environment with some IPython magics, which all start with `%`."
   ]
  },
  {
   "cell_type": "code",
   "execution_count": null,
   "id": "814e7a75-ab5b-4707-b1e4-f480b75100cd",
   "metadata": {
    "tags": []
   },
   "outputs": [],
   "source": [
    "if LITE := __import__(\"platform\").machine() == \"wasm32\":\n",
    "    %pip install -r requirements.txt\n",
    "%reload_ext autoreload\n",
    "%autoreload 2"
   ]
  },
  {
   "cell_type": "markdown",
   "id": "3dd67338-d11e-43fa-8e39-da8b041126a6",
   "metadata": {},
   "source": [
    "> **Not**\n",
    "> \n",
    "> On a _real_ computer, run something like:\n",
    "> \n",
    "> | from PyPI             | from `conda-forge`|\n",
    "> |-----------------------|-------------------|\n",
    "> | `pip install doitoml` | `conda install -c conda-forge doitoml`<br/>  _or `mamba`, or `micromamba`_ |\n",
    "> "
   ]
  },
  {
   "cell_type": "markdown",
   "id": "d5ff6c1c-4318-4304-861e-9f6bb6eb5561",
   "metadata": {},
   "source": [
    "## a doit magic"
   ]
  },
  {
   "cell_type": "markdown",
   "id": "ff75235a-4d0e-4740-b963-825ee1549922",
   "metadata": {},
   "source": [
    "We'll load up [`dodo.py`](./dodo.py), which includes a few custom magics which emulate working with the `doit` command line interface."
   ]
  },
  {
   "cell_type": "code",
   "execution_count": null,
   "id": "f170e785-36a8-4e86-bf24-b5749cff2ae1",
   "metadata": {
    "tags": []
   },
   "outputs": [],
   "source": [
    "import dodo\n",
    "\n",
    "print(dodo.doit.__doc__, dodo.md.__doc__)"
   ]
  },
  {
   "cell_type": "markdown",
   "id": "357490fc-b68a-4a48-933f-c0a4d1d9de3e",
   "metadata": {},
   "source": [
    "## the `doit` CLI\n",
    "\n",
    "`doit` doesn't add any new command line interface (yet): it just helps you get more out of `doit`. It's worth getting to know it a little better."
   ]
  },
  {
   "cell_type": "code",
   "execution_count": null,
   "id": "9af3602d-b339-4575-b834-a020392e1884",
   "metadata": {
    "tags": []
   },
   "outputs": [],
   "source": [
    "%doit --help"
   ]
  },
  {
   "cell_type": "markdown",
   "id": "6a5bf8b6-5c58-4dc8-8dc8-c87e0fec78dd",
   "metadata": {},
   "source": [
    "### `doit list`\n",
    "\n",
    "Get the available tasks with `doit list`. "
   ]
  },
  {
   "cell_type": "code",
   "execution_count": null,
   "id": "98debaa8-42f3-44c6-8ff5-1c68c29f177c",
   "metadata": {
    "tags": []
   },
   "outputs": [],
   "source": [
    "%doit list --all --status --deps"
   ]
  },
  {
   "cell_type": "markdown",
   "id": "8266c2df-0114-45ef-93a3-d2ee1e1c7f95",
   "metadata": {},
   "source": [
    "## running tasks"
   ]
  },
  {
   "cell_type": "markdown",
   "id": "6c10e443-29d1-4817-bfcb-03b362c08e4d",
   "metadata": {},
   "source": [
    "### `doit [run]`"
   ]
  },
  {
   "cell_type": "code",
   "execution_count": null,
   "id": "9461a614-b902-448b-91b6-32d7936df06f",
   "metadata": {
    "tags": []
   },
   "outputs": [],
   "source": [
    "%doit greet"
   ]
  },
  {
   "cell_type": "markdown",
   "id": "f7cac955-0b5b-4892-9308-b669382da521",
   "metadata": {},
   "source": [
    "This will create a new file, [`build/hello.md`](./build/hello.md)."
   ]
  },
  {
   "cell_type": "code",
   "execution_count": null,
   "id": "c29a81d1-48c5-4495-8ae6-38967e72b5cb",
   "metadata": {
    "tags": []
   },
   "outputs": [],
   "source": [
    "%md build/hello.md"
   ]
  },
  {
   "cell_type": "markdown",
   "id": "fb0ed1ca-afac-4307-942d-d075ff6d0d5e",
   "metadata": {},
   "source": [
    "Because the task `greet` has no `file_dep` or `task_dep`, it will rerun, every time."
   ]
  },
  {
   "cell_type": "code",
   "execution_count": null,
   "id": "67dcce2d-84d6-4d9e-a70d-d4ee7f1b28b9",
   "metadata": {
    "tags": []
   },
   "outputs": [],
   "source": [
    "%doit greet"
   ]
  },
  {
   "cell_type": "code",
   "execution_count": null,
   "id": "1d76c11f-ed91-4fbb-b875-7625168d16bf",
   "metadata": {
    "tags": []
   },
   "outputs": [],
   "source": [
    "%md build/hello.md"
   ]
  },
  {
   "cell_type": "markdown",
   "id": "36ad95b9-aafe-41be-9002-95fe02b8fa0e",
   "metadata": {},
   "source": [
    "## looking at `doitoml`\n",
    "\n",
    "Some of the tasks defined in [`pyproject.toml`](./pyproject.toml) reflect the _task tree_. \n",
    "\n",
    "> **Note**\n",
    "> \n",
    "> These are implemented in [`dodo.py`](./dodo.py), and make use of the fact we're in a running Jupyter kernel.\n",
    "\n",
    "The first, `show`, displays an explorable, searchable tree of the data as parsed by `doitoml`."
   ]
  },
  {
   "cell_type": "code",
   "execution_count": null,
   "id": "e7f72202-8834-417c-a292-69bbd260499d",
   "metadata": {
    "tags": []
   },
   "outputs": [],
   "source": [
    "%doit show"
   ]
  },
  {
   "cell_type": "markdown",
   "id": "718c0317-752d-4510-924a-e19d9effdf87",
   "metadata": {
    "tags": []
   },
   "source": [
    "[MermaidJS](https://mermaid.js.org/syntax/flowchart.html) flowcharts are a nice way to show small graphs."
   ]
  },
  {
   "cell_type": "code",
   "execution_count": null,
   "id": "51f01291-459d-4055-bbb2-484af6425b54",
   "metadata": {
    "tags": []
   },
   "outputs": [],
   "source": [
    "%doit mermaid"
   ]
  }
 ],
 "metadata": {
  "kernelspec": {
   "display_name": "Python 3 (ipykernel)",
   "language": "python",
   "name": "python3"
  },
  "language_info": {
   "codemirror_mode": {
    "name": "ipython",
    "version": 3
   },
   "file_extension": ".py",
   "mimetype": "text/x-python",
   "name": "python",
   "nbconvert_exporter": "python",
   "pygments_lexer": "ipython3",
   "version": "3.11.3"
  }
 },
 "nbformat": 4,
 "nbformat_minor": 5
}
