{
 "cells": [
  {
   "cell_type": "code",
   "execution_count": null,
   "metadata": {},
   "outputs": [],
   "source": []
  },
  {
   "attachments": {},
   "cell_type": "markdown",
   "metadata": {},
   "source": [
    "# Train QALD 9\n",
    "\n",
    "Dataset: \n",
    "- [QALD 9 Plus](https://github.com/KGQA/QALD_9_plus/tree/main/data)\n",
    "- [QALD 7](https://github.com/ag-sc/QALD/tree/master/7/data)"
   ]
  },
  {
   "cell_type": "markdown",
   "metadata": {},
   "source": []
  }
 ],
 "metadata": {
  "language_info": {
   "name": "python"
  },
  "orig_nbformat": 4
 },
 "nbformat": 4,
 "nbformat_minor": 2
}
