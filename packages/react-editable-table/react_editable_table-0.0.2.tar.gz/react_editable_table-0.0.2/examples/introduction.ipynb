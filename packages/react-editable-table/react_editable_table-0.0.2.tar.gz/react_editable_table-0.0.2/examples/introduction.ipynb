{
  "cells": [
    {
      "attachments": {},
      "cell_type": "markdown",
      "metadata": {},
      "source": [
        "# Introduction"
      ]
    },
    {
      "attachments": {},
      "cell_type": "markdown",
      "metadata": {},
      "source": [
        "The React Jupyter Widget keeps your JavaScript and Python state in sync."
      ]
    },
    {
      "cell_type": "code",
      "execution_count": null,
      "metadata": {},
      "outputs": [],
      "source": [
        "import react_editable_table"
      ]
    },
    {
      "attachments": {},
      "cell_type": "markdown",
      "metadata": {},
      "source": [
        "Run the cell below and type something new into the text input. "
      ]
    },
    {
      "cell_type": "code",
      "execution_count": null,
      "metadata": {},
      "outputs": [],
      "source": [
        "columns = [\n",
        "    { 'header': \"Name\", 'accessor': \"name\" },\n",
        "    { 'header': \"Type\", 'accessor': \"type\" },\n",
        "    { 'header': \"Description\", 'accessor': \"description\", \"editable\": True },\n",
        "]\n",
        "\n",
        "data = [\n",
        "    { 'name': \"id\", \"type\": \"varchar\", \"description\": \"this is id field\" },\n",
        "    { 'name': \"name\", \"type\": \"varchar\", \"description\": \"this is name field\" }\n",
        "]\n",
        "\n",
        "w = react_editable_table.TableWidget(columns=columns, data=data)\n",
        "w"
      ]
    },
    {
      "attachments": {},
      "cell_type": "markdown",
      "metadata": {},
      "source": [
        "The value of the widget will match what you typed into the input. Pass a callback funtion to accept values on change."
      ]
    },
    {
      "cell_type": "code",
      "execution_count": null,
      "metadata": {},
      "outputs": [],
      "source": [
        "import ipywidgets as widgets\n",
        "\n",
        "output = widgets.Output()\n",
        "display(output)\n",
        "\n",
        "def on_cell_change(a):\n",
        "    with output:\n",
        "        print(a)\n",
        "\n",
        "w.on_cell_change(on_cell_change)"
      ]
    },
    {
      "attachments": {},
      "cell_type": "markdown",
      "metadata": {},
      "source": [
        "Try edit values in the input, then you can see the `on_cell_change` will be called."
      ]
    }
  ],
  "metadata": {
    "kernelspec": {
      "display_name": "Python 3",
      "language": "python",
      "name": "python3"
    },
    "language_info": {
      "codemirror_mode": {
        "name": "ipython",
        "version": 3
      },
      "file_extension": ".py",
      "mimetype": "text/x-python",
      "name": "python",
      "nbconvert_exporter": "python",
      "pygments_lexer": "ipython3",
      "version": "3.9.6"
    }
  },
  "nbformat": 4,
  "nbformat_minor": 2
}
