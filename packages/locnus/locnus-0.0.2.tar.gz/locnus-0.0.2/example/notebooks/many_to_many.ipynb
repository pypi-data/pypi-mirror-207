{
 "cells": [
  {
   "cell_type": "code",
   "execution_count": 1,
   "id": "343ef3e8-6125-412a-af48-2531cfbcaeb9",
   "metadata": {
    "tags": []
   },
   "outputs": [],
   "source": [
    "from django.utils import timezone"
   ]
  },
  {
   "cell_type": "code",
   "execution_count": 2,
   "id": "9ca15ec3-daef-4339-8ad7-65808e46d79d",
   "metadata": {
    "tags": []
   },
   "outputs": [],
   "source": [
    "server = Server(api_base_url=\"https://example.com\")"
   ]
  },
  {
   "cell_type": "code",
   "execution_count": 3,
   "id": "d99748b1-06e7-4075-ac66-d90e70433cd3",
   "metadata": {
    "tags": []
   },
   "outputs": [],
   "source": [
    "server.save()"
   ]
  },
  {
   "cell_type": "code",
   "execution_count": 4,
   "id": "95abe8d0-e51c-48b4-a208-f12dcb6ccc06",
   "metadata": {
    "tags": []
   },
   "outputs": [
    {
     "data": {
      "text/plain": [
       "<QuerySet []>"
      ]
     },
     "execution_count": 4,
     "metadata": {},
     "output_type": "execute_result"
    }
   ],
   "source": [
    "Status.objects.all()"
   ]
  },
  {
   "cell_type": "code",
   "execution_count": 5,
   "id": "723859de-90f5-43ef-a32a-c1db4d47a004",
   "metadata": {
    "tags": []
   },
   "outputs": [],
   "source": [
    "status = Status(created_at=timezone.now(), data={})"
   ]
  },
  {
   "cell_type": "code",
   "execution_count": 6,
   "id": "6b2c1150-9292-441c-8767-8117370357bc",
   "metadata": {
    "tags": []
   },
   "outputs": [],
   "source": [
    "status.save()"
   ]
  },
  {
   "cell_type": "code",
   "execution_count": 9,
   "id": "2192a5ea-9288-4474-9aba-61f672a5fdcc",
   "metadata": {
    "tags": []
   },
   "outputs": [],
   "source": [
    "timeline = Timeline(status=status, server=server, tag=Timeline.Tag.PUBLIC)"
   ]
  },
  {
   "cell_type": "code",
   "execution_count": 10,
   "id": "ee7c34c5-027a-4c43-8560-8e934413c7b5",
   "metadata": {
    "tags": []
   },
   "outputs": [],
   "source": [
    "timeline.save()"
   ]
  },
  {
   "cell_type": "code",
   "execution_count": 12,
   "id": "7657159a-cb34-4234-8baa-82694dc65f44",
   "metadata": {
    "tags": []
   },
   "outputs": [
    {
     "data": {
      "text/plain": [
       "<QuerySet [<Timeline: Timeline object (1)>]>"
      ]
     },
     "execution_count": 12,
     "metadata": {},
     "output_type": "execute_result"
    }
   ],
   "source": [
    "server.status_set.through.objects.all()"
   ]
  },
  {
   "cell_type": "code",
   "execution_count": 11,
   "id": "611c0eec-4793-4cc3-8325-04cbb0acd8c0",
   "metadata": {
    "tags": []
   },
   "outputs": [
    {
     "data": {
      "text/plain": [
       "<QuerySet [<Status: Status object (1)>]>"
      ]
     },
     "execution_count": 11,
     "metadata": {},
     "output_type": "execute_result"
    }
   ],
   "source": [
    "server.status_set.all()"
   ]
  },
  {
   "cell_type": "code",
   "execution_count": 15,
   "id": "0bd0a226-0805-43d3-9735-cee7e4e92b11",
   "metadata": {},
   "outputs": [
    {
     "data": {
      "text/plain": [
       "<QuerySet [<Status: Status object (1)>]>"
      ]
     },
     "execution_count": 15,
     "metadata": {},
     "output_type": "execute_result"
    }
   ],
   "source": [
    "Status.objects.filter(timelines__in=Server.status_set.through.objects.all())"
   ]
  },
  {
   "cell_type": "code",
   "execution_count": null,
   "id": "c342eadb-b804-47e5-8f63-f2bc21540a97",
   "metadata": {},
   "outputs": [],
   "source": []
  }
 ],
 "metadata": {
  "kernelspec": {
   "display_name": "Django Kernel",
   "language": "python",
   "name": "django_extensions"
  },
  "language_info": {
   "codemirror_mode": {
    "name": "ipython",
    "version": 3
   },
   "file_extension": ".py",
   "mimetype": "text/x-python",
   "name": "python",
   "nbconvert_exporter": "python",
   "pygments_lexer": "ipython3",
   "version": "3.11.3"
  }
 },
 "nbformat": 4,
 "nbformat_minor": 5
}
