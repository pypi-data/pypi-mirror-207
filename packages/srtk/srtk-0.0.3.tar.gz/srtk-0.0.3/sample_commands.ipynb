{
 "cells": [
  {
   "attachments": {},
   "cell_type": "markdown",
   "metadata": {},
   "source": [
    "entity linking"
   ]
  },
  {
   "cell_type": "code",
   "execution_count": 2,
   "metadata": {},
   "outputs": [
    {
     "name": "stdout",
     "output_type": "stream",
     "text": [
      "Entity linking data/samples/question.jsonl: 100%|█| 1/1 [00:00<00:00,  1.52it/s]\n",
      "Entity linking result saved to data/samples/linked-oop.jsonl\n"
     ]
    }
   ],
   "source": [
    "!srtk link --input data/samples/question.jsonl \\\n",
    "    --knowledge-graph wikidata \\\n",
    "    --output data/samples/linked-oop.jsonl \\\n",
    "    --ground-on question \\\n",
    "    --el-endpoint http://127.0.0.1:1235 \\\n",
    "    --wikimapper-db resources/wikimapper/index_enwiki.db"
   ]
  },
  {
   "attachments": {},
   "cell_type": "markdown",
   "metadata": {},
   "source": [
    "retrieve"
   ]
  },
  {
   "cell_type": "code",
   "execution_count": 5,
   "metadata": {},
   "outputs": [
    {
     "name": "stdout",
     "output_type": "stream",
     "text": [
      "Retrieving subgraphs: 100%|███████████████████████| 1/1 [00:05<00:00,  5.03s/it]\n",
      "Retrieved subgraphs saved to to data/samples/subgraph.jsonl\n"
     ]
    }
   ],
   "source": [
    "!srtk retrieve --input data/samples/linked.jsonl \\\n",
    "\t\t--output data/samples/subgraph.jsonl \\\n",
    "\t\t--sparql-endpoint http://localhost:1234/api/endpoint/sparql \\\n",
    "\t\t--knowledge-graph wikidata \\\n",
    "\t\t--scorer-model-path drt/wikidata-simplequestions \\\n",
    "\t\t--beam-width 2 \\\n",
    "\t\t--max-depth 1"
   ]
  },
  {
   "cell_type": "code",
   "execution_count": 6,
   "metadata": {},
   "outputs": [
    {
     "name": "stdout",
     "output_type": "stream",
     "text": [
      "Visualizing graphs: 100%|█████████████████████████| 1/1 [00:00<00:00, 25.88it/s]\n",
      "Visualized graphs outputted to data/samples.\n"
     ]
    }
   ],
   "source": [
    "!srtk visualize --input data/samples/subgraph.jsonl \\\n",
    "    --output-dir data/samples \\\n",
    "    --sparql-endpoint http://localhost:1234/api/endpoint/sparql \\\n",
    "    --knowledge-graph wikidata"
   ]
  },
  {
   "cell_type": "code",
   "execution_count": 8,
   "metadata": {},
   "outputs": [
    {
     "name": "stdout",
     "output_type": "stream",
     "text": [
      "1.html\tid1.html\n"
     ]
    }
   ],
   "source": [
    "!ls data/subgraphs/samples"
   ]
  },
  {
   "cell_type": "code",
   "execution_count": 2,
   "metadata": {},
   "outputs": [
    {
     "name": "stdout",
     "output_type": "stream",
     "text": [
      "Searching paths: 100%|███████████████████████████| 1/1 [00:00<00:00, 123.41it/s]\n",
      "Processed 1 samples; skipped 0 samples without any paths between question entities and answer entities; total 1 samples\n",
      "Retrieved paths saved to data/samples/paths.jsonl\n",
      "Scoring paths: 100%|█████████████████████████████| 1/1 [00:00<00:00, 313.01it/s]\n",
      "Scored paths saved to data/samples/scores.jsonl\n",
      "Negative sampling: 100%|██████████████████████████| 1/1 [00:00<00:00, 51.15it/s]\n",
      "Number of training records: 2\n",
      "Converting relation ids to labels: 100%|██████████| 2/2 [00:00<00:00,  9.99it/s]\n",
      "Training samples are saved to data/samples/preprocessed.jsonl\n"
     ]
    }
   ],
   "source": [
    "!srtk preprocess --input data/samples/dataset.jsonl \\\n",
    "    --output data/samples/preprocessed.jsonl \\\n",
    "    --search-path \\\n",
    "    --intermediate-dir data/samples \\\n",
    "    --knowledge-graph wikidata \\\n",
    "    --sparql-endpoint http://localhost:1234/api/endpoint/sparql \\\n",
    "    --metric jaccard --num-negative 15"
   ]
  },
  {
   "cell_type": "code",
   "execution_count": null,
   "metadata": {},
   "outputs": [],
   "source": [
    "\n",
    "\n"
   ]
  }
 ],
 "metadata": {
  "kernelspec": {
   "display_name": "dragon",
   "language": "python",
   "name": "python3"
  },
  "language_info": {
   "codemirror_mode": {
    "name": "ipython",
    "version": 3
   },
   "file_extension": ".py",
   "mimetype": "text/x-python",
   "name": "python",
   "nbconvert_exporter": "python",
   "pygments_lexer": "ipython3",
   "version": "3.8.15"
  },
  "orig_nbformat": 4
 },
 "nbformat": 4,
 "nbformat_minor": 2
}
