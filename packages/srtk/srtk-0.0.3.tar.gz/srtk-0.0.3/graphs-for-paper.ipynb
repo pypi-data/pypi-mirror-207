{
 "cells": [
  {
   "attachments": {},
   "cell_type": "markdown",
   "metadata": {},
   "source": [
    "# Wikidata"
   ]
  },
  {
   "attachments": {},
   "cell_type": "markdown",
   "metadata": {},
   "source": [
    "## Wikidata Simple Question\n",
    "\n",
    "Under beam size 2, 5, 10, 20, how the coverage and the graph size vary?"
   ]
  },
  {
   "cell_type": "code",
   "execution_count": 1,
   "metadata": {},
   "outputs": [],
   "source": [
    "import os\n",
    "\n",
    "intermediate_dir = 'data/wikidata-simplequestions/intermediate'\n",
    "retrieve_subgraph_dir = 'artifacts/subgraphs/wikidata-simple-question-t5-e0'\n",
    "trained_model_dir = 'artifacts/models/wd_simple_t5_e10'\n",
    "test_scored_path = os.path.join(intermediate_dir, 'scores_valid.jsonl')"
   ]
  },
  {
   "cell_type": "code",
   "execution_count": 2,
   "metadata": {},
   "outputs": [
    {
     "name": "stdout",
     "output_type": "stream",
     "text": [
      "Retrieving subgraphs: 100%|█████████████████| 2210/2210 [03:30<00:00, 10.48it/s]\n",
      "Retrieved subgraphs saved to to artifacts/subgraphs/wikidata-simple-question-t5-e0/e5-b-1.jsonl\n",
      "Answer recall: 0.9638009049773756 (2130 / 2210)\n"
     ]
    }
   ],
   "source": [
    "for beam_width in [1]:\n",
    "    retrieved_subgraph_path = os.path.join(retrieve_subgraph_dir, f'e5-b-{beam_width}.jsonl')\n",
    "    !srtk retrieve -i $test_scored_path \\\n",
    "        -o $retrieved_subgraph_path \\\n",
    "        -e http://localhost:1234/api/endpoint/sparql \\\n",
    "        -kg wikidata \\\n",
    "        --scorer-model-path drt/wikidata-simplequestions \\\n",
    "        --beam-width $beam_width \\\n",
    "        --max-depth 1 \\\n",
    "        --evaluate"
   ]
  },
  {
   "cell_type": "code",
   "execution_count": 3,
   "metadata": {},
   "outputs": [
    {
     "name": "stdout",
     "output_type": "stream",
     "text": [
      "Retrieving subgraphs: 100%|█████████████████| 4296/4296 [03:08<00:00, 22.73it/s]\n",
      "Retrieved subgraphs saved to to artifacts/subgraphs/wikidata-simple-question/e5-b-30.jsonl\n",
      "Answer recall: 0.9753258845437617 (4190 / 4296)\n"
     ]
    }
   ],
   "source": [
    "beam_width = 40\n",
    "retrieved_subgraph_path = os.path.join(retrieve_subgraph_dir, f'e5-b-{beam_width}.jsonl')\n",
    "!srtk retrieve -i $test_scored_path \\\n",
    "    -o $retrieved_subgraph_path \\\n",
    "    -e http://localhost:1234/api/endpoint/sparql \\\n",
    "    -kg wikidata \\\n",
    "    --scorer-model-path $trained_model_dir \\\n",
    "    --beam-width $beam_width \\\n",
    "    --max-depth 1 \\\n",
    "    --evaluate"
   ]
  },
  {
   "cell_type": "code",
   "execution_count": 14,
   "metadata": {},
   "outputs": [],
   "source": [
    "import srsly\n",
    "import statistics"
   ]
  },
  {
   "cell_type": "code",
   "execution_count": 16,
   "metadata": {},
   "outputs": [
    {
     "name": "stdout",
     "output_type": "stream",
     "text": [
      "[0.963800905, 0.9728506787000001, 0.9760180995000001, 0.9796380090000001, 0.9805429864]\n",
      "[1.616289592760181, 2.4624434389140273, 6.160633484162896, 12.227149321266968, 18.228054298642533]\n"
     ]
    }
   ],
   "source": [
    "wikidata_sq_subgraph_path_pattern = 'artifacts/subgraphs/wikidata-simple-question-e10/e5-b-{beam}.jsonl'\n",
    "metric_path_pattern = 'artifacts/subgraphs/wikidata-simple-question-e10/e5-b-{beam}.metric'\n",
    "subgraph_means = []\n",
    "recalls = []\n",
    "for beam in [1, 2, 5, 10, 20]:\n",
    "    subgraph_path = wikidata_sq_subgraph_path_pattern.format(beam=beam)\n",
    "    metric_path = metric_path_pattern.format(beam=beam)\n",
    "    subgraphs = srsly.read_jsonl(subgraph_path)\n",
    "    metric = srsly.read_json(metric_path)\n",
    "    avg_n_triplets = statistics.mean([len(sg['triplets']) for sg in subgraphs])\n",
    "    recalls.append(metric['recall'])\n",
    "    subgraph_means.append(avg_n_triplets)\n",
    "print(recalls)\n",
    "print(subgraph_means)  "
   ]
  },
  {
   "attachments": {},
   "cell_type": "markdown",
   "metadata": {},
   "source": [
    "# Freebase"
   ]
  },
  {
   "attachments": {},
   "cell_type": "markdown",
   "metadata": {},
   "source": [
    "## WebQSP"
   ]
  },
  {
   "cell_type": "code",
   "execution_count": 8,
   "metadata": {},
   "outputs": [],
   "source": [
    "formatted_data_dir = 'data/webqsp/formatted'\n",
    "retrieve_subgraph_dir = 'artifacts/subgraphs/webqsp'\n",
    "webqsp_model_dir = 'artifacts/models/webqsp'\n",
    "formatted_test_path = os.path.join(formatted_data_dir, 'test.jsonl')"
   ]
  },
  {
   "cell_type": "code",
   "execution_count": 6,
   "metadata": {},
   "outputs": [
    {
     "name": "stdout",
     "output_type": "stream",
     "text": [
      "Retrieving subgraphs:   8%|█▌                | 133/1582 [01:36<08:38,  2.79it/s]"
     ]
    }
   ],
   "source": [
    "for beam_width in [1, 2, 5, 10, 20]:\n",
    "    retrieve_subgraph_path = os.path.join(retrieve_subgraph_dir, f'e5-b{beam_width}.jsonl')\n",
    "    !srtk retrieve --input $formatted_test_path \\\n",
    "        --output $retrieve_subgraph_path \\\n",
    "        --sparql-endpoint http://localhost:3001/sparql \\\n",
    "        --knowledge-graph freebase \\\n",
    "        --scorer-model-path $webqsp_model_dir \\\n",
    "        --beam-width $beam_width \\\n",
    "        --max-depth 2 \\\n",
    "        --evaluate"
   ]
  },
  {
   "cell_type": "code",
   "execution_count": 17,
   "metadata": {},
   "outputs": [
    {
     "name": "stdout",
     "output_type": "stream",
     "text": [
      "[0.5619469027, 0.8343868521000001, 0.8609355247, 0.9121365360000001, 0.9348925411000001]\n",
      "[11.38621997471555, 62.09924146649811, 66.23451327433628, 150.12010113780025, 298.5575221238938]\n"
     ]
    }
   ],
   "source": [
    "wikidata_sq_subgraph_path_pattern = 'artifacts/subgraphs/webqsp/e5-b{beam}.jsonl'\n",
    "metric_path_pattern = 'artifacts/subgraphs/webqsp/e5-b{beam}.metric'\n",
    "subgraph_means = []\n",
    "recalls = []\n",
    "for beam in [1, 2, 5, 10, 20]:\n",
    "    subgraph_path = wikidata_sq_subgraph_path_pattern.format(beam=beam)\n",
    "    metric_path = metric_path_pattern.format(beam=beam)\n",
    "    subgraphs = srsly.read_jsonl(subgraph_path)\n",
    "    metric = srsly.read_json(metric_path)\n",
    "    avg_n_triplets = statistics.mean([len(sg['triplets']) for sg in subgraphs])\n",
    "    recalls.append(metric['recall'])\n",
    "    subgraph_means.append(avg_n_triplets)\n",
    "print(recalls)\n",
    "print(subgraph_means)  "
   ]
  },
  {
   "attachments": {},
   "cell_type": "markdown",
   "metadata": {},
   "source": [
    "## CWQ"
   ]
  },
  {
   "cell_type": "markdown",
   "metadata": {},
   "source": []
  },
  {
   "attachments": {},
   "cell_type": "markdown",
   "metadata": {},
   "source": [
    "# Calculate involved entities and relations"
   ]
  },
  {
   "cell_type": "code",
   "execution_count": 2,
   "metadata": {},
   "outputs": [],
   "source": [
    "import srsly\n",
    "webqsp_train = srsly.read_jsonl(\"data/webqsp/formatted/train.jsonl\")\n",
    "webqsp_test = srsly.read_jsonl(\"data/webqsp/formatted/test.jsonl\")"
   ]
  },
  {
   "cell_type": "code",
   "execution_count": 3,
   "metadata": {},
   "outputs": [
    {
     "name": "stdout",
     "output_type": "stream",
     "text": [
      "39973\n"
     ]
    }
   ],
   "source": [
    "entity_set = set()\n",
    "for dataset in [webqsp_train, webqsp_test]:\n",
    "    for question in dataset:\n",
    "        entity_set.update(question['question_entities'])\n",
    "        entity_set.update(question['answer_entities'])\n",
    "print(len(entity_set))"
   ]
  },
  {
   "cell_type": "code",
   "execution_count": null,
   "metadata": {},
   "outputs": [],
   "source": []
  }
 ],
 "metadata": {
  "kernelspec": {
   "display_name": "dragon",
   "language": "python",
   "name": "python3"
  },
  "language_info": {
   "codemirror_mode": {
    "name": "ipython",
    "version": 3
   },
   "file_extension": ".py",
   "mimetype": "text/x-python",
   "name": "python",
   "nbconvert_exporter": "python",
   "pygments_lexer": "ipython3",
   "version": "3.8.15"
  },
  "orig_nbformat": 4
 },
 "nbformat": 4,
 "nbformat_minor": 2
}
