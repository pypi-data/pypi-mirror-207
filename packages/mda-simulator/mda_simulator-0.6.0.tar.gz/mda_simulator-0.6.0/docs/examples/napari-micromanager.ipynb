{
 "cells": [
  {
   "cell_type": "markdown",
   "id": "0b4efd4f-9322-4ab9-b09c-1eb016dd1216",
   "metadata": {},
   "source": [
    "# napari-micromanager & pymmcore-plus\n",
    "\n",
    "If you are using [pymmcore-plus](https://pymmcore-plus.readthedocs.io/) then you can override the `snapImage` method\n",
    "to return results from your `ImageGenerator` with the `FakeDemoCamera` from `mda_simulator.mmcore`. In addition this will override `getLastImage` so live mode will also work.\n",
    "\n",
    "This will also work with [napari-micromanager](https://github.com/tlambert03/napari-micromanager#napari-micromanager) as that is powered by pymmcore-plus. Additionally when a Qt event loop is running the FakeDemoCamera will automatically step the simulation.\n",
    "\n",
    "\n",
    "```{warning}\n",
    "\n",
    "The automatic timer to update the positions will only work if a Qt event loop is running. So if you start napari after creating the `FakeDemoCamera` then you must call the `start_timer` method manually after an event has been started.\n",
    "\n",
    "```"
   ]
  },
  {
   "cell_type": "code",
   "execution_count": 1,
   "id": "13a477b4-210b-4ae2-a2da-0c598e55c14b",
   "metadata": {
    "execution": {
     "iopub.execute_input": "2022-06-07T03:31:30.766611Z",
     "iopub.status.busy": "2022-06-07T03:31:30.765528Z",
     "iopub.status.idle": "2022-06-07T03:31:31.285279Z",
     "shell.execute_reply": "2022-06-07T03:31:31.284464Z",
     "shell.execute_reply.started": "2022-06-07T03:31:30.766299Z"
    },
    "tags": []
   },
   "outputs": [],
   "source": [
    "import napari\n",
    "from pymmcore_plus import CMMCorePlus\n",
    "from useq import MDASequence\n",
    "\n",
    "from mda_simulator import ImageGenerator\n",
    "from mda_simulator.mmcore import FakeDemoCamera"
   ]
  },
  {
   "cell_type": "code",
   "execution_count": 2,
   "id": "a65cf3a1-b2f3-4b08-9330-827caf6a8fe5",
   "metadata": {
    "execution": {
     "iopub.execute_input": "2022-06-07T03:31:31.289966Z",
     "iopub.status.busy": "2022-06-07T03:31:31.289287Z",
     "iopub.status.idle": "2022-06-07T03:31:34.862995Z",
     "shell.execute_reply": "2022-06-07T03:31:34.858737Z",
     "shell.execute_reply.started": "2022-06-07T03:31:31.289928Z"
    },
    "tags": []
   },
   "outputs": [
    {
     "name": "stderr",
     "output_type": "stream",
     "text": [
      "2022-06-06 23:31:34.600 | DEBUG    | pymmcore_plus._util:find_micromanager:47 - using MM path found in applications: /usr/local/lib/micro-manager\n",
      "2022-06-06 23:31:34.601 | INFO     | pymmcore_plus.core._mmcore_plus:setDeviceAdapterSearchPaths:152 - setting adapter search paths: ['/usr/local/lib/micro-manager']\n",
      "2022-06-06 23:31:34.719 | DEBUG    | pymmcore_plus._util:find_micromanager:47 - using MM path found in applications: /usr/local/lib/micro-manager\n",
      "2022-06-06 23:31:34.853 | INFO     | pymmcore_plus.mda._engine:_prepare_to_run:122 - MDA Started: Multi-Dimensional Acquisition ▶ nt: 10, np: 2, nc: 3, nz: 6\n"
     ]
    },
    {
     "data": {
      "text/plain": [
       "<Thread(Thread-5 (run), started 140663609853504)>"
      ]
     },
     "execution_count": 2,
     "metadata": {},
     "output_type": "execute_result"
    },
    {
     "name": "stderr",
     "output_type": "stream",
     "text": [
      "2022-06-06 23:31:34.854 | INFO     | pymmcore_plus.mda._engine:run:260 - metadata={} index={'t': 0, 'p': 0, 'c': 0, 'z': 0} channel=Channel(config='Cy5') exposure=None min_start_time=0.0 x_pos=0.0 y_pos=1.0 z_pos=-24.0 properties=None\n",
      "2022-06-06 23:31:34.863 | INFO     | pymmcore_plus.mda._engine:run:260 - metadata={} index={'t': 0, 'p': 0, 'c': 0, 'z': 1} channel=Channel(config='Cy5') exposure=None min_start_time=0.0 x_pos=0.0 y_pos=1.0 z_pos=-14.0 properties=None\n"
     ]
    }
   ],
   "source": [
    "v = napari.Viewer()\n",
    "dw, main_window = v.window.add_plugin_dock_widget(\"napari-micromanager\")\n",
    "\n",
    "core = CMMCorePlus.instance()\n",
    "core.loadSystemConfiguration()\n",
    "\n",
    "gen = ImageGenerator(N=4000)\n",
    "\n",
    "\n",
    "# Create an object that will modify the `snap` method of the CMMCorePlus\n",
    "# instance to return images from our ImageGenerator\n",
    "fake_cam = FakeDemoCamera(\n",
    "    gen,\n",
    "    timing=0.5,  # how many real world seconds to wait to step the ImageGenerator time\n",
    "    core=core,\n",
    ")\n",
    "\n",
    "mda = MDASequence(\n",
    "    channels=[\n",
    "        \"Cy5\",  # in the demo config - stand in for BF\n",
    "        {\"config\": \"DAPI\", \"exposure\": 1},\n",
    "        {\"config\": \"FITC\", \"exposure\": 10},\n",
    "    ],\n",
    "    time_plan={\"interval\": 2, \"loops\": 10},\n",
    "    z_plan={\"range\": 50, \"step\": 10},\n",
    "    axis_order=\"tpcz\",\n",
    "    stage_positions=[(0, 1, 1), (512, 128, 0)],\n",
    ")\n",
    "\n",
    "core.run_mda(mda)"
   ]
  },
  {
   "cell_type": "markdown",
   "id": "e34ba7e2-977f-4fb6-9a73-aa9e24c7b59e",
   "metadata": {},
   "source": [
    "## Result\n",
    "\n",
    "Running the above cell will result in opening napari-micromanager and having both the `snap` button and any MDAs use our `ImageGenerator`\n",
    "\n",
    "![](../_static/example-napari.apng)"
   ]
  },
  {
   "cell_type": "code",
   "execution_count": null,
   "id": "5247188c-b3e0-4ca1-a50b-5803bd1f1840",
   "metadata": {},
   "outputs": [],
   "source": []
  }
 ],
 "metadata": {
  "kernelspec": {
   "display_name": "Python 3 (ipykernel)",
   "language": "python",
   "name": "python3"
  },
  "language_info": {
   "codemirror_mode": {
    "name": "ipython",
    "version": 3
   },
   "file_extension": ".py",
   "mimetype": "text/x-python",
   "name": "python",
   "nbconvert_exporter": "python",
   "pygments_lexer": "ipython3",
   "version": "3.10.2"
  },
  "widgets": {
   "application/vnd.jupyter.widget-state+json": {
    "state": {},
    "version_major": 2,
    "version_minor": 0
   }
  }
 },
 "nbformat": 4,
 "nbformat_minor": 5
}
