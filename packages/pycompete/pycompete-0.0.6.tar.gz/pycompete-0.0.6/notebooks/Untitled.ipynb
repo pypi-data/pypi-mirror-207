{
 "cells": [
  {
   "cell_type": "code",
   "execution_count": 4,
   "id": "efff084a-f4cb-4cff-9805-9c6081ec0cc7",
   "metadata": {},
   "outputs": [],
   "source": [
    "import numpy as np\n",
    "import pandas as pd"
   ]
  },
  {
   "cell_type": "code",
   "execution_count": 15,
   "id": "c76eb5cd-a20c-4ba2-897e-d215b654eea5",
   "metadata": {},
   "outputs": [],
   "source": [
    "moons = np.array([1]*5 +[2]*6 + [3]*5 + [4]*6 + [5]*5 + [6]*3 + [7]*5)\n",
    "moons_large = np.r_[moons,moons+7] "
   ]
  },
  {
   "cell_type": "code",
   "execution_count": 17,
   "id": "619c6f58-5920-440f-a706-171719e9fb24",
   "metadata": {},
   "outputs": [],
   "source": [
    "u_moons = np.unique(moons_large)"
   ]
  },
  {
   "cell_type": "code",
   "execution_count": 18,
   "id": "938fd9f0-7a11-49fd-94c0-c1553f0f7ec8",
   "metadata": {},
   "outputs": [
    {
     "data": {
      "text/plain": [
       "2"
      ]
     },
     "execution_count": 18,
     "metadata": {},
     "output_type": "execute_result"
    }
   ],
   "source": [
    "len(u_moons)//5"
   ]
  },
  {
   "cell_type": "code",
   "execution_count": 27,
   "id": "6b1744b7-4a44-48b7-ad0f-dc0bc84a7148",
   "metadata": {},
   "outputs": [
    {
     "name": "stdout",
     "output_type": "stream",
     "text": [
      "[1 2]\n",
      "[3 4]\n",
      "[5 6]\n",
      "[7 8]\n",
      "[ 9 10]\n"
     ]
    }
   ],
   "source": [
    "for i in range(5):\n",
    "    idx = i*2\n",
    "    groups_in_fold = u_moons[idx:idx+2]\n",
    "    print(groups_in_fold)"
   ]
  },
  {
   "cell_type": "code",
   "execution_count": 41,
   "id": "e207b7e0-f570-4cf1-b431-12256a6fe42c",
   "metadata": {},
   "outputs": [
    {
     "data": {
      "text/plain": [
       "array([40, 41, 42, 43, 44, 45, 46, 47, 48, 49, 50], dtype=int64)"
      ]
     },
     "execution_count": 41,
     "metadata": {},
     "output_type": "execute_result"
    }
   ],
   "source": [
    "np.argwhere(np.isin(moons_large, groups_in_fold))[:,0]"
   ]
  },
  {
   "cell_type": "code",
   "execution_count": 44,
   "id": "e75f1482-913c-4d77-94df-907570175bde",
   "metadata": {},
   "outputs": [
    {
     "data": {
      "text/plain": [
       "array([[ 9],\n",
       "       [ 9],\n",
       "       [ 9],\n",
       "       [ 9],\n",
       "       [ 9],\n",
       "       [ 9],\n",
       "       [10],\n",
       "       [10],\n",
       "       [10],\n",
       "       [10],\n",
       "       [10]])"
      ]
     },
     "execution_count": 44,
     "metadata": {},
     "output_type": "execute_result"
    }
   ],
   "source": [
    "moons_large[np.argwhere(np.isin(moons_large, groups_in_fold))]"
   ]
  },
  {
   "cell_type": "code",
   "execution_count": 2,
   "id": "96d29f7e-6dfe-4e54-ac9c-31d229a47d9b",
   "metadata": {},
   "outputs": [],
   "source": [
    "X = np.array([[0,0.1,0.04], [0.4,0.45,-1], [0.78,0.81,2]])"
   ]
  },
  {
   "cell_type": "code",
   "execution_count": 8,
   "id": "e282ab86-f8dd-4fb6-8b90-3b613f585663",
   "metadata": {},
   "outputs": [],
   "source": [
    "upper = np.triu(pd.DataFrame(X).corr().values, k=1)"
   ]
  },
  {
   "cell_type": "code",
   "execution_count": 11,
   "id": "1b3aed41-1b55-4d11-906e-b792e0259a41",
   "metadata": {},
   "outputs": [
    {
     "data": {
      "text/plain": [
       "array([[0.        , 0.99973702, 0.63192464],\n",
       "       [0.        , 0.        , 0.64953166],\n",
       "       [0.        , 0.        , 0.        ]])"
      ]
     },
     "execution_count": 11,
     "metadata": {},
     "output_type": "execute_result"
    }
   ],
   "source": [
    "upper"
   ]
  },
  {
   "cell_type": "code",
   "execution_count": 9,
   "id": "dcd6de75-864c-4b55-9b96-58320886a52b",
   "metadata": {},
   "outputs": [],
   "source": [
    "\n",
    "corr_cols = np.argwhere(upper>0.95)"
   ]
  },
  {
   "cell_type": "code",
   "execution_count": 10,
   "id": "f9691003-2ed2-4dbd-a040-7f9b55d930f0",
   "metadata": {},
   "outputs": [
    {
     "data": {
      "text/plain": [
       "array([[0, 1]], dtype=int64)"
      ]
     },
     "execution_count": 10,
     "metadata": {},
     "output_type": "execute_result"
    }
   ],
   "source": [
    "corr_cols"
   ]
  },
  {
   "cell_type": "code",
   "execution_count": 38,
   "id": "336c384d-b210-4fde-bbb7-d2e9b390302d",
   "metadata": {},
   "outputs": [
    {
     "data": {
      "text/plain": [
       "array([0.  , 0.4 , 0.78])"
      ]
     },
     "execution_count": 38,
     "metadata": {},
     "output_type": "execute_result"
    }
   ],
   "source": [
    "X[:,0]"
   ]
  },
  {
   "cell_type": "code",
   "execution_count": 39,
   "id": "407eae23-840e-482b-b203-e0e93f9b4227",
   "metadata": {},
   "outputs": [
    {
     "data": {
      "text/plain": [
       "array([0.1 , 0.45, 0.81])"
      ]
     },
     "execution_count": 39,
     "metadata": {},
     "output_type": "execute_result"
    }
   ],
   "source": [
    "X[:,1]"
   ]
  },
  {
   "cell_type": "code",
   "execution_count": null,
   "id": "34aa4763-8122-4c48-85a0-05bb062f022f",
   "metadata": {},
   "outputs": [],
   "source": []
  }
 ],
 "metadata": {
  "kernelspec": {
   "display_name": "Python 3 (ipykernel)",
   "language": "python",
   "name": "python3"
  },
  "language_info": {
   "codemirror_mode": {
    "name": "ipython",
    "version": 3
   },
   "file_extension": ".py",
   "mimetype": "text/x-python",
   "name": "python",
   "nbconvert_exporter": "python",
   "pygments_lexer": "ipython3",
   "version": "3.9.7"
  }
 },
 "nbformat": 4,
 "nbformat_minor": 5
}
