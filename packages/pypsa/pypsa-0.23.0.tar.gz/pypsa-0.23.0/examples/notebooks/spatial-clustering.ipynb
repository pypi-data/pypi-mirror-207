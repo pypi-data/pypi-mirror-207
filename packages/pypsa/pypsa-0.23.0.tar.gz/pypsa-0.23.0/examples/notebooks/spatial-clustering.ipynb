{
 "cells": [
  {
   "cell_type": "markdown",
   "metadata": {},
   "source": [
    "# Network Clustering "
   ]
  },
  {
   "cell_type": "markdown",
   "metadata": {},
   "source": [
    "In this example, we show how pypsa can deal with spatial clustering of networks. "
   ]
  },
  {
   "cell_type": "code",
   "execution_count": null,
   "metadata": {},
   "outputs": [],
   "source": [
    "import pypsa\n",
    "import re\n",
    "import numpy as np\n",
    "import matplotlib.pyplot as plt\n",
    "import cartopy.crs as ccrs\n",
    "import pandas as pd\n",
    "from pypsa.networkclustering import get_clustering_from_busmap, busmap_by_kmeans"
   ]
  },
  {
   "cell_type": "code",
   "execution_count": null,
   "metadata": {},
   "outputs": [],
   "source": [
    "n = pypsa.examples.scigrid_de()\n",
    "n.lines[\"type\"] = np.nan  # delete the 'type' specifications to make this example easier"
   ]
  },
  {
   "cell_type": "markdown",
   "metadata": {},
   "source": [
    "The important information that pypsa needs for spatial clustering is in the `busmap`. It contains the mapping of which buses should be grouped together, similar to the groupby groups as we know it from pandas.\n",
    "\n",
    "You can either calculate a `busmap` from the provided clustering algorithms or you can create/use your own busmap."
   ]
  },
  {
   "cell_type": "markdown",
   "metadata": {},
   "source": [
    "## Cluster by custom busmap"
   ]
  },
  {
   "cell_type": "markdown",
   "metadata": {},
   "source": [
    "Let's start with creating our own. \n",
    "In the following, we group all buses together which belong to the same operator. Buses which do not have a specific operator just stay on its own."
   ]
  },
  {
   "cell_type": "code",
   "execution_count": null,
   "metadata": {},
   "outputs": [],
   "source": [
    "groups = n.buses.operator.apply(lambda x: re.split(\" |,|;\", x)[0])\n",
    "busmap = groups.where(groups != \"\", n.buses.index)"
   ]
  },
  {
   "cell_type": "markdown",
   "metadata": {},
   "source": [
    "Now we cluster the network based on the busmap."
   ]
  },
  {
   "cell_type": "code",
   "execution_count": null,
   "metadata": {},
   "outputs": [],
   "source": [
    "C = get_clustering_from_busmap(n, busmap)"
   ]
  },
  {
   "cell_type": "markdown",
   "metadata": {},
   "source": [
    "`C` is a Clustering object which contains all important information.\n",
    "Among others, the new network is now stored in that Clustering object."
   ]
  },
  {
   "cell_type": "code",
   "execution_count": null,
   "metadata": {},
   "outputs": [],
   "source": [
    "nc = C.network"
   ]
  },
  {
   "cell_type": "markdown",
   "metadata": {},
   "source": [
    "We have a look at the original and the clustered topology"
   ]
  },
  {
   "cell_type": "code",
   "execution_count": null,
   "metadata": {},
   "outputs": [],
   "source": [
    "fig, (ax, ax1) = plt.subplots(\n",
    "    1, 2, subplot_kw={\"projection\": ccrs.EqualEarth()}, figsize=(12, 12)\n",
    ")\n",
    "plot_kwrgs = dict(bus_sizes=1e-3, line_widths=0.5)\n",
    "n.plot(ax=ax, title=\"original\", **plot_kwrgs)\n",
    "nc.plot(ax=ax1, title=\"clustered by operator\", **plot_kwrgs)\n",
    "fig.tight_layout()"
   ]
  },
  {
   "cell_type": "markdown",
   "metadata": {},
   "source": [
    "Looks a bit messy as over 120 buses do not have assigned operators."
   ]
  },
  {
   "cell_type": "markdown",
   "metadata": {},
   "source": [
    "## Clustering by busmap created from K-means"
   ]
  },
  {
   "cell_type": "markdown",
   "metadata": {},
   "source": [
    "Let's now make a clustering based on the kmeans algorithm.\n",
    "Therefore we calculate the `busmap` from a non-weighted kmeans clustering."
   ]
  },
  {
   "cell_type": "code",
   "execution_count": null,
   "metadata": {},
   "outputs": [],
   "source": [
    "weighting = pd.Series(1, n.buses.index)\n",
    "busmap2 = busmap_by_kmeans(n, bus_weightings=weighting, n_clusters=50)"
   ]
  },
  {
   "cell_type": "markdown",
   "metadata": {},
   "source": [
    "We use this new kmeans-based `busmap` to create a new clustered method."
   ]
  },
  {
   "cell_type": "code",
   "execution_count": null,
   "metadata": {},
   "outputs": [],
   "source": [
    "C2 = get_clustering_from_busmap(n, busmap2)\n",
    "nc2 = C2.network"
   ]
  },
  {
   "cell_type": "markdown",
   "metadata": {},
   "source": [
    "Again, let's plot the networks to compare:"
   ]
  },
  {
   "cell_type": "code",
   "execution_count": null,
   "metadata": {},
   "outputs": [],
   "source": [
    "fig, (ax, ax1) = plt.subplots(\n",
    "    1, 2, subplot_kw={\"projection\": ccrs.EqualEarth()}, figsize=(12, 12)\n",
    ")\n",
    "plot_kwrgs = dict(bus_sizes=1e-3, line_widths=0.5)\n",
    "n.plot(ax=ax, title=\"original\", **plot_kwrgs)\n",
    "nc2.plot(ax=ax1, title=\"clustered by kmeans\", **plot_kwrgs)\n",
    "fig.tight_layout()"
   ]
  },
  {
   "cell_type": "markdown",
   "metadata": {},
   "source": [
    "There are other clustering algorithms in the pipeline of pypsa as the hierarchical\n",
    "clustering which performs better than the kmeans. Also the `get_clustering_from_busmap` function supports various arguments on how components in the network should be aggregated. "
   ]
  }
 ],
 "metadata": {
  "kernelspec": {
   "display_name": "",
   "language": "python",
   "name": ""
  },
  "language_info": {
   "codemirror_mode": {
    "name": "ipython",
    "version": 3
   },
   "file_extension": ".py",
   "mimetype": "text/x-python",
   "name": "python",
   "nbconvert_exporter": "python",
   "pygments_lexer": "ipython3",
   "version": "3.8.5"
  }
 },
 "nbformat": 4,
 "nbformat_minor": 2
}
