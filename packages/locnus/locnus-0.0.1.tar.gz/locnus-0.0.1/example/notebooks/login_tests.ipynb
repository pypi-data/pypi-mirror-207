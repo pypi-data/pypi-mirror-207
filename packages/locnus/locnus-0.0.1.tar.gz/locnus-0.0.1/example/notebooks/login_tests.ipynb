{
 "cells": [
  {
   "cell_type": "code",
   "execution_count": 6,
   "id": "6e60c8c0-52d4-41f8-a90b-a87f651742a8",
   "metadata": {
    "tags": []
   },
   "outputs": [],
   "source": [
    "from getpass import getpass\n",
    "\n",
    "from mastodon import Mastodon"
   ]
  },
  {
   "cell_type": "code",
   "execution_count": 23,
   "id": "ceae168d-cc0f-4a8f-becd-4d2bcb2eb110",
   "metadata": {
    "tags": []
   },
   "outputs": [],
   "source": [
    "def get_authenticated_client(api_base_url, username, password, client_name=\"pytooterapp\"):\n",
    "    client_id, secret = Mastodon.create_app(client_name, api_base_url=api_base_url)\n",
    "    mastodon = Mastodon(\n",
    "        client_id=client_id,\n",
    "        client_secret=secret,\n",
    "        api_base_url=api_base_url\n",
    "    )\n",
    "    print(mastodon)\n",
    "    access_token = mastodon.log_in(username, password)\n",
    "    mastodon.access_token = access_token\n",
    "    return mastodon"
   ]
  },
  {
   "cell_type": "code",
   "execution_count": 15,
   "id": "e48b4142-4496-44d4-b620-bce1466fd577",
   "metadata": {
    "tags": []
   },
   "outputs": [
    {
     "name": "stdin",
     "output_type": "stream",
     "text": [
      " ········\n"
     ]
    },
    {
     "name": "stdout",
     "output_type": "stream",
     "text": [
      "<mastodon.Mastodon.Mastodon object at 0x11362a590>\n"
     ]
    }
   ],
   "source": [
    "username = \"jochen-fediverse@wersdoerfer.de\"\n",
    "api_base_url = \"https://fedi.wersdoerfer.de\"\n",
    "password = getpass()\n",
    "\n",
    "client_id, secret = Mastodon.create_app(\"pytooterapp\", api_base_url=api_base_url)\n",
    "mastodon = Mastodon(\n",
    "    client_id=client_id,\n",
    "    client_secret=secret,\n",
    "    api_base_url=api_base_url\n",
    ")\n",
    "print(mastodon)\n",
    "access_token = mastodon.log_in(username, password)"
   ]
  },
  {
   "cell_type": "code",
   "execution_count": 17,
   "id": "4976cd95-01e2-4fd1-aba4-4fb25a3af8b5",
   "metadata": {
    "tags": []
   },
   "outputs": [],
   "source": [
    "#access_token"
   ]
  },
  {
   "cell_type": "markdown",
   "id": "d5502548-7df3-4c7d-bf99-9a89f1773177",
   "metadata": {},
   "source": [
    "# Mastodon Production"
   ]
  },
  {
   "cell_type": "code",
   "execution_count": null,
   "id": "bfa0ee89-7bb3-4f70-8843-9c701d55469d",
   "metadata": {},
   "outputs": [],
   "source": [
    "username = \"jochen-fediverse@wersdoerfer.de\"\n",
    "api_base_url = \"https://fedi.wersdoerfer.de\"\n",
    "password = getpass()\n",
    "mastodon = get_authenticated_client(api_base_url, username, password)"
   ]
  },
  {
   "cell_type": "markdown",
   "id": "b30a7b5a-ac19-4e8d-b5a1-cf44a70f0ebb",
   "metadata": {},
   "source": [
    "# Mastdodon Staging"
   ]
  },
  {
   "cell_type": "code",
   "execution_count": 24,
   "id": "cb9f4042-c7f1-45cf-8b42-a61177bc7b95",
   "metadata": {
    "tags": []
   },
   "outputs": [
    {
     "name": "stdin",
     "output_type": "stream",
     "text": [
      " ········\n"
     ]
    },
    {
     "name": "stdout",
     "output_type": "stream",
     "text": [
      "<mastodon.Mastodon.Mastodon object at 0x113c49650>\n"
     ]
    }
   ],
   "source": [
    "username = \"jochen-mastodonstaging@wersdoerfer.de\"\n",
    "api_base_url = \"https://mastodon.staging.django-cast.com\"\n",
    "password = getpass()\n",
    "mastodon = get_authenticated_client(api_base_url, username, password)"
   ]
  },
  {
   "cell_type": "code",
   "execution_count": 26,
   "id": "57b12f69-0269-4cf4-b7bd-b94486f6b6f3",
   "metadata": {
    "tags": []
   },
   "outputs": [],
   "source": [
    "# mastodon.toot(\"toot! toot!\")"
   ]
  },
  {
   "cell_type": "markdown",
   "id": "def857a0-360a-4fcb-a7bf-39a02cccd4ef",
   "metadata": {
    "tags": []
   },
   "source": [
    "## Mastodon Staging, new User"
   ]
  },
  {
   "cell_type": "code",
   "execution_count": 29,
   "id": "bfe7c9b1-5546-4bc4-bca8-ff7cfce4dab7",
   "metadata": {
    "tags": []
   },
   "outputs": [
    {
     "name": "stdin",
     "output_type": "stream",
     "text": [
      " ········\n"
     ]
    },
    {
     "name": "stdout",
     "output_type": "stream",
     "text": [
      "<mastodon.Mastodon.Mastodon object at 0x113474fd0>\n"
     ]
    },
    {
     "ename": "MastodonIllegalArgumentError",
     "evalue": "Invalid user name, password, or redirect_uris: ('Mastodon API returned error', 400, 'Bad Request', 'invalid_grant')",
     "output_type": "error",
     "traceback": [
      "\u001b[0;31m---------------------------------------------------------------------------\u001b[0m",
      "\u001b[0;31mMastodonAPIError\u001b[0m                          Traceback (most recent call last)",
      "File \u001b[0;32m~/projects/pytest-course/venv/lib/python3.11/site-packages/mastodon/authentication.py:328\u001b[0m, in \u001b[0;36mMastodon.log_in\u001b[0;34m(self, username, password, code, redirect_uri, refresh_token, scopes, to_file)\u001b[0m\n\u001b[1;32m    327\u001b[0m \u001b[38;5;28;01mtry\u001b[39;00m:\n\u001b[0;32m--> 328\u001b[0m     response \u001b[38;5;241m=\u001b[39m \u001b[38;5;28;43mself\u001b[39;49m\u001b[38;5;241;43m.\u001b[39;49m\u001b[43m__api_request\u001b[49m\u001b[43m(\u001b[49m\u001b[38;5;124;43m'\u001b[39;49m\u001b[38;5;124;43mPOST\u001b[39;49m\u001b[38;5;124;43m'\u001b[39;49m\u001b[43m,\u001b[49m\u001b[43m \u001b[49m\u001b[38;5;124;43m'\u001b[39;49m\u001b[38;5;124;43m/oauth/token\u001b[39;49m\u001b[38;5;124;43m'\u001b[39;49m\u001b[43m,\u001b[49m\u001b[43m \u001b[49m\u001b[43mparams\u001b[49m\u001b[43m,\u001b[49m\u001b[43m \u001b[49m\u001b[43mdo_ratelimiting\u001b[49m\u001b[38;5;241;43m=\u001b[39;49m\u001b[38;5;28;43;01mFalse\u001b[39;49;00m\u001b[43m)\u001b[49m\n\u001b[1;32m    329\u001b[0m     \u001b[38;5;28mself\u001b[39m\u001b[38;5;241m.\u001b[39maccess_token \u001b[38;5;241m=\u001b[39m response[\u001b[38;5;124m'\u001b[39m\u001b[38;5;124maccess_token\u001b[39m\u001b[38;5;124m'\u001b[39m]\n",
      "File \u001b[0;32m~/projects/pytest-course/venv/lib/python3.11/site-packages/mastodon/internals.py:297\u001b[0m, in \u001b[0;36mMastodon.__api_request\u001b[0;34m(self, method, endpoint, params, files, headers, access_token_override, base_url_override, do_ratelimiting, use_json, parse, return_response_object, skip_error_check, lang_override)\u001b[0m\n\u001b[1;32m    295\u001b[0m             ex_type \u001b[38;5;241m=\u001b[39m MastodonAPIError\n\u001b[0;32m--> 297\u001b[0m         \u001b[38;5;28;01mraise\u001b[39;00m ex_type(\u001b[38;5;124m'\u001b[39m\u001b[38;5;124mMastodon API returned error\u001b[39m\u001b[38;5;124m'\u001b[39m, response_object\u001b[38;5;241m.\u001b[39mstatus_code, response_object\u001b[38;5;241m.\u001b[39mreason, error_msg)\n\u001b[1;32m    299\u001b[0m \u001b[38;5;28;01mif\u001b[39;00m return_response_object:\n",
      "\u001b[0;31mMastodonAPIError\u001b[0m: ('Mastodon API returned error', 400, 'Bad Request', 'invalid_grant')",
      "\nDuring handling of the above exception, another exception occurred:\n",
      "\u001b[0;31mMastodonIllegalArgumentError\u001b[0m              Traceback (most recent call last)",
      "Cell \u001b[0;32mIn[29], line 4\u001b[0m\n\u001b[1;32m      2\u001b[0m api_base_url \u001b[38;5;241m=\u001b[39m \u001b[38;5;124m\"\u001b[39m\u001b[38;5;124mhttps://mastodon.staging.django-cast.com\u001b[39m\u001b[38;5;124m\"\u001b[39m\n\u001b[1;32m      3\u001b[0m password \u001b[38;5;241m=\u001b[39m getpass()\n\u001b[0;32m----> 4\u001b[0m mastodon \u001b[38;5;241m=\u001b[39m \u001b[43mget_authenticated_client\u001b[49m\u001b[43m(\u001b[49m\u001b[43mapi_base_url\u001b[49m\u001b[43m,\u001b[49m\u001b[43m \u001b[49m\u001b[43musername\u001b[49m\u001b[43m,\u001b[49m\u001b[43m \u001b[49m\u001b[43mpassword\u001b[49m\u001b[43m)\u001b[49m\n",
      "Cell \u001b[0;32mIn[23], line 9\u001b[0m, in \u001b[0;36mget_authenticated_client\u001b[0;34m(api_base_url, username, password, client_name)\u001b[0m\n\u001b[1;32m      3\u001b[0m mastodon \u001b[38;5;241m=\u001b[39m Mastodon(\n\u001b[1;32m      4\u001b[0m     client_id\u001b[38;5;241m=\u001b[39mclient_id,\n\u001b[1;32m      5\u001b[0m     client_secret\u001b[38;5;241m=\u001b[39msecret,\n\u001b[1;32m      6\u001b[0m     api_base_url\u001b[38;5;241m=\u001b[39mapi_base_url\n\u001b[1;32m      7\u001b[0m )\n\u001b[1;32m      8\u001b[0m \u001b[38;5;28mprint\u001b[39m(mastodon)\n\u001b[0;32m----> 9\u001b[0m access_token \u001b[38;5;241m=\u001b[39m \u001b[43mmastodon\u001b[49m\u001b[38;5;241;43m.\u001b[39;49m\u001b[43mlog_in\u001b[49m\u001b[43m(\u001b[49m\u001b[43musername\u001b[49m\u001b[43m,\u001b[49m\u001b[43m \u001b[49m\u001b[43mpassword\u001b[49m\u001b[43m)\u001b[49m\n\u001b[1;32m     10\u001b[0m mastodon\u001b[38;5;241m.\u001b[39maccess_token \u001b[38;5;241m=\u001b[39m access_token\n\u001b[1;32m     11\u001b[0m \u001b[38;5;28;01mreturn\u001b[39;00m mastodon\n",
      "File \u001b[0;32m~/projects/pytest-course/venv/lib/python3.11/site-packages/mastodon/authentication.py:334\u001b[0m, in \u001b[0;36mMastodon.log_in\u001b[0;34m(self, username, password, code, redirect_uri, refresh_token, scopes, to_file)\u001b[0m\n\u001b[1;32m    332\u001b[0m \u001b[38;5;28;01mexcept\u001b[39;00m \u001b[38;5;167;01mException\u001b[39;00m \u001b[38;5;28;01mas\u001b[39;00m e:\n\u001b[1;32m    333\u001b[0m     \u001b[38;5;28;01mif\u001b[39;00m username \u001b[38;5;129;01mis\u001b[39;00m \u001b[38;5;129;01mnot\u001b[39;00m \u001b[38;5;28;01mNone\u001b[39;00m \u001b[38;5;129;01mor\u001b[39;00m password \u001b[38;5;129;01mis\u001b[39;00m \u001b[38;5;129;01mnot\u001b[39;00m \u001b[38;5;28;01mNone\u001b[39;00m:\n\u001b[0;32m--> 334\u001b[0m         \u001b[38;5;28;01mraise\u001b[39;00m MastodonIllegalArgumentError(\u001b[38;5;124mf\u001b[39m\u001b[38;5;124m'\u001b[39m\u001b[38;5;124mInvalid user name, password, or redirect_uris: \u001b[39m\u001b[38;5;132;01m{\u001b[39;00me\u001b[38;5;132;01m}\u001b[39;00m\u001b[38;5;124m'\u001b[39m)\n\u001b[1;32m    335\u001b[0m     \u001b[38;5;28;01melif\u001b[39;00m code \u001b[38;5;129;01mis\u001b[39;00m \u001b[38;5;129;01mnot\u001b[39;00m \u001b[38;5;28;01mNone\u001b[39;00m:\n\u001b[1;32m    336\u001b[0m         \u001b[38;5;28;01mraise\u001b[39;00m MastodonIllegalArgumentError(\u001b[38;5;124mf\u001b[39m\u001b[38;5;124m'\u001b[39m\u001b[38;5;124mInvalid access token or redirect_uris: \u001b[39m\u001b[38;5;132;01m{\u001b[39;00me\u001b[38;5;132;01m}\u001b[39;00m\u001b[38;5;124m'\u001b[39m)\n",
      "\u001b[0;31mMastodonIllegalArgumentError\u001b[0m: Invalid user name, password, or redirect_uris: ('Mastodon API returned error', 400, 'Bad Request', 'invalid_grant')"
     ]
    }
   ],
   "source": [
    "username = \"foobar@wersdoerfer.de\"\n",
    "api_base_url = \"https://mastodon.staging.django-cast.com\"\n",
    "password = getpass()\n",
    "mastodon = get_authenticated_client(api_base_url, username, password)"
   ]
  },
  {
   "cell_type": "markdown",
   "id": "f119e45b-2096-4ada-9c27-b00ac7e236e0",
   "metadata": {},
   "source": [
    "# Takahe Staging"
   ]
  },
  {
   "cell_type": "code",
   "execution_count": 27,
   "id": "32a4699b-79a8-40de-9332-58ccf820aa20",
   "metadata": {
    "tags": []
   },
   "outputs": [
    {
     "name": "stdin",
     "output_type": "stream",
     "text": [
      " ········\n"
     ]
    },
    {
     "name": "stdout",
     "output_type": "stream",
     "text": [
      "<mastodon.Mastodon.Mastodon object at 0x113600090>\n"
     ]
    },
    {
     "ename": "MastodonIllegalArgumentError",
     "evalue": "Invalid user name, password, or redirect_uris: ('Mastodon API returned error', 400, 'Bad Request', 'invalid_grant_type')",
     "output_type": "error",
     "traceback": [
      "\u001b[0;31m---------------------------------------------------------------------------\u001b[0m",
      "\u001b[0;31mMastodonAPIError\u001b[0m                          Traceback (most recent call last)",
      "File \u001b[0;32m~/projects/pytest-course/venv/lib/python3.11/site-packages/mastodon/authentication.py:328\u001b[0m, in \u001b[0;36mMastodon.log_in\u001b[0;34m(self, username, password, code, redirect_uri, refresh_token, scopes, to_file)\u001b[0m\n\u001b[1;32m    327\u001b[0m \u001b[38;5;28;01mtry\u001b[39;00m:\n\u001b[0;32m--> 328\u001b[0m     response \u001b[38;5;241m=\u001b[39m \u001b[38;5;28;43mself\u001b[39;49m\u001b[38;5;241;43m.\u001b[39;49m\u001b[43m__api_request\u001b[49m\u001b[43m(\u001b[49m\u001b[38;5;124;43m'\u001b[39;49m\u001b[38;5;124;43mPOST\u001b[39;49m\u001b[38;5;124;43m'\u001b[39;49m\u001b[43m,\u001b[49m\u001b[43m \u001b[49m\u001b[38;5;124;43m'\u001b[39;49m\u001b[38;5;124;43m/oauth/token\u001b[39;49m\u001b[38;5;124;43m'\u001b[39;49m\u001b[43m,\u001b[49m\u001b[43m \u001b[49m\u001b[43mparams\u001b[49m\u001b[43m,\u001b[49m\u001b[43m \u001b[49m\u001b[43mdo_ratelimiting\u001b[49m\u001b[38;5;241;43m=\u001b[39;49m\u001b[38;5;28;43;01mFalse\u001b[39;49;00m\u001b[43m)\u001b[49m\n\u001b[1;32m    329\u001b[0m     \u001b[38;5;28mself\u001b[39m\u001b[38;5;241m.\u001b[39maccess_token \u001b[38;5;241m=\u001b[39m response[\u001b[38;5;124m'\u001b[39m\u001b[38;5;124maccess_token\u001b[39m\u001b[38;5;124m'\u001b[39m]\n",
      "File \u001b[0;32m~/projects/pytest-course/venv/lib/python3.11/site-packages/mastodon/internals.py:297\u001b[0m, in \u001b[0;36mMastodon.__api_request\u001b[0;34m(self, method, endpoint, params, files, headers, access_token_override, base_url_override, do_ratelimiting, use_json, parse, return_response_object, skip_error_check, lang_override)\u001b[0m\n\u001b[1;32m    295\u001b[0m             ex_type \u001b[38;5;241m=\u001b[39m MastodonAPIError\n\u001b[0;32m--> 297\u001b[0m         \u001b[38;5;28;01mraise\u001b[39;00m ex_type(\u001b[38;5;124m'\u001b[39m\u001b[38;5;124mMastodon API returned error\u001b[39m\u001b[38;5;124m'\u001b[39m, response_object\u001b[38;5;241m.\u001b[39mstatus_code, response_object\u001b[38;5;241m.\u001b[39mreason, error_msg)\n\u001b[1;32m    299\u001b[0m \u001b[38;5;28;01mif\u001b[39;00m return_response_object:\n",
      "\u001b[0;31mMastodonAPIError\u001b[0m: ('Mastodon API returned error', 400, 'Bad Request', 'invalid_grant_type')",
      "\nDuring handling of the above exception, another exception occurred:\n",
      "\u001b[0;31mMastodonIllegalArgumentError\u001b[0m              Traceback (most recent call last)",
      "Cell \u001b[0;32mIn[27], line 4\u001b[0m\n\u001b[1;32m      2\u001b[0m api_base_url \u001b[38;5;241m=\u001b[39m \u001b[38;5;124m\"\u001b[39m\u001b[38;5;124mhttps://takahe.staging.django-cast.com/\u001b[39m\u001b[38;5;124m\"\u001b[39m\n\u001b[1;32m      3\u001b[0m password \u001b[38;5;241m=\u001b[39m getpass()\n\u001b[0;32m----> 4\u001b[0m mastodon \u001b[38;5;241m=\u001b[39m \u001b[43mget_authenticated_client\u001b[49m\u001b[43m(\u001b[49m\u001b[43mapi_base_url\u001b[49m\u001b[43m,\u001b[49m\u001b[43m \u001b[49m\u001b[43musername\u001b[49m\u001b[43m,\u001b[49m\u001b[43m \u001b[49m\u001b[43mpassword\u001b[49m\u001b[43m)\u001b[49m\n",
      "Cell \u001b[0;32mIn[23], line 9\u001b[0m, in \u001b[0;36mget_authenticated_client\u001b[0;34m(api_base_url, username, password, client_name)\u001b[0m\n\u001b[1;32m      3\u001b[0m mastodon \u001b[38;5;241m=\u001b[39m Mastodon(\n\u001b[1;32m      4\u001b[0m     client_id\u001b[38;5;241m=\u001b[39mclient_id,\n\u001b[1;32m      5\u001b[0m     client_secret\u001b[38;5;241m=\u001b[39msecret,\n\u001b[1;32m      6\u001b[0m     api_base_url\u001b[38;5;241m=\u001b[39mapi_base_url\n\u001b[1;32m      7\u001b[0m )\n\u001b[1;32m      8\u001b[0m \u001b[38;5;28mprint\u001b[39m(mastodon)\n\u001b[0;32m----> 9\u001b[0m access_token \u001b[38;5;241m=\u001b[39m \u001b[43mmastodon\u001b[49m\u001b[38;5;241;43m.\u001b[39;49m\u001b[43mlog_in\u001b[49m\u001b[43m(\u001b[49m\u001b[43musername\u001b[49m\u001b[43m,\u001b[49m\u001b[43m \u001b[49m\u001b[43mpassword\u001b[49m\u001b[43m)\u001b[49m\n\u001b[1;32m     10\u001b[0m mastodon\u001b[38;5;241m.\u001b[39maccess_token \u001b[38;5;241m=\u001b[39m access_token\n\u001b[1;32m     11\u001b[0m \u001b[38;5;28;01mreturn\u001b[39;00m mastodon\n",
      "File \u001b[0;32m~/projects/pytest-course/venv/lib/python3.11/site-packages/mastodon/authentication.py:334\u001b[0m, in \u001b[0;36mMastodon.log_in\u001b[0;34m(self, username, password, code, redirect_uri, refresh_token, scopes, to_file)\u001b[0m\n\u001b[1;32m    332\u001b[0m \u001b[38;5;28;01mexcept\u001b[39;00m \u001b[38;5;167;01mException\u001b[39;00m \u001b[38;5;28;01mas\u001b[39;00m e:\n\u001b[1;32m    333\u001b[0m     \u001b[38;5;28;01mif\u001b[39;00m username \u001b[38;5;129;01mis\u001b[39;00m \u001b[38;5;129;01mnot\u001b[39;00m \u001b[38;5;28;01mNone\u001b[39;00m \u001b[38;5;129;01mor\u001b[39;00m password \u001b[38;5;129;01mis\u001b[39;00m \u001b[38;5;129;01mnot\u001b[39;00m \u001b[38;5;28;01mNone\u001b[39;00m:\n\u001b[0;32m--> 334\u001b[0m         \u001b[38;5;28;01mraise\u001b[39;00m MastodonIllegalArgumentError(\u001b[38;5;124mf\u001b[39m\u001b[38;5;124m'\u001b[39m\u001b[38;5;124mInvalid user name, password, or redirect_uris: \u001b[39m\u001b[38;5;132;01m{\u001b[39;00me\u001b[38;5;132;01m}\u001b[39;00m\u001b[38;5;124m'\u001b[39m)\n\u001b[1;32m    335\u001b[0m     \u001b[38;5;28;01melif\u001b[39;00m code \u001b[38;5;129;01mis\u001b[39;00m \u001b[38;5;129;01mnot\u001b[39;00m \u001b[38;5;28;01mNone\u001b[39;00m:\n\u001b[1;32m    336\u001b[0m         \u001b[38;5;28;01mraise\u001b[39;00m MastodonIllegalArgumentError(\u001b[38;5;124mf\u001b[39m\u001b[38;5;124m'\u001b[39m\u001b[38;5;124mInvalid access token or redirect_uris: \u001b[39m\u001b[38;5;132;01m{\u001b[39;00me\u001b[38;5;132;01m}\u001b[39;00m\u001b[38;5;124m'\u001b[39m)\n",
      "\u001b[0;31mMastodonIllegalArgumentError\u001b[0m: Invalid user name, password, or redirect_uris: ('Mastodon API returned error', 400, 'Bad Request', 'invalid_grant_type')"
     ]
    }
   ],
   "source": [
    "username = \"jochen-takahe@wersdoerfer.de\"\n",
    "api_base_url = \"https://takahe.staging.django-cast.com/\"\n",
    "password = getpass()\n",
    "mastodon = get_authenticated_client(api_base_url, username, password)"
   ]
  },
  {
   "cell_type": "code",
   "execution_count": null,
   "id": "48222258-f1f9-42cc-bb45-ac1791d900f3",
   "metadata": {},
   "outputs": [],
   "source": []
  }
 ],
 "metadata": {
  "kernelspec": {
   "display_name": "Django Kernel",
   "language": "python",
   "name": "django_extensions"
  },
  "language_info": {
   "codemirror_mode": {
    "name": "ipython",
    "version": 3
   },
   "file_extension": ".py",
   "mimetype": "text/x-python",
   "name": "python",
   "nbconvert_exporter": "python",
   "pygments_lexer": "ipython3",
   "version": "3.11.3"
  }
 },
 "nbformat": 4,
 "nbformat_minor": 5
}
