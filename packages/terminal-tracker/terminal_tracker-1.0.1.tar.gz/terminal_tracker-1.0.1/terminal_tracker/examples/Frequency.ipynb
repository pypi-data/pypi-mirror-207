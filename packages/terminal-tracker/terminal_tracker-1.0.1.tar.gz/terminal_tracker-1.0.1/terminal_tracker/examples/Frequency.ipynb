{
 "cells": [
  {
   "cell_type": "code",
   "execution_count": 1,
   "metadata": {},
   "outputs": [
    {
     "name": "stdout",
     "output_type": "stream",
     "text": [
      "Collecting terminal-tracker\n",
      "  Downloading terminal_tracker-1.0.0-py3-none-any.whl (35 kB)\n",
      "Installing collected packages: terminal-tracker\n",
      "Successfully installed terminal-tracker-1.0.0\n"
     ]
    }
   ],
   "source": [
    "!pip install terminal-tracker"
   ]
  },
  {
   "cell_type": "code",
   "execution_count": 2,
   "metadata": {},
   "outputs": [],
   "source": [
    "from terminal_tracker import FrequencyFile\n",
    "\n",
    "ff = FrequencyFile(\"history_files/zsh_history.txt\", timeframe=False, shell=\"zsh\")"
   ]
  },
  {
   "cell_type": "code",
   "execution_count": 3,
   "metadata": {},
   "outputs": [
    {
     "name": "stdout",
     "output_type": "stream",
     "text": [
      "Most frequent start command: dune\n",
      "Most frequent command: dune exec -- bin/main.exe -l lib/test.mc > output\n"
     ]
    }
   ],
   "source": [
    "most_frequent_start_command = ff.find_most_frequent_start()\n",
    "print(\"Most frequent start command: \" + str(most_frequent_start_command))\n",
    "most_frequent_command = ff.find_most_frequent()\n",
    "print(\"Most frequent command: \" + str(most_frequent_command))"
   ]
  },
  {
   "cell_type": "code",
   "execution_count": 4,
   "metadata": {},
   "outputs": [
    {
     "name": "stdout",
     "output_type": "stream",
     "text": [
      "Freq: 164 -> dune exec -- bin/main.exe -l lib/test.mc > output\n",
      "Freq: 135 -> lli output\n",
      "Freq: 87 -> dune build bin/main.exe\n",
      "Freq: 51 -> git status\n",
      "Freq: 44 -> python testPendulum.py\n"
     ]
    }
   ],
   "source": [
    "ff.print_top(type=\"full\", N=5)"
   ]
  },
  {
   "cell_type": "code",
   "execution_count": 5,
   "metadata": {},
   "outputs": [
    {
     "name": "stdout",
     "output_type": "stream",
     "text": [
      "dune exec -- bin/main.exe -l lib/test.mc > output\n"
     ]
    }
   ],
   "source": [
    "from IPython.utils import io\n",
    "\n",
    "with io.capture_output() as captured:\n",
    "    alias_command = ff.recommend_alias(weight_freq=0.5, weight_len=0.5)\n",
    "print(alias_command)"
   ]
  },
  {
   "cell_type": "code",
   "execution_count": null,
   "metadata": {},
   "outputs": [],
   "source": []
  }
 ],
 "metadata": {
  "kernelspec": {
   "display_name": "Python 3.9.12 ('base')",
   "language": "python",
   "name": "python3"
  },
  "language_info": {
   "codemirror_mode": {
    "name": "ipython",
    "version": 3
   },
   "file_extension": ".py",
   "mimetype": "text/x-python",
   "name": "python",
   "nbconvert_exporter": "python",
   "pygments_lexer": "ipython3",
   "version": "3.9.12"
  },
  "orig_nbformat": 4,
  "vscode": {
   "interpreter": {
    "hash": "bc18c4434ef79a9e109b03887c72545f896b56f238edb7d9b0f0df76d12bcf46"
   }
  }
 },
 "nbformat": 4,
 "nbformat_minor": 2
}
