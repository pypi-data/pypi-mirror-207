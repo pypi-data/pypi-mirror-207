{
 "cells": [
  {
   "cell_type": "code",
   "execution_count": null,
   "metadata": {},
   "outputs": [
    {
     "ename": "",
     "evalue": "",
     "output_type": "error",
     "traceback": [
      "\u001b[1;31mRunning cells with 'jijbench-A9NJ8a_p-py3.9' requires ipykernel package.\n",
      "\u001b[1;31mRun the following command to install 'ipykernel' into the Python environment. \n",
      "\u001b[1;31mCommand: '/home/d/.cache/pypoetry/virtualenvs/jijbench-A9NJ8a_p-py3.9/bin/python -m pip install ipykernel -U --force-reinstall'"
     ]
    }
   ],
   "source": [
    "import jijbench as jb\n",
    "\n",
    "jb.checkpoint(\"sample\")\n",
    "def f(s: str):\n",
    "    return s\n",
    "\n",
    "for s in \"hello world\":\n",
    "    f(s)\n"
   ]
  }
 ],
 "metadata": {
  "kernelspec": {
   "display_name": "jijbench-A9NJ8a_p-py3.9",
   "language": "python",
   "name": "python3"
  },
  "language_info": {
   "name": "python",
   "version": "3.9.16 (main, Feb  8 2023, 12:35:49) \n[GCC 9.4.0]"
  },
  "orig_nbformat": 4,
  "vscode": {
   "interpreter": {
    "hash": "537affee9e1b89ad8e72ed2b30c42e3c531742c5eed346052ed678f2cfc06aad"
   }
  }
 },
 "nbformat": 4,
 "nbformat_minor": 2
}
