{
 "cells": [
  {
   "cell_type": "markdown",
   "id": "56de2cea-1515-45e6-8952-b4c261d94fbf",
   "metadata": {},
   "source": [
    "# ![](logo.svg) `doitoml` playground\n",
    "\n",
    "This is the \"behind-the-scenes\" view of making an interactive playground: pressing `▶▶` (restart-and-run-all) should reveal a new app panel."
   ]
  },
  {
   "cell_type": "code",
   "execution_count": null,
   "id": "93195900-6d5b-4a9f-ba50-40f85478a21e",
   "metadata": {
    "tags": []
   },
   "outputs": [],
   "source": [
    "if __name__ == \"__main__\" and __import__(\"platform\").machine() == \"wasm32\":\n",
    "    %pip install -r requirements.txt"
   ]
  },
  {
   "cell_type": "code",
   "execution_count": null,
   "id": "fcb019dc-5b12-4eac-ae64-ba8c95aa7c20",
   "metadata": {
    "tags": []
   },
   "outputs": [],
   "source": [
    "%reload_ext autoreload\n",
    "%autoreload 2"
   ]
  },
  {
   "cell_type": "markdown",
   "id": "aad58b0f-2b7a-4af3-979e-99468d9a6b06",
   "metadata": {},
   "source": [
    "This cell imports [dodo.py](./dodo.py), which applies a few patches to make importing `doit` work."
   ]
  },
  {
   "cell_type": "code",
   "execution_count": null,
   "id": "f58e3601-4af9-4947-a805-5dfeacb9feec",
   "metadata": {
    "tags": []
   },
   "outputs": [],
   "source": [
    "import dodo\n",
    "\n",
    "print(dodo.__doc__)"
   ]
  },
  {
   "cell_type": "code",
   "execution_count": null,
   "id": "fe471005-d80f-44ec-bc37-b8bf12f54ba5",
   "metadata": {
    "tags": []
   },
   "outputs": [],
   "source": [
    "import os\n",
    "from pathlib import Path\n",
    "from tempfile import TemporaryDirectory\n",
    "\n",
    "import ipylab as L\n",
    "import ipywidgets as W\n",
    "import traitlets as T\n",
    "from doitoml import DoiTOML\n",
    "from IPython.display import JSON, Markdown"
   ]
  },
  {
   "cell_type": "code",
   "execution_count": null,
   "id": "3d80505e-7670-45d4-9953-877c22248ff3",
   "metadata": {
    "tags": []
   },
   "outputs": [],
   "source": [
    "style = W.HTML(\n",
    "    \"\"\"\n",
    "<style>\n",
    ".doitoml .jp-widgets-unset-width {\n",
    "    width: unset !important;\n",
    "}\n",
    ".doitoml .jp-OutputArea-prompt {\n",
    "    display: none\n",
    "}\n",
    ".doitoml .jp-OutputArea {\n",
    "    max-height: 100%;\n",
    "}\n",
    "</style>\n",
    "\"\"\",\n",
    "    layout={\"flex\": \"0\"},\n",
    ")"
   ]
  },
  {
   "cell_type": "code",
   "execution_count": null,
   "id": "c36cc9b8-4bf4-4e2c-84f0-54ec255386ca",
   "metadata": {
    "tags": []
   },
   "outputs": [],
   "source": [
    "if __name__ == \"__main__\":\n",
    "    display(style)"
   ]
  },
  {
   "cell_type": "code",
   "execution_count": null,
   "id": "1a4712f5-29ac-4a3c-93d9-1369c466bbb3",
   "metadata": {
    "tags": []
   },
   "outputs": [],
   "source": [
    "def make_a_file(files: W.Box, name=\"\", text=\"\"):\n",
    "    ui_name = W.Text(name, placeholder=\"path to file\")\n",
    "    ui_text = W.Textarea(text, placeholder=\"file content\", layout={\"width\": \"99%\"})\n",
    "    ui_remove = W.Button(\n",
    "        icon=\"trash\",\n",
    "        button_style=\"danger\",\n",
    "        tooltip=\"remove file\",\n",
    "        _dom_classes=[\"jp-widgets-unset-width\"],\n",
    "    )\n",
    "    ui = W.VBox([W.HBox([ui_remove, ui_name]), ui_text])\n",
    "    ui.add_traits(name=T.Unicode().tag(sync=True), text=T.Unicode().tag(sync=True))\n",
    "    T.link((ui_name, \"value\"), (ui, \"name\"))\n",
    "    T.link((ui_text, \"value\"), (ui, \"text\"))\n",
    "    ui_name.observe(files.files_changed, \"value\")\n",
    "    ui_text.observe(files.files_changed, \"value\")\n",
    "    T.dlink((ui_text, \"value\"), (ui_text, \"rows\"), lambda x: len(x.splitlines()) + 1)\n",
    "\n",
    "    @ui_remove.on_click\n",
    "    def remove(*args):\n",
    "        files.children = [c for c in files.children if c != ui]\n",
    "\n",
    "    files.children = [*files.children, ui]"
   ]
  },
  {
   "cell_type": "code",
   "execution_count": null,
   "id": "2f0f8c81-38c5-4b8c-9c41-b4be98acff57",
   "metadata": {
    "tags": []
   },
   "outputs": [],
   "source": [
    "def count_files(p: Path):\n",
    "    return len(\n",
    "        [c for c in p.rglob(\"*\") if not c.is_dir() and \"checkpoint\" not in str(c)],\n",
    "    )"
   ]
  },
  {
   "cell_type": "code",
   "execution_count": null,
   "id": "5efc1b55-5d76-4de5-830b-a932f2b4297a",
   "metadata": {
    "tags": []
   },
   "outputs": [],
   "source": [
    "def make_a_file_list():\n",
    "    files = W.VBox(layout={\"display\": \"block\"})\n",
    "    ui_add_file = W.Button(description=\"add file\", icon=\"plus\", button_style=\"primary\")\n",
    "    examples = sorted(Path(\"playground-examples\").glob(\"*\"))\n",
    "    load_label = \"load example...\"\n",
    "    options = {load_label: None}\n",
    "    options.update(\n",
    "        {\n",
    "            \"{} (files: {})\".format(\n",
    "                p.name.split(\".\")[0].replace(\"-\", \" \").replace(\"_\", \".\"),\n",
    "                count_files(p),\n",
    "            ): p\n",
    "            for p in examples\n",
    "            if p.is_dir() and \"checkpoint\" not in str(p)\n",
    "        },\n",
    "    )\n",
    "    ui_pick = W.Dropdown(description=\"example\", options=options)\n",
    "    ui_pick.label = load_label\n",
    "\n",
    "    def on_pick(*_):\n",
    "        if ui_pick.value is None:\n",
    "            return\n",
    "        with ui.hold_sync():\n",
    "            files.children = []\n",
    "            for p in sorted(ui_pick.value.rglob(\"*\")):\n",
    "                if \"checkpoint\" in str(p):\n",
    "                    continue\n",
    "                make_a_file(files, name=p.name, text=p.read_text(encoding=\"utf-8\"))\n",
    "\n",
    "    ui_pick.observe(on_pick, \"value\")\n",
    "    controls = W.HBox([ui_pick, ui_add_file])\n",
    "    ui = W.VBox([controls, files], layout={\"flex\": \"1\"})\n",
    "    ui.add_traits(files=T.Dict())\n",
    "\n",
    "    def _files_changed(self, *_):\n",
    "        ui.files = {f.name: f.text for f in files.children}\n",
    "\n",
    "    files.files_changed = _files_changed\n",
    "    files.observe(files.files_changed, \"children\")\n",
    "\n",
    "    @ui_add_file.on_click\n",
    "    def add(*_):\n",
    "        make_a_file(files)\n",
    "\n",
    "    return ui"
   ]
  },
  {
   "cell_type": "code",
   "execution_count": null,
   "id": "604c697b-5f13-4d7d-9918-2f62726f24ae",
   "metadata": {
    "tags": []
   },
   "outputs": [],
   "source": [
    "if __name__ == \"__main__\":\n",
    "    file_list = make_a_file_list()\n",
    "    display(file_list)"
   ]
  },
  {
   "cell_type": "code",
   "execution_count": null,
   "id": "7ca9dc66-f214-4c07-8cc9-4d4659dc8084",
   "metadata": {
    "tags": []
   },
   "outputs": [],
   "source": [
    "def make_an_output_area(file_list):\n",
    "    ui_err = W.Output(layout={\"flex\": \"0\"})\n",
    "    ui_mermaid = W.Output(layout={\"flex\": \"1\"})\n",
    "    ui_json = W.Output(layout={\"flex\": \"1\"})\n",
    "    outputs = L.SplitPanel(\n",
    "        [ui_mermaid, ui_json],\n",
    "        layout={\"flex\": \"1\", \"overflow\": \"hidden\"},\n",
    "    )\n",
    "    ui = W.VBox([ui_err, outputs], layout={\"flex\": \"1\"})\n",
    "    placeholder = W.HTML(\"<blockquote>no <code>doitoml</code> yet.</blockquote>\")\n",
    "    with ui_json:\n",
    "        display(placeholder)\n",
    "    with ui_mermaid:\n",
    "        display(placeholder)\n",
    "\n",
    "    def on_files(*_):\n",
    "        with TemporaryDirectory() as td:\n",
    "            tdp = Path(td)\n",
    "            for name, text in file_list.files.items():\n",
    "                if not name or not text:\n",
    "                    continue\n",
    "                path = tdp / name\n",
    "                path.write_text(text, encoding=\"utf-8\")\n",
    "            ui_err.clear_output()\n",
    "            dt = None\n",
    "            dt_dict = {}\n",
    "            ui_err.clear_output()\n",
    "            ui_json.clear_output()\n",
    "            ui_mermaid.clear_output()\n",
    "            with ui_err:\n",
    "                try:\n",
    "                    dt = DoiTOML(cwd=td)\n",
    "                    dt_dict = dt.config.to_dict()\n",
    "                    dt_dict[\"env\"] = {\n",
    "                        k: v for k, v in dt_dict[\"env\"].items() if k not in os.environ\n",
    "                    }\n",
    "                except Exception as err:\n",
    "                    display(Markdown(f\"**{err.__class__.__name__}**: _{err}_\"))\n",
    "            with ui_json:\n",
    "                display(JSON(dt_dict, expanded=True) if dt_dict else placeholder)\n",
    "            with ui_mermaid:\n",
    "                display(\n",
    "                    Markdown(dodo.dt2mermaid(dt_dict, \"TB\"))\n",
    "                    if dt_dict\n",
    "                    else placeholder,\n",
    "                )\n",
    "\n",
    "    file_list.observe(on_files, \"files\")\n",
    "    return ui"
   ]
  },
  {
   "cell_type": "code",
   "execution_count": null,
   "id": "01c4e5a4-ba7d-4308-861c-4af7847017e5",
   "metadata": {
    "tags": []
   },
   "outputs": [],
   "source": [
    "if __name__ == \"__main__\":\n",
    "    output_area = make_an_output_area(file_list)\n",
    "    display(output_area)"
   ]
  },
  {
   "cell_type": "code",
   "execution_count": null,
   "id": "d037f1e9-d1e2-4ef6-ba10-1749fc2f65f8",
   "metadata": {
    "tags": []
   },
   "outputs": [],
   "source": [
    "def make_an_app():\n",
    "    file_list = make_a_file_list()\n",
    "    outputs = make_an_output_area(file_list)\n",
    "    main = L.SplitPanel(\n",
    "        [file_list, outputs],\n",
    "        orientation=\"horizontal\",\n",
    "        layout={\"flex\": \"1\", \"overflow\": \"hidden\"},\n",
    "    )\n",
    "    ui_app = W.VBox(\n",
    "        [main, style],\n",
    "        layout={\"min_height\": \"400px\", \"height\": \"100%\", \"overflow\": \"hidden\"},\n",
    "        _dom_classes=[\"doitoml\"],\n",
    "    )\n",
    "    return ui_app"
   ]
  },
  {
   "cell_type": "code",
   "execution_count": null,
   "id": "8808d376-fd55-4391-ad2c-0c47c61163b8",
   "metadata": {
    "tags": []
   },
   "outputs": [],
   "source": [
    "if __name__ == \"__main__\":\n",
    "    app = make_an_app()\n",
    "    display(app)"
   ]
  },
  {
   "cell_type": "code",
   "execution_count": null,
   "id": "7107e44a-3723-4fa0-8312-138ca5e40a9c",
   "metadata": {
    "tags": []
   },
   "outputs": [],
   "source": [
    "def show_an_app_panel(app):\n",
    "    app = app or make_an_app()\n",
    "    lab = L.JupyterFrontEnd()\n",
    "    icon = L.Icon(\n",
    "        svgstr=Path(\"logo.svg\")\n",
    "        .read_text(encoding=\"utf-8\")\n",
    "        .replace(\"\"\"height=\"32\"\"\", \"\"\"height=\"16\"\"\")\n",
    "        .replace(\"\"\"width=\"32\"\"\", \"\"\"width=\"16\"\"\"),\n",
    "    )\n",
    "    panel = L.Panel([app])\n",
    "    panel.title.label = \"doitoml playground\"\n",
    "    panel.title.icon = icon\n",
    "    lab.shell.add(panel, \"main\")"
   ]
  },
  {
   "cell_type": "code",
   "execution_count": null,
   "id": "7b69ea3c-48af-4344-8a0e-3685134e371d",
   "metadata": {
    "tags": []
   },
   "outputs": [],
   "source": [
    "if __name__ == \"__main__\":\n",
    "    show_an_app_panel(app)"
   ]
  }
 ],
 "metadata": {
  "kernelspec": {
   "display_name": "Python 3 (ipykernel)",
   "language": "python",
   "name": "python3"
  },
  "language_info": {
   "codemirror_mode": {
    "name": "ipython",
    "version": 3
   },
   "file_extension": ".py",
   "mimetype": "text/x-python",
   "name": "python",
   "nbconvert_exporter": "python",
   "pygments_lexer": "ipython3",
   "version": "3.11.3"
  }
 },
 "nbformat": 4,
 "nbformat_minor": 5
}
