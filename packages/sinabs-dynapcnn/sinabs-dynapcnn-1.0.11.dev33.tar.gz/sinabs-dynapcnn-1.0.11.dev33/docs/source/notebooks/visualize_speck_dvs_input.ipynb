{
 "cells": [
  {
   "cell_type": "markdown",
   "metadata": {
    "collapsed": true
   },
   "source": [
    "# Visualize DVS Input\n",
    "\n",
    "This notebook demonstrates how to visualize the DVS sensor's input on the speck2e devkit."
   ]
  },
  {
   "cell_type": "code",
   "execution_count": 1,
   "metadata": {},
   "outputs": [],
   "source": [
    "import samna, samnagui\n",
    "import time\n",
    "import sys\n",
    "import os\n",
    "\n",
    "from multiprocessing import Process"
   ]
  },
  {
   "cell_type": "markdown",
   "metadata": {},
   "source": [
    "## 1. Open devkit"
   ]
  },
  {
   "cell_type": "code",
   "execution_count": 2,
   "metadata": {},
   "outputs": [
    {
     "name": "stdout",
     "output_type": "stream",
     "text": [
      "the devices are:  ['Speck2eDevKit']\n"
     ]
    }
   ],
   "source": [
    "# list all the device we plugged to our PC\n",
    "devices = samna.device.get_unopened_devices()\n",
    "device_names = [each.device_type_name for each in devices]\n",
    "print(\"the devices are: \", device_names)"
   ]
  },
  {
   "cell_type": "code",
   "execution_count": 3,
   "metadata": {},
   "outputs": [],
   "source": [
    "# when open devkit, we just need to pass the device name to the `open_device` function of samna.device\n",
    "devkit = samna.device.open_device(\"Speck2eDevKit\")"
   ]
  },
  {
   "attachments": {},
   "cell_type": "markdown",
   "metadata": {},
   "source": [
    "## 2. Build samna graph\n",
    "\n",
    "samna graph defines how the data flow into and out from the devkit. In this case, we wanted to send the raw DVS input events to a [`VizEventStreamer`](https://synsense-sys-int.gitlab.io/samna/filters.html?highlight=streamer#VizEventStreamer) node which can help us to visualize them.\n",
    "\n",
    "![samna_graph](../_static/visualize_speck_dvs/samna_graph.png)"
   ]
  },
  {
   "cell_type": "markdown",
   "metadata": {},
   "source": [
    "### 2.1 Get the source node of the devkit\n",
    "\n",
    "The model source node ties into the filter system. It will emit all events produced by the device."
   ]
  },
  {
   "cell_type": "code",
   "execution_count": 4,
   "metadata": {},
   "outputs": [
    {
     "data": {
      "text/plain": [
       "<samna.DeviceSourceNode_speck2e_event_output_event at 0x7f96bc1bd458>"
      ]
     },
     "execution_count": 4,
     "metadata": {},
     "output_type": "execute_result"
    }
   ],
   "source": [
    "# get the device source node of devkit\n",
    "dk_source_node = devkit.get_model_source_node()\n",
    "dk_source_node"
   ]
  },
  {
   "cell_type": "markdown",
   "metadata": {},
   "source": [
    "### 2.2 Init samna graph and VizEventStreamer node"
   ]
  },
  {
   "cell_type": "code",
   "execution_count": 5,
   "metadata": {},
   "outputs": [],
   "source": [
    "def build_samna_graph(dk_source_node):\n",
    "    \n",
    "    # build a graph in samna to show dvs\n",
    "    samna_graph = samna.graph.EventFilterGraph()\n",
    "    _, _, streamer_node = samna_graph.sequential([dk_source_node, \"Speck2eDvsToVizConverter\", \"VizEventStreamer\"])\n",
    "    \n",
    "    return samna_graph, streamer_node"
   ]
  },
  {
   "cell_type": "code",
   "execution_count": 6,
   "metadata": {},
   "outputs": [],
   "source": [
    "# init samna graph and VisEventStreamer node\n",
    "samna_graph, streamer_node = build_samna_graph(dk_source_node)\n",
    "\n",
    "# besides, we need to set the tcp port of the streamer node\n",
    "streamer_endpoint = \"tcp://0.0.0.0:40000\"\n",
    "streamer_node.set_streamer_endpoint(streamer_endpoint)"
   ]
  },
  {
   "cell_type": "markdown",
   "metadata": {},
   "source": [
    "## 3. Create a sub-process for GUI visualization\n"
   ]
  },
  {
   "cell_type": "markdown",
   "metadata": {},
   "source": [
    "### 3.1 init samna node and get endpoints related with the visualizer"
   ]
  },
  {
   "cell_type": "code",
   "execution_count": 7,
   "metadata": {},
   "outputs": [
    {
     "name": "stdout",
     "output_type": "stream",
     "text": [
      "sender_endpoint: tcp://0.0.0.0:43321\n",
      "receiver_endpoint: tcp://0.0.0.0:50633\n",
      "sender endpoint is: tcp://0.0.0.0:43321\n",
      "recevier endpoint is: tcp://0.0.0.0:50633\n"
     ]
    }
   ],
   "source": [
    "# init samna node\n",
    "samna_node = samna.init_samna()\n",
    "time.sleep(1)\n",
    "\n",
    "# get endpoints\n",
    "sender_endpoint = samna_node.get_sender_endpoint()\n",
    "receiver_endpoint = samna_node.get_receiver_endpoint()\n",
    "\n",
    "print(f\"sender endpoint is: {sender_endpoint}\")\n",
    "print(f\"recevier endpoint is: {receiver_endpoint}\")"
   ]
  },
  {
   "cell_type": "markdown",
   "metadata": {},
   "source": [
    "### 3.2 create a sub-process which runs the GUI visualizer\n",
    "\n",
    "`samnagui` provide us a GUI visualizer for us to visualize the DVS inputs. We can start a visualizer by calling [`samnagui.runVisualizer`](https://synsense-sys-int.gitlab.io/samna/gui/index.html?highlight=runvisualizer#samna.runVisualizer)"
   ]
  },
  {
   "cell_type": "code",
   "execution_count": 8,
   "metadata": {},
   "outputs": [],
   "source": [
    "def run_samnagui_visualizer(receiver_endpoint, sender_endpoint, visualizer_id):\n",
    "    \n",
    "    # define the width and height for the GUI window\n",
    "    # width and height is represented by the ratio between window width and the width of main monitor\n",
    "    width, height = 0.6, 0.6\n",
    "    \n",
    "    # start visualizer\n",
    "    samnagui.runVisualizer(width, height, receiver_endpoint, sender_endpoint, visualizer_id)\n",
    "    \n",
    "    return\n",
    "    "
   ]
  },
  {
   "cell_type": "markdown",
   "metadata": {},
   "source": [
    "then we create a sub-process which runs the `run_samnagui_visualizer` function."
   ]
  },
  {
   "cell_type": "code",
   "execution_count": 9,
   "metadata": {},
   "outputs": [],
   "source": [
    "visualizer_id = 3\n",
    "gui_process = Process(target=run_samnagui_visualizer, args=(receiver_endpoint, sender_endpoint, visualizer_id))"
   ]
  },
  {
   "cell_type": "markdown",
   "metadata": {},
   "source": [
    "start the GUI sub-process:"
   ]
  },
  {
   "cell_type": "code",
   "execution_count": 10,
   "metadata": {},
   "outputs": [
    {
     "name": "stdout",
     "output_type": "stream",
     "text": [
      "successfully open the visualizer\n"
     ]
    }
   ],
   "source": [
    "gui_process.start()\n",
    "\n",
    "# wait for open visualizer and connect to it.\n",
    "timeout = 10\n",
    "begin = time.time()\n",
    "name = \"visualizer\" + str(visualizer_id)\n",
    "\n",
    "while time.time() - begin < timeout:\n",
    "    try:\n",
    "        time.sleep(0.05)\n",
    "        samna.open_remote_node(visualizer_id, name)\n",
    "    except:\n",
    "        continue\n",
    "    else:\n",
    "        print(\"successfully open the visualizer\")\n",
    "        break"
   ]
  },
  {
   "cell_type": "markdown",
   "metadata": {},
   "source": [
    "### 3.3 setup the visualizer "
   ]
  },
  {
   "cell_type": "code",
   "execution_count": 11,
   "metadata": {},
   "outputs": [
    {
     "data": {
      "text/plain": [
       "True"
      ]
     },
     "execution_count": 11,
     "metadata": {},
     "output_type": "execute_result"
    }
   ],
   "source": [
    "# get visualizer object\n",
    "visualizer = getattr(samna, name)\n",
    "\n",
    "#  \n",
    "activity_plot_id = visualizer.plots.add_activity_plot(128, 128, \"DVS Layer\")\n",
    "plot_name = \"plot_\" + str(activity_plot_id)\n",
    "plot = getattr(visualizer, plot_name)\n",
    "# set the position: top left x, top left y, bottom right x, bottom right y\n",
    "plot.set_layout(0, 0, 0.6, 1)   \n",
    "\n",
    "\n",
    "# setup the visualizer\n",
    "# set the recevier endpoint of visualizer as the streamer node's endpoint\n",
    "visualizer.receiver.set_receiver_endpoint(streamer_endpoint)\n",
    "visualizer.receiver.add_destination(visualizer.splitter.get_input_channel())\n",
    "visualizer.splitter.add_destination(\"passthrough\", visualizer.plots.get_plot_input(activity_plot_id))"
   ]
  },
  {
   "cell_type": "markdown",
   "metadata": {},
   "source": [
    "## 4. Launch the devkit and start visualization"
   ]
  },
  {
   "cell_type": "markdown",
   "metadata": {},
   "source": [
    "### 4.1 start samna graph"
   ]
  },
  {
   "cell_type": "code",
   "execution_count": 12,
   "metadata": {},
   "outputs": [
    {
     "data": {
      "text/plain": [
       "True"
      ]
     },
     "execution_count": 12,
     "metadata": {},
     "output_type": "execute_result"
    }
   ],
   "source": [
    "samna_graph.start()"
   ]
  },
  {
   "cell_type": "markdown",
   "metadata": {},
   "source": [
    "### 4.2 create devkit config and apply to devkit\n",
    "\n",
    "the [configuration](https://synsense-sys-int.gitlab.io/samna/reference/speck2e/configuration/index.html) of Speck2e devkit has an attribute named `dvs_layer` which is an instance of [`samna.speck2e.configuration.DvsLayerConfig`](https://synsense-sys-int.gitlab.io/samna/reference/speck2e/configuration/index.html?highlight=dvslayerconfig#samna.speck2e.configuration.DvsLayerConfig).\n",
    "\n",
    "there are two attribute for a `DvsLayerConfig` we can set to be `True` if we wanted to monitor the input spikes from the dvs sensor:\n",
    "\n",
    "1. [`monitor_enable`](https://synsense-sys-int.gitlab.io/samna/reference/speck2e/configuration/index.html?highlight=monitor_enable#samna.speck2e.configuration.DvsLayerConfig.monitor_enable): which let us monitor the pre-processing block of the devkit.\n",
    "\n",
    "2. [`raw_monitor_enable`](https://synsense-sys-int.gitlab.io/samna/reference/speck2e/configuration/index.html?highlight=raw_monitor_enable#samna.speck2e.configuration.DvsLayerConfig.raw_monitor_enable): which let us monitor the raw input from the dvs sensor."
   ]
  },
  {
   "cell_type": "code",
   "execution_count": 13,
   "metadata": {},
   "outputs": [],
   "source": [
    "# modify configuration\n",
    "devkit_config = samna.speck2e.configuration.SpeckConfiguration()\n",
    "# enable monitoring the inputs from the DVS sensor \n",
    "devkit_config.dvs_layer.raw_monitor_enable = True\n",
    "devkit.get_model().apply_configuration(devkit_config)"
   ]
  },
  {
   "cell_type": "markdown",
   "metadata": {},
   "source": [
    "## 5. Stop the devkit and visualization"
   ]
  },
  {
   "cell_type": "code",
   "execution_count": 14,
   "metadata": {},
   "outputs": [
    {
     "data": {
      "text/plain": [
       "True"
      ]
     },
     "execution_count": 14,
     "metadata": {},
     "output_type": "execute_result"
    }
   ],
   "source": [
    "gui_process.terminate()\n",
    "gui_process.join()\n",
    "\n",
    "samna_graph.stop()"
   ]
  },
  {
   "cell_type": "code",
   "execution_count": null,
   "metadata": {},
   "outputs": [],
   "source": []
  }
 ],
 "metadata": {
  "kernelspec": {
   "display_name": "Python 3",
   "language": "python",
   "name": "python3"
  },
  "language_info": {
   "codemirror_mode": {
    "name": "ipython",
    "version": 3
   },
   "file_extension": ".py",
   "mimetype": "text/x-python",
   "name": "python",
   "nbconvert_exporter": "python",
   "pygments_lexer": "ipython3",
   "version": "3.6.9"
  }
 },
 "nbformat": 4,
 "nbformat_minor": 1
}