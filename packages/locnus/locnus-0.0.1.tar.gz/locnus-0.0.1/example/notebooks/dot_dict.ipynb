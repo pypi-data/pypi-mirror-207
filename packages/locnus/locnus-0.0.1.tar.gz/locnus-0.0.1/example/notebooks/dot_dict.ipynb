{
 "cells": [
  {
   "cell_type": "code",
   "execution_count": 1,
   "id": "51fbeb3c-5680-4e8e-b096-43f582b122af",
   "metadata": {
    "tags": []
   },
   "outputs": [],
   "source": [
    "from collections import UserDict"
   ]
  },
  {
   "cell_type": "code",
   "execution_count": 2,
   "id": "03a14b4e-c673-4021-8eff-fe23cbf1732e",
   "metadata": {
    "tags": []
   },
   "outputs": [],
   "source": [
    "class DotDict(UserDict):\n",
    "    def __getattr__(self, attr):\n",
    "        return self.data[attr]"
   ]
  },
  {
   "cell_type": "code",
   "execution_count": 3,
   "id": "323eb6b0-f03e-40ad-b859-b9c6989eb27a",
   "metadata": {
    "tags": []
   },
   "outputs": [],
   "source": [
    "foo = DotDict({\"content\": \"foobar\"})"
   ]
  },
  {
   "cell_type": "code",
   "execution_count": 4,
   "id": "385f8a8a-af2b-40b5-82dd-6d374f35074c",
   "metadata": {
    "tags": []
   },
   "outputs": [
    {
     "data": {
      "text/plain": [
       "'foobar'"
      ]
     },
     "execution_count": 4,
     "metadata": {},
     "output_type": "execute_result"
    }
   ],
   "source": [
    "foo.content"
   ]
  },
  {
   "cell_type": "code",
   "execution_count": 7,
   "id": "0d63bc6b-bf7d-4337-9ac8-8255a72ad180",
   "metadata": {
    "tags": []
   },
   "outputs": [],
   "source": [
    "data_dict = UserDict({\"id\": 123, \"created_at\": timezone.now(), \"content\": \"Hello, world!\", \"account\": {\"display_name\": \"Alice\"}})\n",
    "data_dict.id = data_dict[\"id\"]\n",
    "data_dict.created_at = data_dict[\"created_at\"]"
   ]
  },
  {
   "cell_type": "code",
   "execution_count": 8,
   "id": "3661d4b0-42d4-488d-ac49-736d956472cb",
   "metadata": {
    "tags": []
   },
   "outputs": [
    {
     "data": {
      "text/plain": [
       "123"
      ]
     },
     "execution_count": 8,
     "metadata": {},
     "output_type": "execute_result"
    }
   ],
   "source": [
    "data_dict.id"
   ]
  },
  {
   "cell_type": "code",
   "execution_count": null,
   "id": "00d2634b-17b8-4b46-874d-7a93c55f269e",
   "metadata": {},
   "outputs": [],
   "source": []
  }
 ],
 "metadata": {
  "kernelspec": {
   "display_name": "Django Kernel",
   "language": "python",
   "name": "django_extensions"
  },
  "language_info": {
   "codemirror_mode": {
    "name": "ipython",
    "version": 3
   },
   "file_extension": ".py",
   "mimetype": "text/x-python",
   "name": "python",
   "nbconvert_exporter": "python",
   "pygments_lexer": "ipython3",
   "version": "3.11.3"
  }
 },
 "nbformat": 4,
 "nbformat_minor": 5
}
