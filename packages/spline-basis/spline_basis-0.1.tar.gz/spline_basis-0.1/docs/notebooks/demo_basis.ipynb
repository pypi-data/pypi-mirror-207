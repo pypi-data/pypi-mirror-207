{
 "cells": [
  {
   "cell_type": "code",
   "execution_count": null,
   "metadata": {},
   "outputs": [],
   "source": [
    "import numpy as np\n",
    "import matplotlib.pyplot as plt\n",
    "\n",
    "from splinebasis import Msplines, ISplineBasis"
   ]
  },
  {
   "attachments": {},
   "cell_type": "markdown",
   "metadata": {},
   "source": [
    "### Plot Some M-Splines and their derivatives"
   ]
  },
  {
   "cell_type": "code",
   "execution_count": null,
   "metadata": {},
   "outputs": [],
   "source": [
    "spline = Msplines(order=3,lower=0,upper=1,num_knots=10)\n",
    "x = np.linspace(0,1,100)\n",
    "for i in range(1,spline.n+1):\n",
    "    plt.plot(x,spline(x,i),label=f'$M_{i}$')\n",
    "plt.legend()"
   ]
  },
  {
   "cell_type": "code",
   "execution_count": null,
   "metadata": {},
   "outputs": [],
   "source": [
    "for i in range(1,spline.n+1):\n",
    "    plt.plot(x,spline.derivatives(x,i),label=f'$M\\'_{i}$')"
   ]
  },
  {
   "cell_type": "markdown",
   "metadata": {},
   "source": [
    "### Use the Spline basis class to plot I-splines and their Sum"
   ]
  },
  {
   "cell_type": "code",
   "execution_count": null,
   "metadata": {},
   "outputs": [],
   "source": [
    "basis = ISplineBasis(num_basis=10,order=3,lower=0,upper=1, n_grid=100)\n",
    "\n",
    "for i in basis.basis_vectors:\n",
    "    plt.plot(x,i)\n"
   ]
  },
  {
   "cell_type": "code",
   "execution_count": null,
   "metadata": {},
   "outputs": [],
   "source": [
    "weights = np.ones(basis.num_basis)\n",
    "weights /= np.sum(weights)\n",
    "\n",
    "plt.plot(x,basis(weights))"
   ]
  },
  {
   "cell_type": "code",
   "execution_count": null,
   "metadata": {},
   "outputs": [],
   "source": [
    "weights = np.ones(basis.num_basis)\n",
    "weights /= np.sum(weights)\n",
    "\n",
    "plt.plot(x,basis.derivatives(weights))"
   ]
  },
  {
   "cell_type": "code",
   "execution_count": null,
   "metadata": {},
   "outputs": [],
   "source": []
  }
 ],
 "metadata": {
  "kernelspec": {
   "display_name": "base",
   "language": "python",
   "name": "python3"
  },
  "language_info": {
   "codemirror_mode": {
    "name": "ipython",
    "version": 3
   },
   "file_extension": ".py",
   "mimetype": "text/x-python",
   "name": "python",
   "nbconvert_exporter": "python",
   "pygments_lexer": "ipython3",
   "version": "3.9.16"
  }
 },
 "nbformat": 4,
 "nbformat_minor": 2
}
