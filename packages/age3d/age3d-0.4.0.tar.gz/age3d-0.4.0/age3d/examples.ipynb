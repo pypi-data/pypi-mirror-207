{
 "cells": [
  {
   "attachments": {},
   "cell_type": "markdown",
   "metadata": {},
   "source": [
    "## Import Library"
   ]
  },
  {
   "cell_type": "code",
   "execution_count": 1,
   "metadata": {},
   "outputs": [
    {
     "name": "stdout",
     "output_type": "stream",
     "text": [
      "Jupyter environment detected. Enabling Open3D WebVisualizer.\n",
      "[Open3D INFO] WebRTC GUI backend enabled.\n",
      "[Open3D INFO] WebRTCWindowSystem: HTTP handshake server disabled.\n"
     ]
    }
   ],
   "source": [
    "import age3d as a3d"
   ]
  },
  {
   "attachments": {},
   "cell_type": "markdown",
   "metadata": {},
   "source": [
    "## Import Mesh"
   ]
  },
  {
   "cell_type": "code",
   "execution_count": 2,
   "metadata": {},
   "outputs": [
    {
     "name": "stdout",
     "output_type": "stream",
     "text": [
      "TriangleMesh with 2866 points and 968 triangles.\n"
     ]
    }
   ],
   "source": [
    "file_path = 'models/monkey.stl'\n",
    "mesh = a3d.import_mesh(file_path)\n",
    "mesh.compute_vertex_normals()\n",
    "print(mesh)"
   ]
  },
  {
   "attachments": {},
   "cell_type": "markdown",
   "metadata": {},
   "source": [
    "## Export Mesh"
   ]
  },
  {
   "cell_type": "code",
   "execution_count": 3,
   "metadata": {},
   "outputs": [],
   "source": [
    "export_file_path = 'models/export.stl'\n",
    "a3d.export_mesh(export_file_path, mesh)"
   ]
  },
  {
   "attachments": {},
   "cell_type": "markdown",
   "metadata": {},
   "source": [
    "## Clean Mesh"
   ]
  },
  {
   "cell_type": "code",
   "execution_count": 4,
   "metadata": {},
   "outputs": [
    {
     "name": "stdout",
     "output_type": "stream",
     "text": [
      "Original: TriangleMesh with 2866 points and 968 triangles.\n",
      "Cleaned: TriangleMesh with 505 points and 968 triangles.\n"
     ]
    }
   ],
   "source": [
    "print('Original:', mesh)\n",
    "a3d.clean_mesh(mesh)\n",
    "print('Cleaned:', mesh)"
   ]
  },
  {
   "cell_type": "code",
   "execution_count": 5,
   "metadata": {},
   "outputs": [
    {
     "name": "stdout",
     "output_type": "stream",
     "text": [
      "[[ 0.46875   -0.7578125  0.2421875]\n",
      " [ 0.4375    -0.765625   0.1640625]\n",
      " [ 0.5       -0.6875     0.09375  ]\n",
      " ...\n",
      " [-1.0234375  0.484375   0.4375   ]\n",
      " [ 0.859375   0.3828125  0.3828125]\n",
      " [-0.859375   0.3828125  0.3828125]] [[  0   1   2]\n",
      " [  0   2   3]\n",
      " [  4   5   6]\n",
      " ...\n",
      " [379 491 410]\n",
      " [493 384 380]\n",
      " [493 380 412]]\n"
     ]
    }
   ],
   "source": [
    "vertices, triangles = a3d.mesh_details(mesh)\n",
    "print(vertices, triangles)"
   ]
  },
  {
   "attachments": {},
   "cell_type": "markdown",
   "metadata": {},
   "source": [
    "## Point Cloud Creation"
   ]
  },
  {
   "cell_type": "code",
   "execution_count": 6,
   "metadata": {},
   "outputs": [],
   "source": [
    "pc = a3d.make_point_cloud(vertices, (255, 0, 0))"
   ]
  },
  {
   "attachments": {},
   "cell_type": "markdown",
   "metadata": {},
   "source": [
    "## Visualization"
   ]
  },
  {
   "cell_type": "code",
   "execution_count": 7,
   "metadata": {},
   "outputs": [],
   "source": [
    "a3d.visualize(mesh)"
   ]
  },
  {
   "cell_type": "code",
   "execution_count": 8,
   "metadata": {},
   "outputs": [],
   "source": [
    "a3d.visualize(mesh, show_wireframe=True)"
   ]
  },
  {
   "cell_type": "code",
   "execution_count": 9,
   "metadata": {},
   "outputs": [],
   "source": [
    "a3d.visualize([mesh, pc])"
   ]
  },
  {
   "attachments": {},
   "cell_type": "markdown",
   "metadata": {},
   "source": [
    "## Get Vertex Mask"
   ]
  },
  {
   "cell_type": "code",
   "execution_count": 10,
   "metadata": {},
   "outputs": [
    {
     "data": {
      "text/plain": [
       "array([ True,  True, False, False, False, False, False, False, False,\n",
       "       False, False, False, False, False, False, False, False, False,\n",
       "       False, False, False, False, False, False, False, False, False,\n",
       "       False, False, False, False, False, False, False, False, False,\n",
       "       False, False, False, False, False, False, False, False, False,\n",
       "       False, False, False, False, False, False, False, False, False,\n",
       "       False, False, False, False, False, False, False, False, False,\n",
       "       False, False, False, False, False, False, False, False, False,\n",
       "       False, False, False, False, False, False, False, False, False,\n",
       "       False, False, False, False, False, False, False, False, False,\n",
       "       False, False, False, False, False, False, False, False, False,\n",
       "       False, False, False, False, False, False, False, False, False,\n",
       "       False, False, False, False, False, False, False, False, False,\n",
       "       False, False, False, False, False, False, False, False, False,\n",
       "       False, False, False, False, False, False, False, False, False,\n",
       "       False, False, False, False, False, False, False, False, False,\n",
       "       False, False, False, False, False, False, False, False, False,\n",
       "       False, False, False, False, False, False, False, False, False,\n",
       "       False, False, False, False, False, False, False, False, False,\n",
       "       False, False, False, False, False, False, False, False, False,\n",
       "       False, False, False, False, False, False, False, False, False,\n",
       "       False, False, False, False, False, False, False, False, False,\n",
       "       False, False, False, False, False, False, False, False, False,\n",
       "       False, False, False, False, False, False, False, False, False,\n",
       "       False, False, False, False, False, False, False, False, False,\n",
       "       False, False, False, False, False, False, False, False, False,\n",
       "       False, False, False, False, False, False, False, False, False,\n",
       "       False, False, False, False, False, False, False, False, False,\n",
       "       False, False, False, False, False, False, False, False, False,\n",
       "       False, False, False, False, False, False, False, False, False,\n",
       "       False, False, False, False, False, False, False, False, False,\n",
       "       False, False, False, False, False, False, False, False, False,\n",
       "       False, False, False, False, False, False, False, False, False,\n",
       "       False, False, False, False, False, False, False, False, False,\n",
       "       False, False, False, False, False, False, False, False, False,\n",
       "       False, False, False, False, False, False, False, False, False,\n",
       "       False, False, False, False, False, False, False, False, False,\n",
       "       False, False, False, False, False, False, False, False, False,\n",
       "       False, False, False, False, False, False, False, False, False,\n",
       "       False, False, False, False, False, False, False, False, False,\n",
       "       False, False, False, False, False, False, False, False, False,\n",
       "       False, False, False, False, False, False, False, False, False,\n",
       "       False, False, False, False, False, False, False, False, False,\n",
       "       False, False, False, False, False, False, False, False, False,\n",
       "       False, False, False, False, False, False, False, False, False,\n",
       "       False, False, False, False, False, False, False, False, False,\n",
       "       False, False, False, False, False, False, False, False, False,\n",
       "       False, False, False, False, False, False, False, False, False,\n",
       "       False, False, False, False, False, False, False, False, False,\n",
       "       False, False, False, False, False, False, False, False, False,\n",
       "       False, False, False, False, False, False, False, False, False,\n",
       "       False, False, False, False, False, False, False, False, False,\n",
       "       False, False, False, False, False, False, False, False, False,\n",
       "       False, False, False, False, False, False, False, False, False,\n",
       "       False, False, False, False, False, False, False, False, False,\n",
       "       False, False, False, False, False, False, False, False, False,\n",
       "        True])"
      ]
     },
     "execution_count": 10,
     "metadata": {},
     "output_type": "execute_result"
    }
   ],
   "source": [
    "a3d.get_mask(mesh, [0, 1, -1])"
   ]
  },
  {
   "attachments": {},
   "cell_type": "markdown",
   "metadata": {},
   "source": [
    "## Find Minimum(s) & Maximum(s)"
   ]
  },
  {
   "cell_type": "code",
   "execution_count": 11,
   "metadata": {},
   "outputs": [],
   "source": [
    "min_idxs, min_vertices = a3d.find_minimum(mesh, k=1)\n",
    "min_pc = a3d.make_point_cloud(min_vertices, (255, 0, 00))\n",
    "\n",
    "max_idxs, max_vertices = a3d.find_maximum(mesh, k=10)\n",
    "max_pc = a3d.make_point_cloud(max_vertices, (0, 0, 255))\n",
    "\n",
    "a3d.visualize([mesh, min_pc, max_pc])"
   ]
  },
  {
   "attachments": {},
   "cell_type": "markdown",
   "metadata": {},
   "source": [
    "## Find All Below, Above, & Between"
   ]
  },
  {
   "cell_type": "code",
   "execution_count": 12,
   "metadata": {},
   "outputs": [],
   "source": [
    "below_idxs, below_vertices = a3d.find_all_below(mesh, 0.25, inclusive=True)\n",
    "below_pc = a3d.make_point_cloud(below_vertices, (255, 0, 0))\n",
    "\n",
    "above_idxs, above_vertices = a3d.find_all_above(mesh, 0.75, inclusive=True)\n",
    "above_pc = a3d.make_point_cloud(above_vertices, (0, 255, 0))\n",
    "\n",
    "between_vertices = a3d.find_all_between(mesh, 0.25, 0.75)\n",
    "between_pc = a3d.make_point_cloud(between_vertices, (0, 0, 255))\n",
    "\n",
    "a3d.visualize([mesh, below_pc, above_pc, between_pc])"
   ]
  },
  {
   "attachments": {},
   "cell_type": "markdown",
   "metadata": {},
   "source": [
    "## Find Neighbors"
   ]
  },
  {
   "cell_type": "code",
   "execution_count": 13,
   "metadata": {},
   "outputs": [],
   "source": [
    "center_idx = 100\n",
    "neighbors_idx, neighbors_vertices = a3d.find_neighbors(mesh, center_idx)\n",
    "neighbors_pc = a3d.make_point_cloud(neighbors_vertices, (255, 0, 0))\n",
    "\n",
    "center_vertex = vertices[a3d.get_mask(mesh, center_idx)]\n",
    "center_pc = a3d.make_point_cloud(center_vertex, (0, 0, 255))\n",
    "\n",
    "a3d.visualize([mesh, neighbors_pc, center_pc])"
   ]
  },
  {
   "attachments": {},
   "cell_type": "markdown",
   "metadata": {},
   "source": [
    "## Mesh Subdivision"
   ]
  },
  {
   "cell_type": "code",
   "execution_count": 14,
   "metadata": {},
   "outputs": [
    {
     "name": "stdout",
     "output_type": "stream",
     "text": [
      "TriangleMesh with 505 points and 968 triangles.\n",
      "TriangleMesh with 7828 points and 15488 triangles.\n",
      "[[ 0.46875    -0.7578125   0.2421875 ]\n",
      " [ 0.4375     -0.765625    0.1640625 ]\n",
      " [ 0.5        -0.6875      0.09375   ]\n",
      " ...\n",
      " [-0.73632812  0.23632812 -0.12890625]\n",
      " [-0.6875      0.1953125  -0.12890625]\n",
      " [-0.73242188  0.18554688 -0.1328125 ]] [[   0 1978 1980]\n",
      " [1978  505 1979]\n",
      " [1979  507 1980]\n",
      " ...\n",
      " [7826 1709 7827]\n",
      " [7827 1924 7825]\n",
      " [7826 7827 7825]]\n"
     ]
    }
   ],
   "source": [
    "print(mesh)\n",
    "mesh = a3d.mesh_subdivision(mesh, iterations=2)\n",
    "print(mesh)\n",
    "\n",
    "vertices, triangles = a3d.mesh_details(mesh)\n",
    "print(vertices, triangles)\n",
    "\n",
    "a3d.visualize(mesh, show_wireframe=True)"
   ]
  },
  {
   "attachments": {},
   "cell_type": "markdown",
   "metadata": {},
   "source": [
    "## Bound Height"
   ]
  },
  {
   "cell_type": "code",
   "execution_count": 15,
   "metadata": {},
   "outputs": [
    {
     "name": "stdout",
     "output_type": "stream",
     "text": [
      "0.296875\n"
     ]
    }
   ],
   "source": [
    "bound_height = a3d.calculate_bounds_height(mesh)\n",
    "print(bound_height)\n",
    "\n",
    "below_idxs, below_vertices = a3d.find_all_below(mesh, bound_height)\n",
    "below_pc = a3d.make_point_cloud(below_vertices, (255, 0, 0))\n",
    "\n",
    "above_idxs, above_vertices = a3d.find_all_above(mesh, bound_height)\n",
    "above_pc = a3d.make_point_cloud(above_vertices, (0, 255, 0))\n",
    "\n",
    "a3d.visualize([mesh, below_pc, above_pc])"
   ]
  },
  {
   "attachments": {},
   "cell_type": "markdown",
   "metadata": {},
   "source": [
    "## Find Accessible"
   ]
  },
  {
   "cell_type": "code",
   "execution_count": 16,
   "metadata": {},
   "outputs": [
    {
     "name": "stdout",
     "output_type": "stream",
     "text": [
      "[Open3D WARNING] [ViewControl] ConvertToPinholeCameraParameters() failed because orthogonal view cannot be translated to a pinhole camera.\n"
     ]
    }
   ],
   "source": [
    "direction = [0, 0, -1]\n",
    "accessible_idx, accessible_vertices = a3d.find_accessible(mesh, direction)\n",
    "accessible_pc = a3d.make_point_cloud(accessible_vertices, (255, 0, 0))\n",
    "a3d.visualize([mesh, accessible_pc], show_wireframe=True)"
   ]
  },
  {
   "attachments": {},
   "cell_type": "markdown",
   "metadata": {},
   "source": [
    "## Erode"
   ]
  },
  {
   "cell_type": "code",
   "execution_count": 17,
   "metadata": {},
   "outputs": [
    {
     "name": "stdout",
     "output_type": "stream",
     "text": [
      "Iter:  0 , V_idx:  7569\n",
      "Iter:  1 , V_idx:  1537\n",
      "Iter:  2 , V_idx:  6081\n",
      "Iter:  3 , V_idx:  1202\n",
      "Iter:  4 , V_idx:  4516\n",
      "Iter:  5 , V_idx:  1168\n",
      "Iter:  6 , V_idx:  5715\n",
      "Iter:  7 , V_idx:  6116\n",
      "Iter:  8 , V_idx:  3095\n",
      "Iter:  9 , V_idx:  7572\n",
      "Iter:  10 , V_idx:  6073\n",
      "Iter:  11 , V_idx:  2458\n",
      "Iter:  12 , V_idx:  4677\n",
      "Iter:  13 , V_idx:  5880\n",
      "Iter:  14 , V_idx:  6078\n",
      "Iter:  15 , V_idx:  7146\n",
      "Iter:  16 , V_idx:  1191\n",
      "Iter:  17 , V_idx:  5861\n",
      "Iter:  18 , V_idx:  1177\n",
      "Iter:  19 , V_idx:  6651\n",
      "Iter:  20 , V_idx:  1634\n",
      "Iter:  21 , V_idx:  6353\n",
      "Iter:  22 , V_idx:  2341\n",
      "Iter:  23 , V_idx:  7677\n",
      "Iter:  24 , V_idx:  4529\n",
      "Iter:  25 , V_idx:  2410\n",
      "Iter:  26 , V_idx:  2280\n",
      "Iter:  27 , V_idx:  4923\n",
      "Iter:  28 , V_idx:  2447\n",
      "Iter:  29 , V_idx:  5688\n",
      "Iter:  30 , V_idx:  1257\n",
      "Iter:  31 , V_idx:  1946\n",
      "Iter:  32 , V_idx:  6396\n",
      "Iter:  33 , V_idx:  4909\n",
      "Iter:  34 , V_idx:  2217\n",
      "Iter:  35 , V_idx:  1203\n",
      "Iter:  36 , V_idx:  1170\n",
      "Iter:  37 , V_idx:  1944\n",
      "Iter:  38 , V_idx:  2986\n",
      "Iter:  39 , V_idx:  5034\n",
      "Iter:  40 , V_idx:  6105\n",
      "Iter:  41 , V_idx:  5938\n",
      "Iter:  42 , V_idx:  2461\n",
      "Iter:  43 , V_idx:  1200\n",
      "Iter:  44 , V_idx:  3175\n",
      "Iter:  45 , V_idx:  3126\n",
      "Iter:  46 , V_idx:  4673\n",
      "Iter:  47 , V_idx:  2961\n",
      "Iter:  48 , V_idx:  4995\n",
      "Iter:  49 , V_idx:  814\n",
      "Iter:  50 , V_idx:  1696\n",
      "Iter:  51 , V_idx:  5916\n",
      "Iter:  52 , V_idx:  7721\n",
      "Iter:  53 , V_idx:  6020\n",
      "Iter:  54 , V_idx:  6120\n",
      "Iter:  55 , V_idx:  5988\n",
      "Iter:  56 , V_idx:  3174\n",
      "Iter:  57 , V_idx:  5842\n",
      "Iter:  58 , V_idx:  4684\n",
      "Iter:  59 , V_idx:  3159\n",
      "Iter:  60 , V_idx:  2251\n",
      "Iter:  61 , V_idx:  6382\n",
      "Iter:  62 , V_idx:  572\n",
      "Iter:  63 , V_idx:  6042\n",
      "Iter:  64 , V_idx:  6426\n",
      "Iter:  65 , V_idx:  3089\n",
      "Iter:  66 , V_idx:  6094\n",
      "Iter:  67 , V_idx:  2465\n",
      "Iter:  68 , V_idx:  4534\n",
      "Iter:  69 , V_idx:  4609\n",
      "Iter:  70 , V_idx:  1499\n",
      "Iter:  71 , V_idx:  2445\n",
      "Iter:  72 , V_idx:  2267\n",
      "Iter:  73 , V_idx:  3176\n",
      "Iter:  74 , V_idx:  5678\n",
      "Iter:  75 , V_idx:  5701\n",
      "Iter:  76 , V_idx:  4544\n",
      "Iter:  77 , V_idx:  3194\n",
      "Iter:  78 , V_idx:  4506\n",
      "Iter:  79 , V_idx:  2423\n",
      "Iter:  80 , V_idx:  1448\n",
      "Iter:  81 , V_idx:  2323\n",
      "Iter:  82 , V_idx:  5032\n",
      "Iter:  83 , V_idx:  500\n",
      "Iter:  84 , V_idx:  4994\n",
      "Iter:  85 , V_idx:  2271\n",
      "Iter:  86 , V_idx:  1482\n",
      "Iter:  87 , V_idx:  4336\n",
      "Iter:  88 , V_idx:  2900\n",
      "Iter:  89 , V_idx:  767\n",
      "Iter:  90 , V_idx:  5767\n",
      "Iter:  91 , V_idx:  5978\n",
      "Iter:  92 , V_idx:  347\n",
      "Iter:  93 , V_idx:  4975\n",
      "Iter:  94 , V_idx:  1947\n",
      "Iter:  95 , V_idx:  3099\n",
      "Iter:  96 , V_idx:  5975\n",
      "Iter:  97 , V_idx:  4564\n",
      "Iter:  98 , V_idx:  113\n",
      "Iter:  99 , V_idx:  130\n"
     ]
    }
   ],
   "source": [
    "updated_idxs, eroded_mesh = a3d.erode(mesh, iterations=100, erosion_lifetime=10)\n",
    "eroded_mesh.compute_vertex_normals()\n",
    "\n",
    "updated_pc = a3d.make_point_cloud(vertices[updated_idxs], (255, 0, 0))\n",
    "\n",
    "a3d.visualize([eroded_mesh, updated_pc], True)"
   ]
  },
  {
   "cell_type": "code",
   "execution_count": 18,
   "metadata": {},
   "outputs": [],
   "source": [
    "a3d.visualize([eroded_mesh, updated_pc])"
   ]
  },
  {
   "cell_type": "code",
   "execution_count": 19,
   "metadata": {},
   "outputs": [
    {
     "name": "stdout",
     "output_type": "stream",
     "text": [
      "Iter:  0 , V_idx:  7693\n",
      "Iter:  1 , V_idx:  1537\n",
      "Iter:  2 , V_idx:  6131\n",
      "Iter:  3 , V_idx:  1454\n",
      "Iter:  4 , V_idx:  5660\n",
      "Iter:  5 , V_idx:  1288\n",
      "Iter:  6 , V_idx:  5911\n",
      "Iter:  7 , V_idx:  6360\n",
      "Iter:  8 , V_idx:  4954\n",
      "Iter:  9 , V_idx:  7694\n",
      "Iter:  10 , V_idx:  6119\n",
      "Iter:  11 , V_idx:  3023\n",
      "Iter:  12 , V_idx:  5750\n",
      "Iter:  13 , V_idx:  6003\n",
      "Iter:  14 , V_idx:  6121\n",
      "Iter:  15 , V_idx:  7661\n",
      "Iter:  16 , V_idx:  1448\n",
      "Iter:  17 , V_idx:  5992\n",
      "Iter:  18 , V_idx:  1296\n",
      "Iter:  19 , V_idx:  6747\n",
      "Iter:  20 , V_idx:  1615\n",
      "Iter:  21 , V_idx:  6376\n",
      "Iter:  22 , V_idx:  2978\n",
      "Iter:  23 , V_idx:  7713\n",
      "Iter:  24 , V_idx:  5667\n",
      "Iter:  25 , V_idx:  3001\n",
      "Iter:  26 , V_idx:  2939\n",
      "Iter:  27 , V_idx:  5793\n",
      "Iter:  28 , V_idx:  3017\n",
      "Iter:  29 , V_idx:  5897\n",
      "Iter:  30 , V_idx:  1462\n",
      "Iter:  31 , V_idx:  1935\n",
      "Iter:  32 , V_idx:  6400\n",
      "Iter:  33 , V_idx:  5785\n",
      "Iter:  34 , V_idx:  1954\n",
      "Iter:  35 , V_idx:  1454\n",
      "Iter:  36 , V_idx:  1289\n",
      "Iter:  37 , V_idx:  1769\n",
      "Iter:  38 , V_idx:  3087\n",
      "Iter:  39 , V_idx:  5854\n",
      "Iter:  40 , V_idx:  6354\n",
      "Iter:  41 , V_idx:  6035\n",
      "Iter:  42 , V_idx:  3025\n",
      "Iter:  43 , V_idx:  1453\n",
      "Iter:  44 , V_idx:  4999\n",
      "Iter:  45 , V_idx:  4971\n",
      "Iter:  46 , V_idx:  5748\n",
      "Iter:  47 , V_idx:  3073\n",
      "Iter:  48 , V_idx:  5833\n",
      "Iter:  49 , V_idx:  1258\n",
      "Iter:  50 , V_idx:  1625\n",
      "Iter:  51 , V_idx:  6023\n",
      "Iter:  52 , V_idx:  7773\n",
      "Iter:  53 , V_idx:  6087\n",
      "Iter:  54 , V_idx:  6362\n",
      "Iter:  55 , V_idx:  6069\n",
      "Iter:  56 , V_idx:  4998\n",
      "Iter:  57 , V_idx:  5982\n",
      "Iter:  58 , V_idx:  5754\n",
      "Iter:  59 , V_idx:  4990\n",
      "Iter:  60 , V_idx:  2598\n",
      "Iter:  61 , V_idx:  6393\n",
      "Iter:  62 , V_idx:  399\n",
      "Iter:  63 , V_idx:  6099\n",
      "Iter:  64 , V_idx:  6417\n",
      "Iter:  65 , V_idx:  4951\n",
      "Iter:  66 , V_idx:  6348\n",
      "Iter:  67 , V_idx:  3027\n",
      "Iter:  68 , V_idx:  5670\n",
      "Iter:  69 , V_idx:  5712\n",
      "Iter:  70 , V_idx:  1516\n",
      "Iter:  71 , V_idx:  3016\n",
      "Iter:  72 , V_idx:  2927\n",
      "Iter:  73 , V_idx:  5000\n",
      "Iter:  74 , V_idx:  5891\n",
      "Iter:  75 , V_idx:  5904\n",
      "Iter:  76 , V_idx:  5676\n",
      "Iter:  77 , V_idx:  5009\n",
      "Iter:  78 , V_idx:  5654\n",
      "Iter:  79 , V_idx:  3004\n",
      "Iter:  80 , V_idx:  1487\n",
      "Iter:  81 , V_idx:  2968\n",
      "Iter:  82 , V_idx:  5854\n",
      "Iter:  83 , V_idx:  394\n",
      "Iter:  84 , V_idx:  5833\n",
      "Iter:  85 , V_idx:  2929\n",
      "Iter:  86 , V_idx:  1506\n",
      "Iter:  87 , V_idx:  5044\n",
      "Iter:  88 , V_idx:  3046\n",
      "Iter:  89 , V_idx:  780\n",
      "Iter:  90 , V_idx:  5941\n",
      "Iter:  91 , V_idx:  6064\n",
      "Iter:  92 , V_idx:  355\n",
      "Iter:  93 , V_idx:  5821\n",
      "Iter:  94 , V_idx:  1936\n",
      "Iter:  95 , V_idx:  4956\n",
      "Iter:  96 , V_idx:  6062\n",
      "Iter:  97 , V_idx:  5687\n",
      "Iter:  98 , V_idx:  120\n",
      "Iter:  99 , V_idx:  192\n"
     ]
    }
   ],
   "source": [
    "updated_idxs, eroded_mesh = a3d.erode(mesh, iterations=100, erosion_lifetime=10, direction=direction)\n",
    "eroded_mesh.compute_vertex_normals()\n",
    "\n",
    "updated_pc = a3d.make_point_cloud(vertices[updated_idxs], (255, 0, 0))\n",
    "\n",
    "a3d.visualize([eroded_mesh, updated_pc], True)"
   ]
  },
  {
   "cell_type": "code",
   "execution_count": 20,
   "metadata": {},
   "outputs": [],
   "source": [
    "a3d.visualize([eroded_mesh, updated_pc])"
   ]
  }
 ],
 "metadata": {
  "kernelspec": {
   "display_name": "Python 3",
   "language": "python",
   "name": "python3"
  },
  "language_info": {
   "codemirror_mode": {
    "name": "ipython",
    "version": 3
   },
   "file_extension": ".py",
   "mimetype": "text/x-python",
   "name": "python",
   "nbconvert_exporter": "python",
   "pygments_lexer": "ipython3",
   "version": "3.10.6"
  },
  "orig_nbformat": 4,
  "vscode": {
   "interpreter": {
    "hash": "19f390a82d96c8bbc426ec0cf55738c766ea11b19fe2a80c471a04e24f40dd17"
   }
  }
 },
 "nbformat": 4,
 "nbformat_minor": 2
}
