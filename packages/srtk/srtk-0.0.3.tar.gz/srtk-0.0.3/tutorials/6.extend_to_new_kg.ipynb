{
 "cells": [
  {
   "cell_type": "code",
   "execution_count": 1,
   "metadata": {},
   "outputs": [],
   "source": [
    "import os\n",
    "\n",
    "os.chdir('..')"
   ]
  },
  {
   "attachments": {},
   "cell_type": "markdown",
   "metadata": {},
   "source": [
    "# Extend to DBPedia\n",
    "\n",
    "[DBpedia](https://www.dbpedia.org/) extracts structured information from Wikipedia and make it available on the web as a public knowledge base. It was launched in 2007 and is maintained by the DBpedia Association, a non-profit organization based in Leipzig, Germany.\n",
    "\n",
    "In this notebook, we demonstrate how to extend SRTK to DBPedia."
   ]
  },
  {
   "attachments": {},
   "cell_type": "markdown",
   "metadata": {},
   "source": [
    "## 1. Know the inferfaces\n",
    "\n",
    "We defined multiple interfaces that abstract common interactions with knowledge graphs. `KnowledgeGraphBase` serves as a base class for all knowledge graphs.\n",
    "\n",
    "To extend to a new knowledge graph, you need to implement the following interfaces:\n",
    "\n",
    "- `deduce_leaves`: deduce leave entities from source entity following the path.\n",
    "- `get_label`: get the label of an entity.\n",
    "- `get_neighbor_relations`: get n-hop neighbor relations of a node.\n",
    "- `search_one_hop_relations`: search one-hop relations between two nodes.\n",
    "- `search_two_hop_relations`: search two-hop relations between two nodes.\n",
    "\n",
    "`get_entity_label` and `get_relation_label` are optional. They are default to `get_label`.\n",
    "\n",
    "To be more specific, you mainly need to compose the SPARQL query for each interface."
   ]
  },
  {
   "cell_type": "code",
   "execution_count": 4,
   "metadata": {},
   "outputs": [
    {
     "data": {
      "text/plain": [
       "['deduce_leaves',\n",
       " 'get_entity_label',\n",
       " 'get_label',\n",
       " 'get_neighbor_relations',\n",
       " 'get_relation_label',\n",
       " 'search_one_hop_relations',\n",
       " 'search_two_hop_relations']"
      ]
     },
     "execution_count": 4,
     "metadata": {},
     "output_type": "execute_result"
    }
   ],
   "source": [
    "from srtk.knowledge_graph import KnowledgeGraphBase\n",
    "[prop for prop in dir(KnowledgeGraphBase) if not prop.startswith('_')]"
   ]
  },
  {
   "attachments": {},
   "cell_type": "markdown",
   "metadata": {},
   "source": [
    "## 2. Implement the interfaces\n",
    "\n",
    "As it is impossible to define a class step by step in a notebook, for demonstration purpose, we do it in a dirty way: we define an empty class first, then assgin member methods to it step by step."
   ]
  },
  {
   "attachments": {},
   "cell_type": "markdown",
   "metadata": {},
   "source": [
    "### 2.1 Initialization\n",
    "\n",
    "At this step, we define the [prefixes of DPBedia](https://dbpedia.org/sparql/?help=nsdecl) to the class, and define a SPARQL query handler."
   ]
  },
  {
   "cell_type": "code",
   "execution_count": 14,
   "metadata": {},
   "outputs": [],
   "source": [
    "from SPARQLWrapper import SPARQLWrapper\n",
    "\n",
    "class DBPedia(KnowledgeGraphBase):\n",
    "    PREFIXES: str = \"\"\"PREFIX dbo: <http://dbpedia.org/ontology/>\n",
    "                       PREFIX dbr: <http://dbpedia.org/resource/>\n",
    "                       \"\"\"\n",
    "    def __init__(self, endpoint, prepend_prefixes=False):\n",
    "        self.sparql = SPARQLWrapper(endpoint)\n",
    "        self.sparql.setReturnFormat(JSON)\n",
    "        self.prepend_prefixes = prepend_prefixes\n",
    "        self.name = 'dbpedia'\n",
    "    \n",
    "    def queryDBPedia(self, query):\n",
    "        if self.prepend_prefixes:\n",
    "            query = self.PREFIXES + query\n",
    "\n",
    "        self.sparql.setQuery(query)\n",
    "        try:\n",
    "            ret = self.sparql.queryAndConvert()\n",
    "            result = ret['results']['bindings']\n",
    "        except Exception as exeption:\n",
    "            print(f'Failed executing query: {query}')\n",
    "            print(f'Exception: {exeption}')\n",
    "            result = []\n",
    "        return result"
   ]
  },
  {
   "attachments": {},
   "cell_type": "markdown",
   "metadata": {},
   "source": [
    "### 2.2 `search_one_hop_relations`"
   ]
  },
  {
   "cell_type": "code",
   "execution_count": 5,
   "metadata": {},
   "outputs": [
    {
     "name": "stdout",
     "output_type": "stream",
     "text": [
      "Help on function search_one_hop_relations in module srtk.knowledge_graph.graph_base:\n",
      "\n",
      "search_one_hop_relations(self, src: str, dst: str) -> List[List[str]]\n",
      "    Search one hop relations between src and dst.\n",
      "    \n",
      "    Args:\n",
      "        src (str): source entity\n",
      "        dst (str): destination entity\n",
      "    \n",
      "    Returns:\n",
      "        list[list[str]]: list of paths, each path is a list of PIDs\n",
      "\n"
     ]
    }
   ],
   "source": [
    "help(KnowledgeGraphBase.search_one_hop_relations)"
   ]
  },
  {
   "cell_type": "code",
   "execution_count": 15,
   "metadata": {},
   "outputs": [],
   "source": [
    "def search_one_hop_relations(self, src, dst):\n",
    "    query = f\"\"\"\n",
    "            SELECT DISTINCT ?r WHERE {{\n",
    "                dbr:{src} ?r dbr:{dst}.\n",
    "                FILTER regex(str(?r), \"^http://dbpedia.org/ontology/\")\n",
    "            }}\n",
    "            \"\"\"\n",
    "    paths = self.queryWikidata(query)\n",
    "    # Keep only PIDs in the paths\n",
    "    paths = [[self.get_pid_from_uri(path['r']['value'])] for path in paths]\n",
    "    return paths"
   ]
  },
  {
   "attachments": {},
   "cell_type": "markdown",
   "metadata": {},
   "source": [
    "### 2.3 `search_two_hop_relations`"
   ]
  }
 ],
 "metadata": {
  "kernelspec": {
   "display_name": "dragon",
   "language": "python",
   "name": "python3"
  },
  "language_info": {
   "codemirror_mode": {
    "name": "ipython",
    "version": 3
   },
   "file_extension": ".py",
   "mimetype": "text/x-python",
   "name": "python",
   "nbconvert_exporter": "python",
   "pygments_lexer": "ipython3",
   "version": "3.8.15"
  },
  "orig_nbformat": 4
 },
 "nbformat": 4,
 "nbformat_minor": 2
}
