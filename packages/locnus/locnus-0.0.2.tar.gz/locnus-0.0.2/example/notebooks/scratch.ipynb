{
 "cells": [
  {
   "cell_type": "code",
   "execution_count": 7,
   "id": "89e1f6c5-b471-4c28-9466-92d180b7a417",
   "metadata": {
    "tags": []
   },
   "outputs": [],
   "source": [
    "from mastodon import Mastodon\n",
    "from getpass import getpass"
   ]
  },
  {
   "cell_type": "code",
   "execution_count": 10,
   "id": "9f40eb5c-26cd-44b6-8862-e49c37609447",
   "metadata": {
    "tags": []
   },
   "outputs": [
    {
     "ename": "AttributeError",
     "evalue": "'ReverseManyToOneDescriptor' object has no attribute 'all'",
     "output_type": "error",
     "traceback": [
      "\u001b[0;31m---------------------------------------------------------------------------\u001b[0m",
      "\u001b[0;31mAttributeError\u001b[0m                            Traceback (most recent call last)",
      "Cell \u001b[0;32mIn[10], line 1\u001b[0m\n\u001b[0;32m----> 1\u001b[0m \u001b[43mStatus\u001b[49m\u001b[38;5;241;43m.\u001b[39;49m\u001b[43mtimelines\u001b[49m\u001b[38;5;241;43m.\u001b[39;49m\u001b[43mall\u001b[49m()\n",
      "\u001b[0;31mAttributeError\u001b[0m: 'ReverseManyToOneDescriptor' object has no attribute 'all'"
     ]
    }
   ],
   "source": [
    "Status.timelines.all()"
   ]
  },
  {
   "cell_type": "code",
   "execution_count": 10,
   "id": "ebaa0ea8-fefc-4e63-b6ea-248d1462e95c",
   "metadata": {
    "tags": []
   },
   "outputs": [
    {
     "data": {
      "text/plain": [
       "''"
      ]
     },
     "execution_count": 10,
     "metadata": {},
     "output_type": "execute_result"
    }
   ],
   "source": [
    "client.secret"
   ]
  },
  {
   "cell_type": "code",
   "execution_count": 3,
   "id": "cb2ea7f5-e641-4aa5-b439-009c3778128c",
   "metadata": {
    "tags": []
   },
   "outputs": [],
   "source": [
    "server = Server.objects.get(api_base_url=\"https://mastodon.staging.django-cast.com\")\n",
    "mastodon = Mastodon(api_base_url=server.api_base_url)"
   ]
  },
  {
   "cell_type": "code",
   "execution_count": 9,
   "id": "c940f476-00f4-4578-bb0f-dd4dbffeea36",
   "metadata": {
    "tags": []
   },
   "outputs": [
    {
     "name": "stdin",
     "output_type": "stream",
     "text": [
      " ········\n"
     ]
    },
    {
     "ename": "MastodonIllegalArgumentError",
     "evalue": "Invalid user name, password, or redirect_uris: ('Mastodon API returned error', 400, 'Bad Request', 'invalid_grant')",
     "output_type": "error",
     "traceback": [
      "\u001b[0;31m---------------------------------------------------------------------------\u001b[0m",
      "\u001b[0;31mMastodonAPIError\u001b[0m                          Traceback (most recent call last)",
      "File \u001b[0;32m~/projects/pytest-course/venv/lib/python3.11/site-packages/mastodon/authentication.py:328\u001b[0m, in \u001b[0;36mMastodon.log_in\u001b[0;34m(self, username, password, code, redirect_uri, refresh_token, scopes, to_file)\u001b[0m\n\u001b[1;32m    327\u001b[0m \u001b[38;5;28;01mtry\u001b[39;00m:\n\u001b[0;32m--> 328\u001b[0m     response \u001b[38;5;241m=\u001b[39m \u001b[38;5;28;43mself\u001b[39;49m\u001b[38;5;241;43m.\u001b[39;49m\u001b[43m__api_request\u001b[49m\u001b[43m(\u001b[49m\u001b[38;5;124;43m'\u001b[39;49m\u001b[38;5;124;43mPOST\u001b[39;49m\u001b[38;5;124;43m'\u001b[39;49m\u001b[43m,\u001b[49m\u001b[43m \u001b[49m\u001b[38;5;124;43m'\u001b[39;49m\u001b[38;5;124;43m/oauth/token\u001b[39;49m\u001b[38;5;124;43m'\u001b[39;49m\u001b[43m,\u001b[49m\u001b[43m \u001b[49m\u001b[43mparams\u001b[49m\u001b[43m,\u001b[49m\u001b[43m \u001b[49m\u001b[43mdo_ratelimiting\u001b[49m\u001b[38;5;241;43m=\u001b[39;49m\u001b[38;5;28;43;01mFalse\u001b[39;49;00m\u001b[43m)\u001b[49m\n\u001b[1;32m    329\u001b[0m     \u001b[38;5;28mself\u001b[39m\u001b[38;5;241m.\u001b[39maccess_token \u001b[38;5;241m=\u001b[39m response[\u001b[38;5;124m'\u001b[39m\u001b[38;5;124maccess_token\u001b[39m\u001b[38;5;124m'\u001b[39m]\n",
      "File \u001b[0;32m~/projects/pytest-course/venv/lib/python3.11/site-packages/mastodon/internals.py:297\u001b[0m, in \u001b[0;36mMastodon.__api_request\u001b[0;34m(self, method, endpoint, params, files, headers, access_token_override, base_url_override, do_ratelimiting, use_json, parse, return_response_object, skip_error_check, lang_override)\u001b[0m\n\u001b[1;32m    295\u001b[0m             ex_type \u001b[38;5;241m=\u001b[39m MastodonAPIError\n\u001b[0;32m--> 297\u001b[0m         \u001b[38;5;28;01mraise\u001b[39;00m ex_type(\u001b[38;5;124m'\u001b[39m\u001b[38;5;124mMastodon API returned error\u001b[39m\u001b[38;5;124m'\u001b[39m, response_object\u001b[38;5;241m.\u001b[39mstatus_code, response_object\u001b[38;5;241m.\u001b[39mreason, error_msg)\n\u001b[1;32m    299\u001b[0m \u001b[38;5;28;01mif\u001b[39;00m return_response_object:\n",
      "\u001b[0;31mMastodonAPIError\u001b[0m: ('Mastodon API returned error', 400, 'Bad Request', 'invalid_grant')",
      "\nDuring handling of the above exception, another exception occurred:\n",
      "\u001b[0;31mMastodonIllegalArgumentError\u001b[0m              Traceback (most recent call last)",
      "Cell \u001b[0;32mIn[9], line 2\u001b[0m\n\u001b[1;32m      1\u001b[0m password \u001b[38;5;241m=\u001b[39m getpass()\n\u001b[0;32m----> 2\u001b[0m foo \u001b[38;5;241m=\u001b[39m \u001b[43mserver\u001b[49m\u001b[38;5;241;43m.\u001b[39;49m\u001b[43mget_access_token\u001b[49m\u001b[43m(\u001b[49m\u001b[38;5;124;43m\"\u001b[39;49m\u001b[38;5;124;43mfoobar@wersdoerfer.de\u001b[39;49m\u001b[38;5;124;43m\"\u001b[39;49m\u001b[43m,\u001b[49m\u001b[43m \u001b[49m\u001b[43mpassword\u001b[49m\u001b[43m)\u001b[49m\n",
      "File \u001b[0;32m~/projects/pytest-course/venv/lib/python3.11/site-packages/locnus/models.py:43\u001b[0m, in \u001b[0;36mServer.get_access_token\u001b[0;34m(self, username, password)\u001b[0m\n\u001b[1;32m     36\u001b[0m     \u001b[38;5;28mself\u001b[39m\u001b[38;5;241m.\u001b[39mclient \u001b[38;5;241m=\u001b[39m Client\u001b[38;5;241m.\u001b[39mfrom_api_base_url(\u001b[38;5;28mself\u001b[39m\u001b[38;5;241m.\u001b[39mapi_base_url)\n\u001b[1;32m     38\u001b[0m mastodon \u001b[38;5;241m=\u001b[39m Mastodon(\n\u001b[1;32m     39\u001b[0m     client_id\u001b[38;5;241m=\u001b[39m\u001b[38;5;28mself\u001b[39m\u001b[38;5;241m.\u001b[39mclient\u001b[38;5;241m.\u001b[39mremote_id,\n\u001b[1;32m     40\u001b[0m     client_secret\u001b[38;5;241m=\u001b[39m\u001b[38;5;28mself\u001b[39m\u001b[38;5;241m.\u001b[39mclient\u001b[38;5;241m.\u001b[39msecret,\n\u001b[1;32m     41\u001b[0m     api_base_url\u001b[38;5;241m=\u001b[39m\u001b[38;5;28mself\u001b[39m\u001b[38;5;241m.\u001b[39mapi_base_url,\n\u001b[1;32m     42\u001b[0m )\n\u001b[0;32m---> 43\u001b[0m \u001b[38;5;28;01mreturn\u001b[39;00m \u001b[43mmastodon\u001b[49m\u001b[38;5;241;43m.\u001b[39;49m\u001b[43mlog_in\u001b[49m\u001b[43m(\u001b[49m\u001b[43musername\u001b[49m\u001b[43m,\u001b[49m\u001b[43m \u001b[49m\u001b[43mpassword\u001b[49m\u001b[43m)\u001b[49m\n",
      "File \u001b[0;32m~/projects/pytest-course/venv/lib/python3.11/site-packages/mastodon/authentication.py:334\u001b[0m, in \u001b[0;36mMastodon.log_in\u001b[0;34m(self, username, password, code, redirect_uri, refresh_token, scopes, to_file)\u001b[0m\n\u001b[1;32m    332\u001b[0m \u001b[38;5;28;01mexcept\u001b[39;00m \u001b[38;5;167;01mException\u001b[39;00m \u001b[38;5;28;01mas\u001b[39;00m e:\n\u001b[1;32m    333\u001b[0m     \u001b[38;5;28;01mif\u001b[39;00m username \u001b[38;5;129;01mis\u001b[39;00m \u001b[38;5;129;01mnot\u001b[39;00m \u001b[38;5;28;01mNone\u001b[39;00m \u001b[38;5;129;01mor\u001b[39;00m password \u001b[38;5;129;01mis\u001b[39;00m \u001b[38;5;129;01mnot\u001b[39;00m \u001b[38;5;28;01mNone\u001b[39;00m:\n\u001b[0;32m--> 334\u001b[0m         \u001b[38;5;28;01mraise\u001b[39;00m MastodonIllegalArgumentError(\u001b[38;5;124mf\u001b[39m\u001b[38;5;124m'\u001b[39m\u001b[38;5;124mInvalid user name, password, or redirect_uris: \u001b[39m\u001b[38;5;132;01m{\u001b[39;00me\u001b[38;5;132;01m}\u001b[39;00m\u001b[38;5;124m'\u001b[39m)\n\u001b[1;32m    335\u001b[0m     \u001b[38;5;28;01melif\u001b[39;00m code \u001b[38;5;129;01mis\u001b[39;00m \u001b[38;5;129;01mnot\u001b[39;00m \u001b[38;5;28;01mNone\u001b[39;00m:\n\u001b[1;32m    336\u001b[0m         \u001b[38;5;28;01mraise\u001b[39;00m MastodonIllegalArgumentError(\u001b[38;5;124mf\u001b[39m\u001b[38;5;124m'\u001b[39m\u001b[38;5;124mInvalid access token or redirect_uris: \u001b[39m\u001b[38;5;132;01m{\u001b[39;00me\u001b[38;5;132;01m}\u001b[39;00m\u001b[38;5;124m'\u001b[39m)\n",
      "\u001b[0;31mMastodonIllegalArgumentError\u001b[0m: Invalid user name, password, or redirect_uris: ('Mastodon API returned error', 400, 'Bad Request', 'invalid_grant')"
     ]
    }
   ],
   "source": [
    "password = getpass()\n",
    "foo = server.get_access_token(\"foobar@wersdoerfer.de\", password)"
   ]
  },
  {
   "cell_type": "code",
   "execution_count": 4,
   "id": "9979e2a0-0c6f-4fea-bc88-dfff9d393aa5",
   "metadata": {
    "tags": []
   },
   "outputs": [
    {
     "data": {
      "text/plain": [
       "[{'id': 110337689704323135,\n",
       "  'created_at': datetime.datetime(2023, 5, 9, 8, 5, 32, 843000, tzinfo=tzlocal()),\n",
       "  'in_reply_to_id': None,\n",
       "  'in_reply_to_account_id': None,\n",
       "  'sensitive': False,\n",
       "  'spoiler_text': '',\n",
       "  'visibility': 'public',\n",
       "  'language': 'en',\n",
       "  'uri': 'https://mastodon.staging.django-cast.com/users/foobar/statuses/110337689704323135',\n",
       "  'url': 'https://mastodon.staging.django-cast.com/@foobar/110337689704323135',\n",
       "  'replies_count': 0,\n",
       "  'reblogs_count': 0,\n",
       "  'favourites_count': 0,\n",
       "  'edited_at': None,\n",
       "  'content': '<p>hmmm...</p>',\n",
       "  'reblog': None,\n",
       "  'application': None,\n",
       "  'account': {'id': 110337634287190815,\n",
       "   'username': 'foobar',\n",
       "   'acct': 'foobar',\n",
       "   'display_name': 'foobar',\n",
       "   'locked': False,\n",
       "   'bot': False,\n",
       "   'discoverable': None,\n",
       "   'group': False,\n",
       "   'created_at': datetime.datetime(2023, 5, 9, 0, 0, tzinfo=tzlocal()),\n",
       "   'note': '',\n",
       "   'url': 'https://mastodon.staging.django-cast.com/@foobar',\n",
       "   'avatar': 'https://mastodon.staging.django-cast.com/avatars/original/missing.png',\n",
       "   'avatar_static': 'https://mastodon.staging.django-cast.com/avatars/original/missing.png',\n",
       "   'header': 'https://mastodon.staging.django-cast.com/headers/original/missing.png',\n",
       "   'header_static': 'https://mastodon.staging.django-cast.com/headers/original/missing.png',\n",
       "   'followers_count': 0,\n",
       "   'following_count': 0,\n",
       "   'statuses_count': 1,\n",
       "   'last_status_at': datetime.datetime(2023, 5, 9, 0, 0),\n",
       "   'noindex': False,\n",
       "   'emojis': [],\n",
       "   'roles': [],\n",
       "   'fields': []},\n",
       "  'media_attachments': [],\n",
       "  'mentions': [],\n",
       "  'tags': [],\n",
       "  'emojis': [],\n",
       "  'card': None,\n",
       "  'poll': None},\n",
       " {'id': 109388624099016252,\n",
       "  'created_at': datetime.datetime(2022, 11, 22, 17, 25, 40, 965000, tzinfo=tzlocal()),\n",
       "  'in_reply_to_id': None,\n",
       "  'in_reply_to_account_id': None,\n",
       "  'sensitive': False,\n",
       "  'spoiler_text': '',\n",
       "  'visibility': 'public',\n",
       "  'language': 'en',\n",
       "  'uri': 'https://mastodon.staging.django-cast.com/users/jochen/statuses/109388624099016252',\n",
       "  'url': 'https://mastodon.staging.django-cast.com/@jochen/109388624099016252',\n",
       "  'replies_count': 0,\n",
       "  'reblogs_count': 0,\n",
       "  'favourites_count': 0,\n",
       "  'edited_at': None,\n",
       "  'content': '<p>Hmm, writing from toot!</p>',\n",
       "  'reblog': None,\n",
       "  'application': {'name': 'Toot!', 'website': 'https://toot.c3.cx/'},\n",
       "  'account': {'id': 109388471982142447,\n",
       "   'username': 'jochen',\n",
       "   'acct': 'jochen',\n",
       "   'display_name': 'Jochen Wersdörfer (staging)',\n",
       "   'locked': False,\n",
       "   'bot': False,\n",
       "   'discoverable': None,\n",
       "   'group': False,\n",
       "   'created_at': datetime.datetime(2022, 11, 22, 0, 0, tzinfo=tzlocal()),\n",
       "   'note': '',\n",
       "   'url': 'https://mastodon.staging.django-cast.com/@jochen',\n",
       "   'avatar': 'https://mastodon.staging.django-cast.com/avatars/original/missing.png',\n",
       "   'avatar_static': 'https://mastodon.staging.django-cast.com/avatars/original/missing.png',\n",
       "   'header': 'https://mastodon.staging.django-cast.com/headers/original/missing.png',\n",
       "   'header_static': 'https://mastodon.staging.django-cast.com/headers/original/missing.png',\n",
       "   'followers_count': 2,\n",
       "   'following_count': 1,\n",
       "   'statuses_count': 2,\n",
       "   'last_status_at': datetime.datetime(2022, 11, 22, 0, 0),\n",
       "   'noindex': False,\n",
       "   'emojis': [],\n",
       "   'roles': [],\n",
       "   'fields': []},\n",
       "  'media_attachments': [],\n",
       "  'mentions': [],\n",
       "  'tags': [],\n",
       "  'emojis': [],\n",
       "  'card': None,\n",
       "  'poll': None},\n",
       " {'id': 109388489849915151,\n",
       "  'created_at': datetime.datetime(2022, 11, 22, 16, 51, 32, 504000, tzinfo=tzlocal()),\n",
       "  'in_reply_to_id': None,\n",
       "  'in_reply_to_account_id': None,\n",
       "  'sensitive': False,\n",
       "  'spoiler_text': '',\n",
       "  'visibility': 'public',\n",
       "  'language': 'en',\n",
       "  'uri': 'https://mastodon.staging.django-cast.com/users/jochen/statuses/109388489849915151',\n",
       "  'url': 'https://mastodon.staging.django-cast.com/@jochen/109388489849915151',\n",
       "  'replies_count': 0,\n",
       "  'reblogs_count': 0,\n",
       "  'favourites_count': 0,\n",
       "  'edited_at': None,\n",
       "  'content': '<p>Hello World!</p>',\n",
       "  'reblog': None,\n",
       "  'application': None,\n",
       "  'account': {'id': 109388471982142447,\n",
       "   'username': 'jochen',\n",
       "   'acct': 'jochen',\n",
       "   'display_name': 'Jochen Wersdörfer (staging)',\n",
       "   'locked': False,\n",
       "   'bot': False,\n",
       "   'discoverable': None,\n",
       "   'group': False,\n",
       "   'created_at': datetime.datetime(2022, 11, 22, 0, 0, tzinfo=tzlocal()),\n",
       "   'note': '',\n",
       "   'url': 'https://mastodon.staging.django-cast.com/@jochen',\n",
       "   'avatar': 'https://mastodon.staging.django-cast.com/avatars/original/missing.png',\n",
       "   'avatar_static': 'https://mastodon.staging.django-cast.com/avatars/original/missing.png',\n",
       "   'header': 'https://mastodon.staging.django-cast.com/headers/original/missing.png',\n",
       "   'header_static': 'https://mastodon.staging.django-cast.com/headers/original/missing.png',\n",
       "   'followers_count': 2,\n",
       "   'following_count': 1,\n",
       "   'statuses_count': 2,\n",
       "   'last_status_at': datetime.datetime(2022, 11, 22, 0, 0),\n",
       "   'noindex': False,\n",
       "   'emojis': [],\n",
       "   'roles': [],\n",
       "   'fields': []},\n",
       "  'media_attachments': [],\n",
       "  'mentions': [],\n",
       "  'tags': [],\n",
       "  'emojis': [],\n",
       "  'card': None,\n",
       "  'poll': None}]"
      ]
     },
     "execution_count": 4,
     "metadata": {},
     "output_type": "execute_result"
    }
   ],
   "source": [
    "mastodon.timeline_local()"
   ]
  },
  {
   "cell_type": "code",
   "execution_count": null,
   "id": "e654a96e-737b-4bf3-a410-71c8b6ec5337",
   "metadata": {},
   "outputs": [],
   "source": []
  }
 ],
 "metadata": {
  "kernelspec": {
   "display_name": "Django Kernel",
   "language": "python",
   "name": "django_extensions"
  },
  "language_info": {
   "codemirror_mode": {
    "name": "ipython",
    "version": 3
   },
   "file_extension": ".py",
   "mimetype": "text/x-python",
   "name": "python",
   "nbconvert_exporter": "python",
   "pygments_lexer": "ipython3",
   "version": "3.11.3"
  }
 },
 "nbformat": 4,
 "nbformat_minor": 5
}
