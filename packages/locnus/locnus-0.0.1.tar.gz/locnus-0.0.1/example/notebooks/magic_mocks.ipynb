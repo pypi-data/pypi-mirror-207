{
 "cells": [
  {
   "cell_type": "code",
   "execution_count": 1,
   "id": "75875572-0ecc-400f-88e2-64573ed955be",
   "metadata": {
    "tags": []
   },
   "outputs": [],
   "source": [
    "from unittest.mock import MagicMock"
   ]
  },
  {
   "cell_type": "code",
   "execution_count": 2,
   "id": "617f221b-33e6-4255-954b-407334830779",
   "metadata": {
    "tags": []
   },
   "outputs": [],
   "source": [
    "mock = MagicMock()"
   ]
  },
  {
   "cell_type": "code",
   "execution_count": 6,
   "id": "401eb57f-e5a2-4b98-af98-a3062406ecd6",
   "metadata": {
    "tags": []
   },
   "outputs": [
    {
     "data": {
      "text/plain": [
       "<MagicMock name='mock.foobar()' id='4468604880'>"
      ]
     },
     "execution_count": 6,
     "metadata": {},
     "output_type": "execute_result"
    }
   ],
   "source": [
    "mock.foobar()"
   ]
  },
  {
   "cell_type": "code",
   "execution_count": 7,
   "id": "7470cdef-d746-4a44-9c7d-8c728054b19d",
   "metadata": {
    "tags": []
   },
   "outputs": [],
   "source": [
    "mock[\"asdf\"] = \"foo\""
   ]
  },
  {
   "cell_type": "code",
   "execution_count": 8,
   "id": "0865c01e-84bf-4a03-bf77-72d88b698a55",
   "metadata": {
    "tags": []
   },
   "outputs": [
    {
     "data": {
      "text/plain": [
       "<MagicMock name='mock.__getitem__()' id='4468894800'>"
      ]
     },
     "execution_count": 8,
     "metadata": {},
     "output_type": "execute_result"
    }
   ],
   "source": [
    "mock[0]"
   ]
  },
  {
   "cell_type": "code",
   "execution_count": 9,
   "id": "e6b57d49-bea7-4480-8595-7c47b9a248b6",
   "metadata": {
    "tags": []
   },
   "outputs": [
    {
     "data": {
      "text/plain": [
       "['__getitem__',\n",
       " '__setitem__',\n",
       " 'assert_any_call',\n",
       " 'assert_called',\n",
       " 'assert_called_once',\n",
       " 'assert_called_once_with',\n",
       " 'assert_called_with',\n",
       " 'assert_has_calls',\n",
       " 'assert_not_called',\n",
       " 'attach_mock',\n",
       " 'call_args',\n",
       " 'call_args_list',\n",
       " 'call_count',\n",
       " 'called',\n",
       " 'configure_mock',\n",
       " 'foobar',\n",
       " 'method_calls',\n",
       " 'mock_add_spec',\n",
       " 'mock_calls',\n",
       " 'reset_mock',\n",
       " 'return_value',\n",
       " 'side_effect']"
      ]
     },
     "execution_count": 9,
     "metadata": {},
     "output_type": "execute_result"
    }
   ],
   "source": [
    "dir(mock)"
   ]
  },
  {
   "cell_type": "code",
   "execution_count": 10,
   "id": "0db47277-73ef-4699-aaa5-bbe4ee03ea5c",
   "metadata": {
    "tags": []
   },
   "outputs": [
    {
     "data": {
      "text/plain": [
       "[call.foobar(), call.foobar(), call.foobar(), call.foobar()]"
      ]
     },
     "execution_count": 10,
     "metadata": {},
     "output_type": "execute_result"
    }
   ],
   "source": [
    "mock.method_calls"
   ]
  },
  {
   "cell_type": "code",
   "execution_count": 11,
   "id": "6fb18ffc-e01c-4ac0-8a06-fa870ead87ae",
   "metadata": {
    "tags": []
   },
   "outputs": [
    {
     "data": {
      "text/plain": [
       "<MagicMock name='mock.__getitem__()' id='4468894800'>"
      ]
     },
     "execution_count": 11,
     "metadata": {},
     "output_type": "execute_result"
    }
   ],
   "source": [
    "mock[\"asdf\"]"
   ]
  },
  {
   "cell_type": "code",
   "execution_count": null,
   "id": "16851a65-b88b-45a3-9a2f-ff7ef0b96e42",
   "metadata": {},
   "outputs": [],
   "source": []
  }
 ],
 "metadata": {
  "kernelspec": {
   "display_name": "Django Kernel",
   "language": "python",
   "name": "django_extensions"
  },
  "language_info": {
   "codemirror_mode": {
    "name": "ipython",
    "version": 3
   },
   "file_extension": ".py",
   "mimetype": "text/x-python",
   "name": "python",
   "nbconvert_exporter": "python",
   "pygments_lexer": "ipython3",
   "version": "3.11.3"
  }
 },
 "nbformat": 4,
 "nbformat_minor": 5
}
