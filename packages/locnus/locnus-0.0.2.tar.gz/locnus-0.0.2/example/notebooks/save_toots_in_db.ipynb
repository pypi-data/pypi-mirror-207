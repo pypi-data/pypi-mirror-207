{
 "cells": [
  {
   "cell_type": "code",
   "execution_count": 1,
   "id": "3be22a49-0109-4575-9672-1b370a9e288c",
   "metadata": {
    "tags": []
   },
   "outputs": [],
   "source": [
    "from mastodon import Mastodon"
   ]
  },
  {
   "cell_type": "code",
   "execution_count": 2,
   "id": "f87156dc-e08b-440e-8ee5-668c2791a44f",
   "metadata": {
    "tags": []
   },
   "outputs": [],
   "source": [
    "server = Server.objects.get(api_base_url=\"https://fedi.wersdoerfer.de\")\n",
    "mastodon = Mastodon(api_base_url=server.api_base_url)"
   ]
  },
  {
   "cell_type": "code",
   "execution_count": 3,
   "id": "1d212011-ed85-4862-9b8f-fb6d2c48410e",
   "metadata": {
    "tags": []
   },
   "outputs": [],
   "source": [
    "public = mastodon.timeline_public()\n",
    "toot_data = public[0]"
   ]
  },
  {
   "cell_type": "code",
   "execution_count": 4,
   "id": "4cca9534-2828-4f37-968d-b6770b88ebb1",
   "metadata": {
    "tags": []
   },
   "outputs": [
    {
     "data": {
      "text/plain": [
       "{'id': 110333735190167041,\n",
       " 'created_at': datetime.datetime(2023, 5, 8, 15, 19, 51, tzinfo=tzlocal()),\n",
       " 'in_reply_to_id': None,\n",
       " 'in_reply_to_account_id': None,\n",
       " 'sensitive': False,\n",
       " 'spoiler_text': '',\n",
       " 'visibility': 'public',\n",
       " 'language': 'en',\n",
       " 'uri': 'https://hachyderm.io/users/mnl/statuses/110333735151882347',\n",
       " 'url': 'https://hachyderm.io/@mnl/110333735151882347',\n",
       " 'replies_count': 0,\n",
       " 'reblogs_count': 0,\n",
       " 'favourites_count': 0,\n",
       " 'edited_at': None,\n",
       " 'content': '<p>for the <a href=\"https://hachyderm.io/tags/linguistics\" class=\"mention hashtag\" rel=\"nofollow noopener noreferrer\" target=\"_blank\">#<span>linguistics</span></a> peepz out there, as a native french/german speaker, it feels to me that both of these languages (french especially) love to play with words, grammars, registers of language, dialects while english is relatively tame in that area.</p><p>is that just an impression? what are the academic terms for that? how does this playing with language and ideas translate to english? the difference is pretty stark say in hiphop, and there definitely is a difference between british and us.</p>',\n",
       " 'reblog': None,\n",
       " 'account': {'id': 109412080373167098,\n",
       "  'username': 'mnl',\n",
       "  'acct': 'mnl@hachyderm.io',\n",
       "  'display_name': 'mnml mnl (he/him)',\n",
       "  'locked': False,\n",
       "  'bot': False,\n",
       "  'discoverable': True,\n",
       "  'group': False,\n",
       "  'created_at': datetime.datetime(2022, 10, 28, 0, 0, tzinfo=tzlocal()),\n",
       "  'note': '<p>🏴\\u200d☠️ I like computers! Silicon is alive! <a href=\"https://hachyderm.io/tags/actuallyautistic\" class=\"mention hashtag\" rel=\"nofollow noopener noreferrer\" target=\"_blank\">#<span>actuallyautistic</span></a>! All hail abstraction! 🏴\\u200d☠️</p><p>🌺 💐 🌸 he/him 🌸 💐 🌺</p>',\n",
       "  'url': 'https://hachyderm.io/@mnl',\n",
       "  'avatar': 'https://fedi.wersdoerfer.de/system/cache/accounts/avatars/109/412/080/373/167/098/original/aad959771b772533.jpeg',\n",
       "  'avatar_static': 'https://fedi.wersdoerfer.de/system/cache/accounts/avatars/109/412/080/373/167/098/original/aad959771b772533.jpeg',\n",
       "  'header': 'https://fedi.wersdoerfer.de/system/cache/accounts/headers/109/412/080/373/167/098/original/497184c1bf212f40.png',\n",
       "  'header_static': 'https://fedi.wersdoerfer.de/system/cache/accounts/headers/109/412/080/373/167/098/original/497184c1bf212f40.png',\n",
       "  'followers_count': 553,\n",
       "  'following_count': 590,\n",
       "  'statuses_count': 4107,\n",
       "  'last_status_at': datetime.datetime(2023, 5, 8, 0, 0),\n",
       "  'emojis': [],\n",
       "  'fields': [{'name': '❤️ 🖥 🔥 💻',\n",
       "    'value': '<a href=\"https://the.scapegoat.dev\" rel=\"nofollow noopener noreferrer\" target=\"_blank\"><span class=\"invisible\">https://</span><span class=\"\">the.scapegoat.dev</span><span class=\"invisible\"></span></a>',\n",
       "    'verified_at': '2023-04-11T00:23:09.446+00:00'},\n",
       "   {'name': '👾 🧠 🥁 🤖',\n",
       "    'value': '<a href=\"https://dev.to/wesen\" rel=\"nofollow noopener noreferrer\" target=\"_blank\"><span class=\"invisible\">https://</span><span class=\"\">dev.to/wesen</span><span class=\"invisible\"></span></a>',\n",
       "    'verified_at': '2023-04-11T00:23:09.490+00:00'},\n",
       "   {'name': '🙊 📢 ✍🏼 💻',\n",
       "    'value': '<a href=\"https://publish.obsidian.md/manuel\" rel=\"nofollow noopener noreferrer\" target=\"_blank\"><span class=\"invisible\">https://</span><span class=\"\">publish.obsidian.md/manuel</span><span class=\"invisible\"></span></a>',\n",
       "    'verified_at': None},\n",
       "   {'name': '🖋 🖥 📰 ☕️',\n",
       "    'value': '<a href=\"https://write.as/mnmlmnl\" rel=\"nofollow noopener noreferrer\" target=\"_blank\"><span class=\"invisible\">https://</span><span class=\"\">write.as/mnmlmnl</span><span class=\"invisible\"></span></a>',\n",
       "    'verified_at': None}]},\n",
       " 'media_attachments': [],\n",
       " 'mentions': [],\n",
       " 'tags': [{'name': 'linguistics',\n",
       "   'url': 'https://fedi.wersdoerfer.de/tags/linguistics'}],\n",
       " 'emojis': [],\n",
       " 'card': None,\n",
       " 'poll': None}"
      ]
     },
     "execution_count": 4,
     "metadata": {},
     "output_type": "execute_result"
    }
   ],
   "source": [
    "toot_data"
   ]
  },
  {
   "cell_type": "code",
   "execution_count": 5,
   "id": "27d0e470-b2fd-46b1-8fd9-5d923919c2a8",
   "metadata": {
    "tags": []
   },
   "outputs": [
    {
     "data": {
      "text/plain": [
       "<QuerySet []>"
      ]
     },
     "execution_count": 5,
     "metadata": {},
     "output_type": "execute_result"
    }
   ],
   "source": [
    "Timeline.objects.all()"
   ]
  },
  {
   "cell_type": "code",
   "execution_count": 7,
   "id": "23cee110-2a83-48c8-8604-2522f133269f",
   "metadata": {
    "tags": []
   },
   "outputs": [],
   "source": [
    "toot = Toot(created_at=toot_data[\"created_at\"], data=toot_data)"
   ]
  },
  {
   "cell_type": "code",
   "execution_count": 8,
   "id": "5cb3ce30-08bc-4909-8585-6844264c2490",
   "metadata": {
    "tags": []
   },
   "outputs": [],
   "source": [
    "toot.save()"
   ]
  },
  {
   "cell_type": "code",
   "execution_count": 9,
   "id": "93d2cfe8-75ed-4aae-9088-a9b8905db3a0",
   "metadata": {
    "tags": []
   },
   "outputs": [
    {
     "data": {
      "text/plain": [
       "<Toot: Toot object (1)>"
      ]
     },
     "execution_count": 9,
     "metadata": {},
     "output_type": "execute_result"
    }
   ],
   "source": [
    "toot"
   ]
  },
  {
   "cell_type": "code",
   "execution_count": 11,
   "id": "aa5daeca-2382-4d0a-85a0-c9ab5da84870",
   "metadata": {
    "tags": []
   },
   "outputs": [],
   "source": [
    "timeline = Timeline(toot=toot, server=server, tag=Timeline.Tag.PUBLIC)"
   ]
  },
  {
   "cell_type": "code",
   "execution_count": 12,
   "id": "98f25084-67ea-4d31-be71-737d86ec67cc",
   "metadata": {
    "tags": []
   },
   "outputs": [],
   "source": [
    "timeline.save()"
   ]
  },
  {
   "cell_type": "code",
   "execution_count": 15,
   "id": "3a9abb45-83e5-4187-8e97-ba905d7af153",
   "metadata": {
    "tags": []
   },
   "outputs": [
    {
     "data": {
      "text/plain": [
       "{'id': 110333735190167041,\n",
       " 'created_at': datetime.datetime(2023, 5, 8, 15, 19, 51, tzinfo=tzlocal()),\n",
       " 'in_reply_to_id': None,\n",
       " 'in_reply_to_account_id': None,\n",
       " 'sensitive': False,\n",
       " 'spoiler_text': '',\n",
       " 'visibility': 'public',\n",
       " 'language': 'en',\n",
       " 'uri': 'https://hachyderm.io/users/mnl/statuses/110333735151882347',\n",
       " 'url': 'https://hachyderm.io/@mnl/110333735151882347',\n",
       " 'replies_count': 0,\n",
       " 'reblogs_count': 0,\n",
       " 'favourites_count': 0,\n",
       " 'edited_at': None,\n",
       " 'content': '<p>for the <a href=\"https://hachyderm.io/tags/linguistics\" class=\"mention hashtag\" rel=\"nofollow noopener noreferrer\" target=\"_blank\">#<span>linguistics</span></a> peepz out there, as a native french/german speaker, it feels to me that both of these languages (french especially) love to play with words, grammars, registers of language, dialects while english is relatively tame in that area.</p><p>is that just an impression? what are the academic terms for that? how does this playing with language and ideas translate to english? the difference is pretty stark say in hiphop, and there definitely is a difference between british and us.</p>',\n",
       " 'reblog': None,\n",
       " 'account': {'id': 109412080373167098,\n",
       "  'username': 'mnl',\n",
       "  'acct': 'mnl@hachyderm.io',\n",
       "  'display_name': 'mnml mnl (he/him)',\n",
       "  'locked': False,\n",
       "  'bot': False,\n",
       "  'discoverable': True,\n",
       "  'group': False,\n",
       "  'created_at': datetime.datetime(2022, 10, 28, 0, 0, tzinfo=tzlocal()),\n",
       "  'note': '<p>🏴\\u200d☠️ I like computers! Silicon is alive! <a href=\"https://hachyderm.io/tags/actuallyautistic\" class=\"mention hashtag\" rel=\"nofollow noopener noreferrer\" target=\"_blank\">#<span>actuallyautistic</span></a>! All hail abstraction! 🏴\\u200d☠️</p><p>🌺 💐 🌸 he/him 🌸 💐 🌺</p>',\n",
       "  'url': 'https://hachyderm.io/@mnl',\n",
       "  'avatar': 'https://fedi.wersdoerfer.de/system/cache/accounts/avatars/109/412/080/373/167/098/original/aad959771b772533.jpeg',\n",
       "  'avatar_static': 'https://fedi.wersdoerfer.de/system/cache/accounts/avatars/109/412/080/373/167/098/original/aad959771b772533.jpeg',\n",
       "  'header': 'https://fedi.wersdoerfer.de/system/cache/accounts/headers/109/412/080/373/167/098/original/497184c1bf212f40.png',\n",
       "  'header_static': 'https://fedi.wersdoerfer.de/system/cache/accounts/headers/109/412/080/373/167/098/original/497184c1bf212f40.png',\n",
       "  'followers_count': 553,\n",
       "  'following_count': 590,\n",
       "  'statuses_count': 4107,\n",
       "  'last_status_at': datetime.datetime(2023, 5, 8, 0, 0),\n",
       "  'emojis': [],\n",
       "  'fields': [{'name': '❤️ 🖥 🔥 💻',\n",
       "    'value': '<a href=\"https://the.scapegoat.dev\" rel=\"nofollow noopener noreferrer\" target=\"_blank\"><span class=\"invisible\">https://</span><span class=\"\">the.scapegoat.dev</span><span class=\"invisible\"></span></a>',\n",
       "    'verified_at': '2023-04-11T00:23:09.446+00:00'},\n",
       "   {'name': '👾 🧠 🥁 🤖',\n",
       "    'value': '<a href=\"https://dev.to/wesen\" rel=\"nofollow noopener noreferrer\" target=\"_blank\"><span class=\"invisible\">https://</span><span class=\"\">dev.to/wesen</span><span class=\"invisible\"></span></a>',\n",
       "    'verified_at': '2023-04-11T00:23:09.490+00:00'},\n",
       "   {'name': '🙊 📢 ✍🏼 💻',\n",
       "    'value': '<a href=\"https://publish.obsidian.md/manuel\" rel=\"nofollow noopener noreferrer\" target=\"_blank\"><span class=\"invisible\">https://</span><span class=\"\">publish.obsidian.md/manuel</span><span class=\"invisible\"></span></a>',\n",
       "    'verified_at': None},\n",
       "   {'name': '🖋 🖥 📰 ☕️',\n",
       "    'value': '<a href=\"https://write.as/mnmlmnl\" rel=\"nofollow noopener noreferrer\" target=\"_blank\"><span class=\"invisible\">https://</span><span class=\"\">write.as/mnmlmnl</span><span class=\"invisible\"></span></a>',\n",
       "    'verified_at': None}]},\n",
       " 'media_attachments': [],\n",
       " 'mentions': [],\n",
       " 'tags': [{'name': 'linguistics',\n",
       "   'url': 'https://fedi.wersdoerfer.de/tags/linguistics'}],\n",
       " 'emojis': [],\n",
       " 'card': None,\n",
       " 'poll': None}"
      ]
     },
     "execution_count": 15,
     "metadata": {},
     "output_type": "execute_result"
    }
   ],
   "source": [
    "toot_data"
   ]
  },
  {
   "cell_type": "code",
   "execution_count": null,
   "id": "ed91a769-1ffa-453f-b08d-498d7628f4cd",
   "metadata": {},
   "outputs": [],
   "source": []
  }
 ],
 "metadata": {
  "kernelspec": {
   "display_name": "Django Kernel",
   "language": "python",
   "name": "django_extensions"
  },
  "language_info": {
   "codemirror_mode": {
    "name": "ipython",
    "version": 3
   },
   "file_extension": ".py",
   "mimetype": "text/x-python",
   "name": "python",
   "nbconvert_exporter": "python",
   "pygments_lexer": "ipython3",
   "version": "3.11.3"
  }
 },
 "nbformat": 4,
 "nbformat_minor": 5
}
